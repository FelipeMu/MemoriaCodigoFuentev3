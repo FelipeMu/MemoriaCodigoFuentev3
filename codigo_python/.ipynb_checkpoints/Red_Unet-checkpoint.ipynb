{
 "cells": [
  {
   "cell_type": "markdown",
   "metadata": {},
   "source": [
    "**Librerias para trabajar con la red neuronal y procesamiento de datos**"
   ]
  },
  {
   "cell_type": "code",
   "execution_count": 1,
   "metadata": {},
   "outputs": [],
   "source": [
    "import os\n",
    "import numpy as np # type: ignore\n",
    "import scipy.io\n",
    "from scipy.io import loadmat # type: ignore\n",
    "import tensorflow as tf # Para red neuronal profunda\n",
    "import numpy as np\n",
    "import matplotlib.pyplot as plt\n",
    "import time # Para tomar el tiempo de entrenamiento de la red\n",
    "import math"
   ]
  },
  {
   "cell_type": "code",
   "execution_count": 2,
   "metadata": {},
   "outputs": [],
   "source": [
    "os.environ['TF_ENABLE_ONEDNN_OPTS'] = '0'"
   ]
  },
  {
   "cell_type": "markdown",
   "metadata": {},
   "source": [
    "**CONVERTIR MATRICES DE: .mat  --> .npy**"
   ]
  },
  {
   "cell_type": "markdown",
   "metadata": {
    "editable": true,
    "slideshow": {
     "slide_type": ""
    },
    "tags": []
   },
   "source": [
    "Directorios de entrada y salida: ***SUJETOS SANOS Y PACIENTES TEC***\n",
    "\n",
    "**(1) sujetos sanos:** 1_HEMU - 2_DAOC - 3_DASI - 4_DABA - 5_HEFU - 6_JOBO - 7_ROMI - 8_FEGA - 9_GAGO - 10_MIMO - 11_JULE - 12_NIGA - 13_BYLA - 14_ARVA - 15_CLSE - 16_PAAR - 17_VATO - 18_FEBE - 19_VINA - 20_CLHE - 21_MAIN - 22_ALSA - 23_MIRA - 24_LACA - 25_GOAC - 26_ANGL - 27_HC036101\n",
    "___________________________________________________________________________________________________________________________________________________________________________________\n",
    "\n",
    "**(2) pacientes tec:** 1_DENI1005 - 2_KNOW1001 - 3_ALI0 - 4_BUTL - 5_HAGG - 6_HASTI007 - 7_BOAM - 8_DANE0005 - 9_GREG - 10_AITK - 11_RANS0000 - 12_JONES004 - 13_PERR - 14_SLAC - 15_HEPPL010 - 16_RICHS010 - 17_KENT0007 - 18_STAN1002 - 19_MCDON022 - 20_PULL - 21_MORR1002 - 22_PARK - 23_HIGH - 24_NOBL - 25_COWL - 26_KHAN - 27_NOLA"
   ]
  },
  {
   "cell_type": "code",
   "execution_count": 3,
   "metadata": {},
   "outputs": [
    {
     "name": "stdout",
     "output_type": "stream",
     "text": [
      "D:/TT/Memoria/MemoriaCodigoFuentev3/codigo_matlab/codigo_fuente/signals_LDS/SANOS/2_DAOC/PAMnoises_matrixcomplex_mat\n",
      "D:/TT/Memoria/MemoriaCodigoFuentev3/codigo_matlab/codigo_fuente/signals_LDS/SANOS/2_DAOC/VSCdnoises_matrixcomplex_mat\n",
      "D:/TT/Memoria/MemoriaCodigoFuentev3/codigo_matlab/codigo_fuente/signals_LDS/SANOS/2_DAOC/VSCinoises_matrixcomplex_mat\n"
     ]
    }
   ],
   "source": [
    "# Directorios de las matrices complejas (coeficientes) de las senales PAM ,VSCd y VSCi de suejtos sanos o pacientes con tec. Se debe modificar estos directorios para ir\n",
    "# generando los respectivos modelos de cada individuo.\n",
    "\n",
    "# DIRECTORIOS\n",
    "\n",
    "# SUJETO SANO O PACIENTE TEC POR ANALIZAR\n",
    "# DIRECTORIO ejemplo: PACIENTE TEC --> 'TEC/1_DENI1005'\n",
    "persona = 'SANOS/3_DASI'\n",
    "# Sector de la VSC por analizar (derecho o izquierdo):\n",
    "sector = 'derecho'\n",
    "\n",
    " # INPUT PARA LA RED\n",
    "# INPUT PAM\n",
    "input_pam_dir = 'D:/TT/Memoria/MemoriaCodigoFuentev3/codigo_matlab/codigo_fuente/signals_LDS/' + persona + '/PAMnoises_matrixcomplex_mat'\n",
    "# INPUT VSCd\n",
    "input_vscd_dir = 'D:/TT/Memoria/MemoriaCodigoFuentev3/codigo_matlab/codigo_fuente/signals_LDS/' + persona + '/VSCdnoises_matrixcomplex_mat'\n",
    "# INPUT VSCI\n",
    "input_vsci_dir = 'D:/TT/Memoria/MemoriaCodigoFuentev3/codigo_matlab/codigo_fuente/signals_LDS/' + persona + '/VSCinoises_matrixcomplex_mat'\n",
    "\n",
    "# OUTPUT O SALIDAS ESPERADAS PARA LA RED\n",
    "# OUTPUT PAM\n",
    "output_pam_dir = 'D:/TT/Memoria/MemoriaCodigoFuentev3/codigo_matlab/codigo_fuente/signals_LDS/' + persona + '/PAMnoises_matrixcomplex_npy'\n",
    "# OUTPUT PAM\n",
    "output_vscd_dir = 'D:/TT/Memoria/MemoriaCodigoFuentev3/codigo_matlab/codigo_fuente/signals_LDS/' + persona + '/VSCdnoises_matrixcomplex_npy'\n",
    "# OUTPUT PAM\n",
    "output_vsci_dir = 'D:/TT/Memoria/MemoriaCodigoFuentev3/codigo_matlab/codigo_fuente/signals_LDS/' + persona + '/VSCinoises_matrixcomplex_npy'\n",
    "\n",
    "#######################################################################################################################################################\n",
    "#######################################################################################################################################################\n",
    "#######################################################################################################################################################\n",
    "print(input_pam_dir)\n",
    "print(input_vscd_dir)\n",
    "print(input_vsci_dir)"
   ]
  },
  {
   "cell_type": "markdown",
   "metadata": {},
   "source": [
    "Crear los directorios de salida si no existen"
   ]
  },
  {
   "cell_type": "code",
   "execution_count": 4,
   "metadata": {},
   "outputs": [],
   "source": [
    "os.makedirs(output_pam_dir, exist_ok=True) # DIRECTORIO PARA GUARDAR MATRICES COMPLEJAS DE PAM EN FORMATO .npy\n",
    "os.makedirs(output_vscd_dir, exist_ok=True) # DIRECTORIO PARA GUARDAR MATRICES COMPLEJAS DE VSCd EN FORMATO .npy\n",
    "os.makedirs(output_vsci_dir, exist_ok=True) # DIRECTORIO PARA GUARDAR MATRICES COMPLEJAS DE VSCi EN FORMATO .npy"
   ]
  },
  {
   "cell_type": "markdown",
   "metadata": {},
   "source": [
    "Funcion para convertir archivos .mat a .npy"
   ]
  },
  {
   "cell_type": "code",
   "execution_count": 5,
   "metadata": {},
   "outputs": [
    {
     "name": "stdout",
     "output_type": "stream",
     "text": [
      "Total de archivos a analizar ->  50\n"
     ]
    }
   ],
   "source": [
    "total_files=sum(1 for filename in os.listdir(input_pam_dir) if filename.endswith('.mat')) + 1\n",
    "print(\"Total de archivos a analizar -> \",total_files-1)"
   ]
  },
  {
   "cell_type": "code",
   "execution_count": 6,
   "metadata": {},
   "outputs": [],
   "source": [
    "def convert_mat_to_npy(input_dir, output_dir, prefix):\n",
    "    for i in range(1, total_files):\n",
    "        mat_file = os.path.join(input_dir, f'{prefix}_noise_{i}.mat')\n",
    "        npy_file = os.path.join(output_dir, f'{prefix}_noise_{i}.npy')\n",
    "        \n",
    "        # Cargar el archivo .mat\n",
    "        mat_data = loadmat(mat_file)\n",
    "        \n",
    "        # Extraer la matriz compleja\n",
    "        matrix_key = [key for key in mat_data.keys() if not key.startswith('__')][0]\n",
    "        matrix = mat_data[matrix_key]\n",
    "        \n",
    "        # Guardar la matriz en formato .npy\n",
    "        np.save(npy_file, matrix)"
   ]
  },
  {
   "cell_type": "markdown",
   "metadata": {},
   "source": [
    "Convertir archivos .mat a .npy para PAM y VSC"
   ]
  },
  {
   "cell_type": "code",
   "execution_count": 7,
   "metadata": {},
   "outputs": [],
   "source": [
    "convert_mat_to_npy(input_pam_dir, output_pam_dir, 'matrix_complex_pam')\n",
    "convert_mat_to_npy(input_vscd_dir, output_vscd_dir, 'matrix_complex_vscd')\n",
    "convert_mat_to_npy(input_vsci_dir, output_vsci_dir, 'matrix_complex_vsci')"
   ]
  },
  {
   "cell_type": "markdown",
   "metadata": {},
   "source": [
    "**Conversion a tensor tridimensional** (Estructura adecuada para entrenar la red U-net)"
   ]
  },
  {
   "cell_type": "markdown",
   "metadata": {},
   "source": [
    "Directorios salida para matrices con estructura tensor tridimensional"
   ]
  },
  {
   "cell_type": "code",
   "execution_count": 8,
   "metadata": {},
   "outputs": [],
   "source": [
    "input_pam_dir = 'D:/TT/Memoria/MemoriaCodigoFuentev3/codigo_matlab/codigo_fuente/signals_LDS/' + persona + '/PAMnoises_matrixcomplex_npy'\n",
    "input_vscd_dir = 'D:/TT/Memoria/MemoriaCodigoFuentev3/codigo_matlab/codigo_fuente/signals_LDS/' + persona + '/VSCdnoises_matrixcomplex_npy'\n",
    "input_vsci_dir = 'D:/TT/Memoria/MemoriaCodigoFuentev3/codigo_matlab/codigo_fuente/signals_LDS/' + persona + '/VSCinoises_matrixcomplex_npy'\n",
    "\n",
    "output_pam_dir = 'D:/TT/Memoria/MemoriaCodigoFuentev3/codigo_matlab/codigo_fuente/signals_LDS/' + persona + '/PAMnoises_matrixcomplex_npy_tensor3d'\n",
    "output_vscd_dir = 'D:/TT/Memoria/MemoriaCodigoFuentev3/codigo_matlab/codigo_fuente/signals_LDS/' + persona + '/VSCdnoises_matrixcomplex_npy_tensor3d'\n",
    "output_vsci_dir = 'D:/TT/Memoria/MemoriaCodigoFuentev3/codigo_matlab/codigo_fuente/signals_LDS/' + persona + '/VSCinoises_matrixcomplex_npy_tensor3d'"
   ]
  },
  {
   "cell_type": "markdown",
   "metadata": {},
   "source": [
    "Crear directorios de salida si no existen (matrices complejas en forma de tensor tridimensional)"
   ]
  },
  {
   "cell_type": "code",
   "execution_count": 9,
   "metadata": {},
   "outputs": [],
   "source": [
    "os.makedirs(output_pam_dir, exist_ok=True)\n",
    "os.makedirs(output_vscd_dir, exist_ok=True)\n",
    "os.makedirs(output_vsci_dir, exist_ok=True)"
   ]
  },
  {
   "cell_type": "markdown",
   "metadata": {},
   "source": [
    "####################################################\n",
    "PREPROCESAMIENTO ANTES DE NORMALIZACIÓN DE MATRICES\n",
    "####################################################"
   ]
  },
  {
   "cell_type": "markdown",
   "metadata": {},
   "source": [
    "**CÁLCULO DE LA MEDIA - PAM & VSC (la media se calcula teniendo en cuenta todas las matrices)**"
   ]
  },
  {
   "cell_type": "markdown",
   "metadata": {},
   "source": [
    "# Acumuladores para calcular la media de cada matriz (real e imaginaria) y la desviacion estandar\n",
    "\n",
    "#==========================\n",
    "#=== PAM SIGNAl ===========\n",
    "#==========================\n",
    "#===\n",
    "# Para media\n",
    "#===\n",
    "sumatoria_real_pam = 0\n",
    "media_real_pam = 0\n",
    "\n",
    "sumatoria_imag_pam = 0\n",
    "media_imag_pam = 0\n",
    "#===\n",
    "# Para la desviacion estandar\n",
    "#===\n",
    "sumatoria_real_cuadrada_pam = 0\n",
    "sumatoria_imag_cuadrada_pam = 0\n",
    "\n",
    "desv_real_pam = 0\n",
    "desv_imag_pam = 0\n",
    "\n",
    "\n",
    "#==========================\n",
    "#=== VSC SIGNAl ===========\n",
    "#==========================\n",
    "#===\n",
    "# Para media\n",
    "#===\n",
    "sumatoria_real_vsc = 0\n",
    "media_real_vsc = 0\n",
    "\n",
    "sumatoria_imag_vsc = 0\n",
    "media_imag_vsc = 0\n",
    "#===\n",
    "# Para la desviacion estandar\n",
    "#===\n",
    "sumatoria_real_cuadrada_vsc = 0\n",
    "sumatoria_imag_cuadrada_vsc = 0\n",
    "\n",
    "desv_real_vsc = 0\n",
    "desv_imag_vsc = 0\n",
    "\n",
    "\n"
   ]
  },
  {
   "cell_type": "markdown",
   "metadata": {},
   "source": [
    "**FUNCIONES PARA EL CÁLCULO DE LA MEDIA Y DESVIACIÓN ESTÁNDAR PARA LAS SEÑALES [[  PAM  ]]**"
   ]
  },
  {
   "cell_type": "markdown",
   "metadata": {},
   "source": [
    "#Entrada: matriz(array bidimensiional nxm), sumatoria_real_pam(int)\n",
    "#Salida: -\n",
    "#Descripcion: funcion que suma todos los elementos de una matriz (parte real de una matriz compleja PAM)\n",
    "def sumatoria_acumulada_real_pam(matriz):\n",
    "    global sumatoria_real_pam\n",
    "    sumatoria_real_pam = sumatoria_real_pam + np.sum(matriz)\n",
    "    #print(sumatoria_real_pam)\n",
    "\n",
    "#Entrada: matriz(array bidimensiional nxm), sumatoria_real_cuadrada_pam(int)\n",
    "#Salida: -\n",
    "#Descripcion: funcion que tiene como objetivo calcular el (x - u)^2 para su posterior uso en el calculo de la desviacion estandar. \n",
    "#             Con \"x\" cada elementos de la matriz y \"u\" la media de todas las matrices PAM.\n",
    "def sumatoria_acumulada_real_cuadrada_pam(matriz):\n",
    "    global sumatoria_real_cuadrada_pam, media_real_pam\n",
    "    for fila in matriz:\n",
    "        for elemento in fila:\n",
    "            sumatoria_real_cuadrada_pam = sumatoria_real_cuadrada_pam + (elemento - media_real_pam)**2\n",
    "\n",
    "\n",
    "#=====================================================================================================================================================\n",
    "#=====================================================================================================================================================\n",
    "\n",
    "\n",
    "#Entrada: matriz(array bidimensiional nxm), sumatoria_imag_pam(int)\n",
    "#Salida: -\n",
    "#Descripcion: funcion que suma todos los elementos de una matriz (parte imaginaria de una matriz compleja PAM)\n",
    "def sumatoria_acumulada_imag_pam(matriz):\n",
    "    global sumatoria_imag_pam\n",
    "    sumatoria_imag_pam = sumatoria_imag_pam + np.sum(matriz)\n",
    "\n",
    "#Entrada: matriz(array bidimensiional nxm), sumatoria_imag_cuadrada_pam(int)\n",
    "#Salida: -\n",
    "#Descripcion: funcion que tiene como objetivo calcular el (x - u)^2 para su posterior uso en el calculo de la desviacion estandar. \n",
    "#             Con \"x\" cada elementos de la matriz y \"u\" la media de todas las matrices PAM.\n",
    "def sumatoria_acumulada_imag_cuadrada_pam(matriz):\n",
    "    global sumatoria_imag_cuadrada_pam, media_imag_pam\n",
    "    for fila in matriz:\n",
    "        for elemento in fila:\n",
    "            sumatoria_imag_cuadrada_pam = sumatoria_imag_cuadrada_pam + (elemento - media_imag_pam)**2\n",
    "\n",
    "\n"
   ]
  },
  {
   "cell_type": "markdown",
   "metadata": {},
   "source": [
    "**FUNCIONES PARA EL CÁLCULO DE LA MEDIA Y DESVIACIÓN ESTÁNDAR PARA LAS SEÑALES [[  VSC  ]]**"
   ]
  },
  {
   "cell_type": "markdown",
   "metadata": {},
   "source": [
    "#Entrada: matriz(array bidimensiional nxm), sumatoria_real_vsc(int)\n",
    "#Salida: -\n",
    "#Descripcion: funcion que suma todos los elementos de una matriz (parte real de una matriz compleja VSC)\n",
    "def sumatoria_acumulada_real_vsc(matriz):\n",
    "    global sumatoria_real_vsc\n",
    "    sumatoria_real_vsc = sumatoria_real_vsc + np.sum(matriz)\n",
    "\n",
    "\n",
    "#Entrada: matriz(array bidimensiional nxm), sumatoria_real_cuadrada_vsc(int)\n",
    "#Salida: -\n",
    "#Descripcion: funcion que tiene como objetivo calcular el (x - u)^2 para su posterior uso en el calculo de la desviacion estandar. \n",
    "#             Con \"x\" cada elementos de la matriz y \"u\" la media de todas las matrices VSC.\n",
    "def sumatoria_acumulada_real_cuadrada_vsc(matriz):\n",
    "    global sumatoria_real_cuadrada_vsc, media_real_vsc\n",
    "    for fila in matriz:\n",
    "        for elemento in fila:\n",
    "            sumatoria_real_cuadrada_vsc = sumatoria_real_cuadrada_vsc + (elemento - media_real_vsc)**2\n",
    "\n",
    "\n",
    "#=====================================================================================================================================================\n",
    "#=====================================================================================================================================================\n",
    "\n",
    "\n",
    "#Entrada: matriz(array bidimensiional nxm), sumatoria_imag_vsc(int)\n",
    "#Salida: -\n",
    "#Descripcion: funcion que suma todos los elementos de una matriz (parte imaginaria de una matriz compleja VSC)\n",
    "def sumatoria_acumulada_imag_vsc(matriz):\n",
    "    global sumatoria_imag_vsc\n",
    "    sumatoria_imag_vsc = sumatoria_imag_vsc + np.sum(matriz)\n",
    "\n",
    "\n",
    "#Entrada: matriz(array bidimensiional nxm), sumatoria_imag_cuadrada_vsc(int)\n",
    "#Salida: -\n",
    "#Descripcion: funcion que tiene como objetivo calcular el (x - u)^2 para su posterior uso en el calculo de la desviacion estandar. \n",
    "#             Con \"x\" cada elementos de la matriz y \"u\" la media de todas las matrices VSC.\n",
    "def sumatoria_acumulada_imag_cuadrada_vsc(matriz):\n",
    "    global sumatoria_imag_cuadrada_vsc, media_imag_vsc\n",
    "    for fila in matriz:\n",
    "        for elemento in fila:\n",
    "            sumatoria_imag_cuadrada_vsc = sumatoria_imag_cuadrada_vsc + (elemento - media_imag_vsc)**2\n",
    "\n",
    "\n"
   ]
  },
  {
   "cell_type": "markdown",
   "metadata": {},
   "source": [
    "**RECORRER MATRICES & CÁLCULO DE LA MEDIA  MATRIZ PAM (Presion Arterial Media)**"
   ]
  },
  {
   "cell_type": "markdown",
   "metadata": {},
   "source": [
    "for filename in os.listdir(input_pam_dir):\n",
    "    if filename.endswith('.npy'):\n",
    "        # Se obtiene el archivo .npy en el directorio \"input_pam_dir\"\n",
    "        input_path = os.path.join(input_pam_dir, filename)\n",
    "        # Cargar la matriz compleja\n",
    "        matriz_compleja = np.load(input_path)\n",
    "        \n",
    "        #========\n",
    "        # Normalizacion de los matrices\n",
    "        #========\n",
    "        # Sumar todos los datos de las matrices\n",
    "        sumatoria_acumulada_real_pam(matriz_compleja.real) # para matriz real\n",
    "        sumatoria_acumulada_imag_pam(matriz_compleja.imag) # para matriz imaginaria\n",
    "\n",
    "\n",
    "\n",
    "# Se calcula la media real de matrices correspondientes a pam signals: Se suman cada unos de los coeficientes de cada matriz real pam (archivos x filas x columnas)\n",
    "num_files_input_pam_dir = sum(1 for filename in os.listdir(input_pam_dir) if filename.endswith('.npy'))\n",
    "filas_matriz, columnas_matriz = matriz_compleja.shape\n",
    "coefs_totales =  num_files_input_pam_dir * filas_matriz * columnas_matriz # N\n",
    "media_real_pam = sumatoria_real_pam / coefs_totales # MEDIA REAL\n",
    "media_imag_pam = sumatoria_imag_pam / coefs_totales # MEDIA IMAGINARIA\n",
    "\n"
   ]
  },
  {
   "cell_type": "markdown",
   "metadata": {},
   "source": [
    "**RECORRER MATRICES Y CÁLCULO DE LA DESVIACIÓN ESTÁNDAR || MATRIZ PAM (Presion Arterial Media)**"
   ]
  },
  {
   "cell_type": "markdown",
   "metadata": {},
   "source": [
    "for filename in os.listdir(input_pam_dir):\n",
    "    if filename.endswith('.npy'):\n",
    "        # Se obtiene el archivo .npy en el directorio \"input_pam_dir\"\n",
    "        input_path = os.path.join(input_pam_dir, filename)\n",
    "        # Cargar la matriz compleja\n",
    "        matriz_compleja = np.load(input_path)\n",
    "\n",
    "        # Calculo de sumatoria(x - u)^2 - matriz real\n",
    "        sumatoria_acumulada_real_cuadrada_pam(matriz_compleja.real)\n",
    "        # Calculo de sumatoria(x - u)^2 - matriz imaginaria\n",
    "        sumatoria_acumulada_imag_cuadrada_pam(matriz_compleja.imag)\n",
    "\n",
    "# Se calcula de desviacion estandar de las matrices reales e imaginarias\n",
    "desv_real_pam = np.square(sumatoria_real_cuadrada_pam/coefs_totales)\n",
    "desv_imag_pam = np.square(sumatoria_imag_cuadrada_pam/coefs_totales)"
   ]
  },
  {
   "cell_type": "markdown",
   "metadata": {},
   "source": [
    "#==============================================================================================================================\n",
    "#==============================================================================================================================\n",
    "#=============================================================================================================================="
   ]
  },
  {
   "cell_type": "markdown",
   "metadata": {},
   "source": [
    "**RECORRER MATRICES & CÁLCULO DE LA MEDIA MATRIZ VSC (Velocidad Sanguínea Cerebral)**<br>\n",
    "**RECORRER MATRICES Y CÁLCULO DE LA DESVIACIÓN ESTÁNDAR || MATRIZ VSC (Velocidad Sanguínea Cerebral)**"
   ]
  },
  {
   "cell_type": "markdown",
   "metadata": {},
   "source": [
    "if sector == 'derecho':\n",
    "    print('Calculando media y desviacion estandar de VSCd (lado derecho).\\n')\n",
    "    #**RECORRER MATRICES & CÁLCULO DE LA MEDIA MATRIZ VSC (Velocidad Sanguínea Cerebral)**\n",
    "    for filename in os.listdir(input_vscd_dir):\n",
    "        if filename.endswith('.npy'):\n",
    "            # Se obtiene el archivo .npy en el directorio \"input_vsc_dir\"\n",
    "            input_path = os.path.join(input_vscd_dir, filename)\n",
    "            # Cargar la matriz compleja\n",
    "            matriz_compleja = np.load(input_path)\n",
    "            \n",
    "            #========\n",
    "            # Normalizacion de los matrices\n",
    "            #========\n",
    "            # Sumar todos los datos de las matrices\n",
    "            sumatoria_acumulada_real_vsc(matriz_compleja.real) # para matriz real\n",
    "            sumatoria_acumulada_imag_vsc(matriz_compleja.imag) # para matriz imaginaria\n",
    "    \n",
    "    \n",
    "    \n",
    "    # Se calcula la media real de matrices correspondientes a vsc signals: Se suman cada unos de los coeficientes de cada matriz real vsc (archivos x filas x columnas)\n",
    "    num_files_input_vsc_dir = sum(1 for filename in os.listdir(input_vscd_dir) if filename.endswith('.npy'))\n",
    "    media_real_vsc = sumatoria_real_vsc / coefs_totales # MEDIA REAL\n",
    "    media_imag_vsc = sumatoria_imag_vsc / coefs_totales # MEDIA IMAGINARIA\n",
    "    \n",
    "    #**RECORRER MATRICES Y CÁLCULO DE LA DESVIACIÓN ESTÁNDAR || MATRIZ VSC (Velocidad Sanguínea Cerebral)**\n",
    "    for filename in os.listdir(input_vscd_dir):\n",
    "        if filename.endswith('.npy'):\n",
    "            # Se obtiene el archivo .npy en el directorio \"input_vsc_dir\"\n",
    "            input_path = os.path.join(input_vscd_dir, filename)\n",
    "            # Cargar la matriz compleja\n",
    "            matriz_compleja = np.load(input_path)\n",
    "    \n",
    "            # Calculo de sumatoria(x - u)^2 - matriz real\n",
    "            sumatoria_acumulada_real_cuadrada_vsc(matriz_compleja.real)\n",
    "            # Calculo de sumatoria(x - u)^2 - matriz imaginaria\n",
    "            sumatoria_acumulada_imag_cuadrada_vsc(matriz_compleja.imag)\n",
    "    \n",
    "    # Se calcula de desviacion estandar de las matrices reales e imaginarias\n",
    "    desv_real_vsc = np.square(sumatoria_real_cuadrada_vsc/coefs_totales)\n",
    "    desv_imag_vsc = np.square(sumatoria_imag_cuadrada_vsc/coefs_totales)\n",
    "else:\n",
    "    #**RECORRER MATRICES & CÁLCULO DE LA MEDIA MATRIZ VSC (Velocidad Sanguínea Cerebral)**\n",
    "    print('Calculando media y desviacion estandar de VSCi (lado izquierdo).\\n')\n",
    "    for filename in os.listdir(input_vsci_dir):\n",
    "        if filename.endswith('.npy'):\n",
    "            # Se obtiene el archivo .npy en el directorio \"input_vsc_dir\"\n",
    "            input_path = os.path.join(input_vsci_dir, filename)\n",
    "            # Cargar la matriz compleja\n",
    "            matriz_compleja = np.load(input_path)\n",
    "            \n",
    "            #========\n",
    "            # Normalizacion de los matrices\n",
    "            #========\n",
    "            # Sumar todos los datos de las matrices\n",
    "            sumatoria_acumulada_real_vsc(matriz_compleja.real) # para matriz real\n",
    "            sumatoria_acumulada_imag_vsc(matriz_compleja.imag) # para matriz imaginaria\n",
    "    \n",
    "    \n",
    "    \n",
    "    # Se calcula la media real de matrices correspondientes a vsc signals: Se suman cada unos de los coeficientes de cada matriz real vsc (archivos x filas x columnas)\n",
    "    num_files_input_vsc_dir = sum(1 for filename in os.listdir(input_vsci_dir) if filename.endswith('.npy'))\n",
    "    media_real_vsc = sumatoria_real_vsc / coefs_totales # MEDIA REAL\n",
    "    media_imag_vsc = sumatoria_imag_vsc / coefs_totales # MEDIA IMAGINARIA\n",
    "    \n",
    "    #**RECORRER MATRICES Y CÁLCULO DE LA DESVIACIÓN ESTÁNDAR || MATRIZ VSC (Velocidad Sanguínea Cerebral)**\n",
    "    for filename in os.listdir(input_vsci_dir):\n",
    "        if filename.endswith('.npy'):\n",
    "            # Se obtiene el archivo .npy en el directorio \"input_vsc_dir\"\n",
    "            input_path = os.path.join(input_vsci_dir, filename)\n",
    "            # Cargar la matriz compleja\n",
    "            matriz_compleja = np.load(input_path)\n",
    "    \n",
    "            # Calculo de sumatoria(x - u)^2 - matriz real\n",
    "            sumatoria_acumulada_real_cuadrada_vsc(matriz_compleja.real)\n",
    "            # Calculo de sumatoria(x - u)^2 - matriz imaginaria\n",
    "            sumatoria_acumulada_imag_cuadrada_vsc(matriz_compleja.imag)\n",
    "    \n",
    "    # Se calcula de desviacion estandar de las matrices reales e imaginarias\n",
    "    desv_real_vsc = np.square(sumatoria_real_cuadrada_vsc/coefs_totales)\n",
    "    desv_imag_vsc = np.square(sumatoria_imag_cuadrada_vsc/coefs_totales)"
   ]
  },
  {
   "cell_type": "markdown",
   "metadata": {},
   "source": [
    "**APLICACIÓN DE NORMALIZACION A LAS MATRICES PAM Y VSC**"
   ]
  },
  {
   "cell_type": "markdown",
   "metadata": {},
   "source": [
    "##############################################################\n",
    "**NORMALIZACION MIN-MAX**\n",
    "##############################################################"
   ]
  },
  {
   "cell_type": "markdown",
   "metadata": {},
   "source": [
    "min_real_pam = 1000000\n",
    "min_imag_pam = 1000000\n",
    "max_real_pam = -100\n",
    "max_imag_pam = -100\n",
    "\n",
    "min_real_vsc = 1000000\n",
    "min_imag_vsc = 1000000\n",
    "max_real_vsc = -100\n",
    "max_imag_vsc = -100\n"
   ]
  },
  {
   "cell_type": "markdown",
   "metadata": {},
   "source": [
    "\n",
    "#PAM: encontrar min y max de matrices reales e imaginarias\n",
    "def encontrar_min_pam(matriz):\n",
    "    global min_real_pam, min_imag_pam\n",
    "    if np.min(matriz.real) < min_real_pam:\n",
    "        min_real_pam = np.min(matriz.real)\n",
    "\n",
    "    if np.min(matriz.imag) < min_imag_pam:\n",
    "        min_imag_pam = np.min(matriz.imag)\n",
    "\n",
    "\n",
    "def encontrar_max_pam(matriz):\n",
    "    global max_real_pam, max_imag_pam\n",
    "    if np.max(matriz.real) > max_real_pam:\n",
    "        max_real_pam = np.max(matriz.real)\n",
    "\n",
    "    if np.max(matriz.imag) > max_imag_pam:\n",
    "        max_imag_pam = np.max(matriz.imag)\n",
    "\n",
    "\n",
    "\n",
    "\n",
    "#################################################################################################\n",
    "#################################################################################################\n",
    "#################################################################################################\n",
    "\n",
    "\n",
    "#VSC: encontrar min y max de matrices reales e imaginarias\n",
    "\n",
    "def encontrar_min_vsc(matriz):\n",
    "    global min_real_vsc, min_imag_vsc\n",
    "    if np.min(matriz.real) < min_real_vsc:\n",
    "        min_real_vsc = np.min(matriz.real)\n",
    "\n",
    "    if np.min(matriz.imag) < min_imag_vsc:\n",
    "        min_imag_vsc = np.min(matriz.imag)\n",
    "\n",
    "\n",
    "def encontrar_max_vsc(matriz):\n",
    "    global max_real_vsc, max_imag_vsc\n",
    "    if np.max(matriz.real) > max_real_vsc:\n",
    "        max_real_vsc = np.max(matriz.real)\n",
    "\n",
    "    if np.max(matriz.imag) > max_imag_vsc:\n",
    "        max_imag_vsc = np.max(matriz.imag)\n"
   ]
  },
  {
   "cell_type": "markdown",
   "metadata": {},
   "source": [
    "#TESTING MIN-MAX\n",
    "#PAM\n",
    "for filename in os.listdir(input_pam_dir):\n",
    "    if filename.endswith('.npy'):\n",
    "        # Se obtiene el archivo .npy en el directorio \"input_vsc_dir\"\n",
    "        input_path = os.path.join(input_pam_dir, filename)\n",
    "        # Cargar la matriz compleja\n",
    "        matriz_compleja = np.load(input_path)\n",
    "\n",
    "        # Iterando sobre todas las matrices para encontrar el min y max\n",
    "        encontrar_min_pam(matriz_compleja)\n",
    "        encontrar_max_pam(matriz_compleja)\n",
    "\n",
    "#VSC\n",
    "for filename in os.listdir(input_vsc_dir):\n",
    "    if filename.endswith('.npy'):\n",
    "        # Se obtiene el archivo .npy en el directorio \"input_vsc_dir\"\n",
    "        input_path = os.path.join(input_vsc_dir, filename)\n",
    "        # Cargar la matriz compleja\n",
    "        matriz_compleja = np.load(input_path)\n",
    "\n",
    "        # Iterando sobre todas las matrices para encontrar el min y max\n",
    "        encontrar_min_vsc(matriz_compleja)\n",
    "        encontrar_max_vsc(matriz_compleja)\n",
    "        \n",
    "\n",
    "print(min_real_pam)\n",
    "print(min_imag_pam)\n",
    "print(max_real_pam)\n",
    "print(max_imag_pam)\n",
    "\n",
    "print(\"------------\")\n",
    "\n",
    "print(min_real_vsc)\n",
    "print(min_imag_vsc)\n",
    "print(max_real_vsc)\n",
    "print(max_imag_vsc)"
   ]
  },
  {
   "cell_type": "markdown",
   "metadata": {},
   "source": [
    "##############################################################\n",
    "**NORMALIZACION Z-CORE**\n",
    "##############################################################\n",
    "z = (x - u) / desv"
   ]
  },
  {
   "cell_type": "markdown",
   "metadata": {},
   "source": [
    "#Entrada: matriz_compleja PAM (array bidimensional)\n",
    "#Salida: z_real (matriz real de pam normalizada), z_imag (matriz imag de pam normalizada)\n",
    "#Descripcion: funcion encargada de normalizar una matriz pam y retornar las matrices real e imaginarias normalizadas\n",
    "def normalizacion_pam(matriz_compleja):\n",
    "    global media_real_pam, media_imag_pam, desv_real_pam, desv_imag_pam\n",
    "    # Aplicacion de normalziacion z-core || z=(x - u)/desv\n",
    "    z_real = (matriz_compleja.real - media_real_pam) / desv_real_pam # normalizarcion parte real pam\n",
    "    z_imag = (matriz_compleja.imag - media_imag_pam) / desv_imag_pam # normalizacion parte imaginaria pam\n",
    "    return z_real, z_imag\n",
    "\n",
    "#Entrada: matriz_compleja PAM (array bidimensional)\n",
    "#Salida: z_real (matriz real de pam normalizada), z_imag (matriz imag de pam normalizada)\n",
    "#Descripcion: funcion encargada de normalizar una matriz pam y retornar las matrices real e imaginarias normalizadas\n",
    "def normalizacion_vsc(matriz_compleja):\n",
    "    global media_real_vsc, media_imag_vsc, desv_real_vsc, desv_imag_vsc\n",
    "    # Aplicacion de normalziacion z-core || z=(x - u)/desv\n",
    "    z_real = (matriz_compleja.real - media_real_vsc) / desv_real_vsc # normalizarcion parte real pam\n",
    "    z_imag = (matriz_compleja.imag - media_imag_vsc) / desv_imag_vsc # normalizacion parte imaginaria pam\n",
    "    return z_real, z_imag\n"
   ]
  },
  {
   "cell_type": "markdown",
   "metadata": {},
   "source": [
    "**NORMALIZACIÓN MEDIANTE MIN - MAX**<br>\n",
    "Ni = (Xi - Xmin) / (Xmax - Xmin)"
   ]
  },
  {
   "cell_type": "markdown",
   "metadata": {},
   "source": [
    "\n",
    "#Entrada: matriz_compleja (array bidimensional de matriz PAM)\n",
    "#Salida: n_real (matriz real de pam normalizada), n_imag (matriz imag de pam normalizada)\n",
    "#Descripcion: funcion encargada de normalizar una matriz pam y retornar las matrices real e imaginarias normalizadas\n",
    "def normalizacion_minmax_pam(matriz_compleja):\n",
    "    global min_real_pam, max_real_pam, min_imag_pam, max_imag_pam\n",
    "    n_real = (matriz_compleja.real - min_real_pam) / (max_real_pam - min_real_pam)\n",
    "    n_imag = (matriz_compleja.imag - min_imag_pam) / (max_imag_pam - min_imag_pam)\n",
    "    return n_real, n_imag\n",
    "\n",
    "\n",
    "#Entrada: matriz_compleja (array bidimensional de matriz VSC)\n",
    "#Salida: n_real (matriz real de vsc normalizada), n_imag (matriz imag de vsc normalizada)\n",
    "#Descripcion: funcion encargada de normalizar una matriz vsc y retornar las matrices real e imaginarias normalizadas\n",
    "def normalizacion_minmax_vsc(matriz_compleja):\n",
    "    global min_real_vsc, max_real_vsc,  min_imag_vsc, max_imag_vsc\n",
    "    n_real = (matriz_compleja.real - min_real_vsc) / (max_real_vsc - min_real_vsc)\n",
    "    n_imag = (matriz_compleja.imag - min_imag_vsc) / (max_imag_vsc - min_imag_vsc)\n",
    "    return n_real, n_imag\n"
   ]
  },
  {
   "cell_type": "markdown",
   "metadata": {},
   "source": [
    "**PROCESAR MATRICES SEGÚN UNA NORMALIZACIÓN Y ORGANIZAR DATOS PARA LA RED**"
   ]
  },
  {
   "cell_type": "code",
   "execution_count": 10,
   "metadata": {},
   "outputs": [],
   "source": [
    "\n",
    "#Entrada: matriz_compleja (array bidimensional)\n",
    "#Salida: datos_organizados (tensor de datos de la matriz pam)\n",
    "#Descripcion: funcion encargada de normalizar cada matriz pam y definir el input para la red u-net\n",
    "def procesar_matriz_compleja_pam(matriz_compleja):\n",
    "    \n",
    "    # Aplicacion de normalziacion Z-CORE || z = (x - u) / desv\n",
    "    #norm_real, norm_imag = normalizacion_pam(matriz_compleja)\n",
    "\n",
    "    # Aplicacion de normalziacion MIN-MAX || Ni = (Xi - Xmin) / (Xmax - Xmin)\n",
    "    #norm_real, norm_imag = normalizacion_minmax_pam(matriz_compleja)\n",
    "\n",
    "    # Crear input adecuado\n",
    "    #datos_organizados = np.stack((norm_real, norm_imag), axis=-1)\n",
    "    datos_organizados = np.stack((matriz_compleja.real, matriz_compleja.imag), axis=-1)\n",
    "    return datos_organizados\n",
    "\n",
    "\n",
    "\n",
    "\n",
    "\n",
    "#Entrada: matriz_compleja (array bidimensional)\n",
    "#Salida: datos_organizados (tensor de datos de la matriz vsc)\n",
    "#Descripcion: funcion encargada de normalizar cada matriz vsc y definir el input para la red u-net\n",
    "def procesar_matriz_compleja_vsc(matriz_compleja):\n",
    "    \n",
    "    # Aplicacion de normalziacion Z-CORE || z=(x - u)/desv\n",
    "    #norm_real, norm_imag = normalizacion_vsc(matriz_compleja)\n",
    "\n",
    "    # Aplicacion de normalziacion MIN-MAX || Ni = (Xi-Xmin)/(Xmax-Xmin)\n",
    "    #norm_real, norm_imag = normalizacion_minmax_vsc(matriz_compleja)\n",
    "    \n",
    "    # Crear input adecuado\n",
    "    #datos_organizados = np.stack((norm_real, norm_imag), axis=-1)\n",
    "    datos_organizados = np.stack((matriz_compleja.real, matriz_compleja.imag), axis=-1)\n",
    "    return datos_organizados"
   ]
  },
  {
   "cell_type": "markdown",
   "metadata": {},
   "source": [
    "**PROCESAR MATRICES COMPLEJAS EN LA CARPETA input_pam_dir y procesar matrices mediante una normalización**"
   ]
  },
  {
   "cell_type": "code",
   "execution_count": 11,
   "metadata": {},
   "outputs": [],
   "source": [
    "for filename in os.listdir(input_pam_dir):\n",
    "    if filename.endswith('.npy'):\n",
    "        input_path = os.path.join(input_pam_dir, filename)\n",
    "        output_path = os.path.join(output_pam_dir, filename)\n",
    "        \n",
    "        # Cargar la matriz compleja\n",
    "        matriz_compleja = np.load(input_path)\n",
    "        \n",
    "        # Procesar la matriz compleja segun una normalizacion\n",
    "        datos_organizados = procesar_matriz_compleja_pam(matriz_compleja)\n",
    "        \n",
    "        # Guardar los datos procesados\n",
    "        np.save(output_path, datos_organizados)"
   ]
  },
  {
   "cell_type": "markdown",
   "metadata": {},
   "source": [
    "**PROCESAR MATRICES COMPLEJAS EN LA CARPETA input_vscd_dir**"
   ]
  },
  {
   "cell_type": "code",
   "execution_count": 12,
   "metadata": {},
   "outputs": [
    {
     "name": "stdout",
     "output_type": "stream",
     "text": [
      "Procesamiento completado: VSCi lado izquierdo.\n"
     ]
    }
   ],
   "source": [
    "if sector == 'derecho':\n",
    "    for filename in os.listdir(input_vscd_dir):\n",
    "        if filename.endswith('.npy'):\n",
    "            input_path = os.path.join(input_vscd_dir, filename)\n",
    "            output_path = os.path.join(output_vscd_dir, filename)\n",
    "            \n",
    "            # Cargar la matriz compleja\n",
    "            matriz_compleja = np.load(input_path)\n",
    "            \n",
    "            # Procesar la matriz compleja segun una normalizacion\n",
    "            datos_organizados = procesar_matriz_compleja_vsc(matriz_compleja)\n",
    "            \n",
    "            # Guardar los datos procesados\n",
    "            np.save(output_path, datos_organizados)\n",
    "            \n",
    "    print(\"Procesamiento completado: VSCd lado derecho.\")\n",
    "    \n",
    "else:    \n",
    "    for filename in os.listdir(input_vsci_dir):\n",
    "        if filename.endswith('.npy'):\n",
    "            input_path = os.path.join(input_vsci_dir, filename)\n",
    "            output_path = os.path.join(output_vsci_dir, filename)\n",
    "            \n",
    "            # Cargar la matriz compleja\n",
    "            matriz_compleja = np.load(input_path)\n",
    "            \n",
    "            # Procesar la matriz compleja segun una normalizacion\n",
    "            datos_organizados = procesar_matriz_compleja_vsc(matriz_compleja)\n",
    "            \n",
    "            # Guardar los datos procesados\n",
    "            np.save(output_path, datos_organizados)\n",
    "            \n",
    "    print(\"Procesamiento completado: VSCi lado izquierdo.\")"
   ]
  },
  {
   "cell_type": "markdown",
   "metadata": {},
   "source": [
    "**Verificacion de \"shape\" - matrices pam y vsc**"
   ]
  },
  {
   "cell_type": "markdown",
   "metadata": {},
   "source": [
    "Directorios de salida a verificar"
   ]
  },
  {
   "cell_type": "code",
   "execution_count": 13,
   "metadata": {},
   "outputs": [],
   "source": [
    "output_pam_dir_check = 'D:/TT/Memoria/MemoriaCodigoFuentev3/codigo_matlab/codigo_fuente/signals_LDS/' + persona + '/PAMnoises_matrixcomplex_npy_tensor3d'\n",
    "output_vscd_dir_check = 'D:/TT/Memoria/MemoriaCodigoFuentev3/codigo_matlab/codigo_fuente/signals_LDS/' + persona + '/VSCdnoises_matrixcomplex_npy_tensor3d'\n",
    "output_vsci_dir_check = 'D:/TT/Memoria/MemoriaCodigoFuentev3/codigo_matlab/codigo_fuente/signals_LDS/' + persona + '/VSCinoises_matrixcomplex_npy_tensor3d'"
   ]
  },
  {
   "cell_type": "markdown",
   "metadata": {},
   "source": [
    "Funcion para verificar la forma de una matriz"
   ]
  },
  {
   "cell_type": "code",
   "execution_count": 14,
   "metadata": {},
   "outputs": [],
   "source": [
    "def verificar_shape(directorio, nombre_archivo):\n",
    "    path = os.path.join(directorio, nombre_archivo)\n",
    "    matriz = np.load(path)\n",
    "    return matriz.shape"
   ]
  },
  {
   "cell_type": "markdown",
   "metadata": {},
   "source": [
    "Verificar la forma de un archivo de ejemplo en output_pam_dir_check"
   ]
  },
  {
   "cell_type": "code",
   "execution_count": 15,
   "metadata": {},
   "outputs": [
    {
     "name": "stdout",
     "output_type": "stream",
     "text": [
      "Shape de matrix_complex_pam_noise_1.npy en D:/TT/Memoria/MemoriaCodigoFuentev3/codigo_matlab/codigo_fuente/signals_LDS/SANOS/2_DAOC/PAMnoises_matrixcomplex_npy_tensor3d: (36, 1024, 2)\n"
     ]
    }
   ],
   "source": [
    "ejemplo_pam = os.listdir(output_pam_dir_check)[0]  # Obtener el primer archivo de la carpeta\n",
    "shape_pam = verificar_shape(output_pam_dir_check, ejemplo_pam)\n",
    "print(f\"Shape de {ejemplo_pam} en {output_pam_dir_check}: {shape_pam}\")"
   ]
  },
  {
   "cell_type": "markdown",
   "metadata": {},
   "source": [
    "Verificar la forma de un archivo de ejemplo en output_vscd_dir_check o output_vsci_dir_check"
   ]
  },
  {
   "cell_type": "code",
   "execution_count": 16,
   "metadata": {},
   "outputs": [
    {
     "name": "stdout",
     "output_type": "stream",
     "text": [
      "Shape de matrix_complex_vsci_noise_1.npy en D:/TT/Memoria/MemoriaCodigoFuentev3/codigo_matlab/codigo_fuente/signals_LDS/SANOS/2_DAOC/VSCinoises_matrixcomplex_npy_tensor3d: (36, 1024, 2)\n"
     ]
    }
   ],
   "source": [
    "if sector == 'derecho':\n",
    "    ejemplo_vscd = os.listdir(output_vscd_dir_check)[0]  # Obtener el primer archivo de la carpeta\n",
    "    shape_vscd = verificar_shape(output_vscd_dir_check, ejemplo_vscd)\n",
    "    print(f\"Shape de {ejemplo_vscd} en {output_vscd_dir_check}: {shape_vscd}\")\n",
    "else:   \n",
    "    ejemplo_vsci = os.listdir(output_vsci_dir_check)[0]  # Obtener el primer archivo de la carpeta\n",
    "    shape_vsci = verificar_shape(output_vsci_dir_check, ejemplo_vsci)\n",
    "    print(f\"Shape de {ejemplo_vsci} en {output_vsci_dir_check}: {shape_vsci}\")"
   ]
  },
  {
   "cell_type": "markdown",
   "metadata": {},
   "source": [
    "************************************************************************ *Red Neuronal Profunda: U-net* ***************************************************************************"
   ]
  },
  {
   "cell_type": "markdown",
   "metadata": {},
   "source": [
    "Directorios de entrada"
   ]
  },
  {
   "cell_type": "code",
   "execution_count": 17,
   "metadata": {},
   "outputs": [],
   "source": [
    "# SENAL PAM\n",
    "input_pam_dir = 'D:/TT/Memoria/MemoriaCodigoFuentev3/codigo_matlab/codigo_fuente/signals_LDS/' + persona + '/PAMnoises_matrixcomplex_npy_tensor3d'\n",
    "# VSC LADO DERECHO\n",
    "output_vscd_dir = 'D:/TT/Memoria/MemoriaCodigoFuentev3/codigo_matlab/codigo_fuente/signals_LDS/' + persona + '/VSCdnoises_matrixcomplex_npy_tensor3d'\n",
    "# VSC LADO IZQUIERDO\n",
    "output_vsci_dir = 'D:/TT/Memoria/MemoriaCodigoFuentev3/codigo_matlab/codigo_fuente/signals_LDS/' + persona + '/VSCinoises_matrixcomplex_npy_tensor3d'"
   ]
  },
  {
   "cell_type": "markdown",
   "metadata": {},
   "source": [
    "Funcion para cargar los archivos .npy"
   ]
  },
  {
   "cell_type": "code",
   "execution_count": 18,
   "metadata": {},
   "outputs": [],
   "source": [
    "def load_npy_files(input_dir):\n",
    "    files = sorted([os.path.join(input_dir, f) for f in os.listdir(input_dir) if f.endswith('.npy')])\n",
    "     # verificar orden con que entrar los archivos en X e Y\n",
    "    file_names = [os.path.basename(f) for f in files]\n",
    "    print(f\"Archivos: {file_names}\\n\")\n",
    "    data = [np.load(f) for f in files]\n",
    "    return np.array(data)"
   ]
  },
  {
   "cell_type": "markdown",
   "metadata": {},
   "source": [
    "CARGA DE DATOS DE ENTRADAS Y SALIDAS PARA LA RED (X: INPUTS; Y: OUTPUTS)"
   ]
  },
  {
   "cell_type": "code",
   "execution_count": 19,
   "metadata": {},
   "outputs": [
    {
     "name": "stdout",
     "output_type": "stream",
     "text": [
      "Archivos: ['matrix_complex_pam_noise_1.npy', 'matrix_complex_pam_noise_10.npy', 'matrix_complex_pam_noise_11.npy', 'matrix_complex_pam_noise_12.npy', 'matrix_complex_pam_noise_13.npy', 'matrix_complex_pam_noise_14.npy', 'matrix_complex_pam_noise_15.npy', 'matrix_complex_pam_noise_16.npy', 'matrix_complex_pam_noise_17.npy', 'matrix_complex_pam_noise_18.npy', 'matrix_complex_pam_noise_19.npy', 'matrix_complex_pam_noise_2.npy', 'matrix_complex_pam_noise_20.npy', 'matrix_complex_pam_noise_21.npy', 'matrix_complex_pam_noise_22.npy', 'matrix_complex_pam_noise_23.npy', 'matrix_complex_pam_noise_24.npy', 'matrix_complex_pam_noise_25.npy', 'matrix_complex_pam_noise_26.npy', 'matrix_complex_pam_noise_27.npy', 'matrix_complex_pam_noise_28.npy', 'matrix_complex_pam_noise_29.npy', 'matrix_complex_pam_noise_3.npy', 'matrix_complex_pam_noise_30.npy', 'matrix_complex_pam_noise_31.npy', 'matrix_complex_pam_noise_32.npy', 'matrix_complex_pam_noise_33.npy', 'matrix_complex_pam_noise_34.npy', 'matrix_complex_pam_noise_35.npy', 'matrix_complex_pam_noise_36.npy', 'matrix_complex_pam_noise_37.npy', 'matrix_complex_pam_noise_38.npy', 'matrix_complex_pam_noise_39.npy', 'matrix_complex_pam_noise_4.npy', 'matrix_complex_pam_noise_40.npy', 'matrix_complex_pam_noise_41.npy', 'matrix_complex_pam_noise_42.npy', 'matrix_complex_pam_noise_43.npy', 'matrix_complex_pam_noise_44.npy', 'matrix_complex_pam_noise_45.npy', 'matrix_complex_pam_noise_46.npy', 'matrix_complex_pam_noise_47.npy', 'matrix_complex_pam_noise_48.npy', 'matrix_complex_pam_noise_49.npy', 'matrix_complex_pam_noise_5.npy', 'matrix_complex_pam_noise_50.npy', 'matrix_complex_pam_noise_6.npy', 'matrix_complex_pam_noise_7.npy', 'matrix_complex_pam_noise_8.npy', 'matrix_complex_pam_noise_9.npy']\n",
      "\n",
      "Archivos: ['matrix_complex_vsci_noise_1.npy', 'matrix_complex_vsci_noise_10.npy', 'matrix_complex_vsci_noise_11.npy', 'matrix_complex_vsci_noise_12.npy', 'matrix_complex_vsci_noise_13.npy', 'matrix_complex_vsci_noise_14.npy', 'matrix_complex_vsci_noise_15.npy', 'matrix_complex_vsci_noise_16.npy', 'matrix_complex_vsci_noise_17.npy', 'matrix_complex_vsci_noise_18.npy', 'matrix_complex_vsci_noise_19.npy', 'matrix_complex_vsci_noise_2.npy', 'matrix_complex_vsci_noise_20.npy', 'matrix_complex_vsci_noise_21.npy', 'matrix_complex_vsci_noise_22.npy', 'matrix_complex_vsci_noise_23.npy', 'matrix_complex_vsci_noise_24.npy', 'matrix_complex_vsci_noise_25.npy', 'matrix_complex_vsci_noise_26.npy', 'matrix_complex_vsci_noise_27.npy', 'matrix_complex_vsci_noise_28.npy', 'matrix_complex_vsci_noise_29.npy', 'matrix_complex_vsci_noise_3.npy', 'matrix_complex_vsci_noise_30.npy', 'matrix_complex_vsci_noise_31.npy', 'matrix_complex_vsci_noise_32.npy', 'matrix_complex_vsci_noise_33.npy', 'matrix_complex_vsci_noise_34.npy', 'matrix_complex_vsci_noise_35.npy', 'matrix_complex_vsci_noise_36.npy', 'matrix_complex_vsci_noise_37.npy', 'matrix_complex_vsci_noise_38.npy', 'matrix_complex_vsci_noise_39.npy', 'matrix_complex_vsci_noise_4.npy', 'matrix_complex_vsci_noise_40.npy', 'matrix_complex_vsci_noise_41.npy', 'matrix_complex_vsci_noise_42.npy', 'matrix_complex_vsci_noise_43.npy', 'matrix_complex_vsci_noise_44.npy', 'matrix_complex_vsci_noise_45.npy', 'matrix_complex_vsci_noise_46.npy', 'matrix_complex_vsci_noise_47.npy', 'matrix_complex_vsci_noise_48.npy', 'matrix_complex_vsci_noise_49.npy', 'matrix_complex_vsci_noise_5.npy', 'matrix_complex_vsci_noise_50.npy', 'matrix_complex_vsci_noise_6.npy', 'matrix_complex_vsci_noise_7.npy', 'matrix_complex_vsci_noise_8.npy', 'matrix_complex_vsci_noise_9.npy']\n",
      "\n",
      "Modelo para VSC: sector izquierdo del cerebro.\n",
      "\n",
      "Abreviacion de sector a estudiar: vsci\n"
     ]
    }
   ],
   "source": [
    "# Se identifica que sector del cerebro se desea analizar:\n",
    "lado = ''\n",
    "if sector == 'derecho':\n",
    "    X = load_npy_files(input_pam_dir) # inputs\n",
    "    Y = load_npy_files(output_vscd_dir) # outputs\n",
    "    lado = 'vscd'\n",
    "    print('Modelo para VSC: sector derecho del cerebro.\\n')\n",
    "else:\n",
    "    X = load_npy_files(input_pam_dir) # inputs\n",
    "    Y = load_npy_files(output_vsci_dir) # outputs\n",
    "    lado = 'vsci'\n",
    "    print('Modelo para VSC: sector izquierdo del cerebro.\\n')\n",
    "print('Abreviacion de sector a estudiar:', lado)"
   ]
  },
  {
   "cell_type": "markdown",
   "metadata": {},
   "source": [
    "Verificar las formas de los datos cargados (# entradas, filas, columnas, canales)"
   ]
  },
  {
   "cell_type": "code",
   "execution_count": 20,
   "metadata": {},
   "outputs": [
    {
     "name": "stdout",
     "output_type": "stream",
     "text": [
      "Shape de los inputs (X): (50, 36, 1024, 2)\n",
      "Shape de los outputs (Y): (50, 36, 1024, 2)\n"
     ]
    }
   ],
   "source": [
    "print(f\"Shape de los inputs (X): {X.shape}\")\n",
    "print(f\"Shape de los outputs (Y): {Y.shape}\")"
   ]
  },
  {
   "cell_type": "markdown",
   "metadata": {},
   "source": [
    "Definir la U-Net con regularizacion L2"
   ]
  },
  {
   "cell_type": "code",
   "execution_count": 21,
   "metadata": {},
   "outputs": [],
   "source": [
    "'''\n",
    "def unet_model_with_l2(input_shape, l2_lambda):\n",
    "    inputs = tf.keras.Input(shape=input_shape)\n",
    "    \n",
    "    # Regularizer\n",
    "    l2_reg = tf.keras.regularizers.l2(l2_lambda)\n",
    "    \n",
    "    # Encoder\n",
    "    c1 = tf.keras.layers.Conv2D(64, (3, 3), activation='relu', padding='same', kernel_regularizer=l2_reg)(inputs)\n",
    "    c1 = tf.keras.layers.Conv2D(64, (3, 3), activation='relu', padding='same', kernel_regularizer=l2_reg)(c1)\n",
    "    p1 = tf.keras.layers.MaxPooling2D((2, 2))(c1)\n",
    "    \n",
    "    c2 = tf.keras.layers.Conv2D(128, (3, 3), activation='relu', padding='same', kernel_regularizer=l2_reg)(p1)\n",
    "    c2 = tf.keras.layers.Conv2D(128, (3, 3), activation='relu', padding='same', kernel_regularizer=l2_reg)(c2)\n",
    "    p2 = tf.keras.layers.MaxPooling2D((2, 2))(c2)\n",
    "    \n",
    "    # Bottleneck\n",
    "    c3 = tf.keras.layers.Conv2D(256, (3, 3), activation='relu', padding='same', kernel_regularizer=l2_reg)(p2)\n",
    "    c3 = tf.keras.layers.Conv2D(256, (3, 3), activation='relu', padding='same', kernel_regularizer=l2_reg)(c3)\n",
    "    \n",
    "    # Decoder\n",
    "    u4 = tf.keras.layers.Conv2DTranspose(128, (2, 2), strides=(2, 2), padding='same')(c3)\n",
    "    u4 = tf.keras.layers.concatenate([u4, c2])\n",
    "    c4 = tf.keras.layers.Conv2D(128, (3, 3), activation='relu', padding='same', kernel_regularizer=l2_reg)(u4)\n",
    "    c4 = tf.keras.layers.Conv2D(128, (3, 3), activation='relu', padding='same', kernel_regularizer=l2_reg)(c4)\n",
    "    \n",
    "    u5 = tf.keras.layers.Conv2DTranspose(64, (2, 2), strides=(2, 2), padding='same')(c4)\n",
    "    u5 = tf.keras.layers.concatenate([u5, c1])\n",
    "    c5 = tf.keras.layers.Conv2D(64, (3, 3), activation='relu', padding='same', kernel_regularizer=l2_reg)(u5)\n",
    "    c5 = tf.keras.layers.Conv2D(64, (3, 3), activation='relu', padding='same', kernel_regularizer=l2_reg)(c5)\n",
    "    \n",
    "    outputs = tf.keras.layers.Conv2D(2, (1, 1), activation='linear')(c5)\n",
    "    \n",
    "    model = tf.keras.Model(inputs=[inputs], outputs=[outputs])\n",
    "    \n",
    "    return model\n",
    "'''\n",
    "\n",
    "def unet_model(input_shape):\n",
    "    inputs = tf.keras.Input(shape=input_shape)\n",
    "    \n",
    "    # Regularizer\n",
    "    #l2_reg = tf.keras.regularizers.l2(l2_lambda)\n",
    "    \n",
    "    # Encoder\n",
    "    c1 = tf.keras.layers.Conv2D(64, (3, 3), activation='relu', padding='same')(inputs) #filtro original=64\n",
    "    c1 = tf.keras.layers.Conv2D(64, (3, 3), activation='relu', padding='same')(c1) #filtro original=64\n",
    "    p1 = tf.keras.layers.MaxPooling2D((2, 2))(c1)\n",
    "    \n",
    "    c2 = tf.keras.layers.Conv2D(128, (3, 3), activation='relu', padding='same')(p1) #filtro original=128\n",
    "    c2 = tf.keras.layers.Conv2D(128, (3, 3), activation='relu', padding='same')(c2) #filtro original=128\n",
    "    p2 = tf.keras.layers.MaxPooling2D((2, 2))(c2)\n",
    "    \n",
    "    # Bottleneck\n",
    "    c3 = tf.keras.layers.Conv2D(256, (3, 3), activation='relu', padding='same')(p2) #filtro original=256\n",
    "    c3 = tf.keras.layers.Conv2D(256, (3, 3), activation='relu', padding='same')(c3) #filtro original=256\n",
    "    \n",
    "    # Decoder\n",
    "    u4 = tf.keras.layers.Conv2DTranspose(128, (2, 2), strides=(2, 2), padding='same')(c3) #filtro original=128\n",
    "    u4 = tf.keras.layers.concatenate([u4, c2])\n",
    "    c4 = tf.keras.layers.Conv2D(128, (3, 3), activation='relu', padding='same')(u4) #filtro original=128\n",
    "    c4 = tf.keras.layers.Conv2D(128, (3, 3), activation='relu', padding='same')(c4) #filtro original=128\n",
    "    \n",
    "    u5 = tf.keras.layers.Conv2DTranspose(64, (2, 2), strides=(2, 2), padding='same')(c4) #filtro original=64\n",
    "    u5 = tf.keras.layers.concatenate([u5, c1])\n",
    "    c5 = tf.keras.layers.Conv2D(64, (3, 3), activation='relu', padding='same')(u5) #filtro original=64\n",
    "    c5 = tf.keras.layers.Conv2D(64, (3, 3), activation='relu', padding='same')(c5) #filtro original=64\n",
    "    \n",
    "    outputs = tf.keras.layers.Conv2D(2, (1, 1), activation='linear')(c5)\n",
    "    \n",
    "    model = tf.keras.Model(inputs=[inputs], outputs=[outputs])\n",
    "    \n",
    "    return model"
   ]
  },
  {
   "cell_type": "markdown",
   "metadata": {},
   "source": [
    "Definir la metrica NMSE ajustada para utilizar la varianza de los valores verdaderos"
   ]
  },
  {
   "cell_type": "code",
   "execution_count": 22,
   "metadata": {},
   "outputs": [],
   "source": [
    "def nmse(y_true, y_pred):\n",
    "    mse = tf.keras.backend.mean(tf.keras.backend.square(y_true - y_pred))\n",
    "    var_true = tf.keras.backend.var(y_true)\n",
    "    return mse / var_true"
   ]
  },
  {
   "cell_type": "markdown",
   "metadata": {
    "tags": []
   },
   "source": [
    "**HIPERPARAMETROS**"
   ]
  },
  {
   "cell_type": "code",
   "execution_count": 23,
   "metadata": {},
   "outputs": [],
   "source": [
    "max_epoch = 200\n",
    "batchsize = 8\n",
    "learning_rate = 0.0001\n",
    "#l2_lambda = 0.01\n",
    "validation_split = 0.2 # 80% entrenamiento & 20% validacion\n",
    "\n",
    "\n",
    " # alpha: el lr min al que llegara el decaimiento sera el 10% del lr inicia\n",
    "#alpha = 0.1\n",
    "# decay steps: Numero de pasos de entrenamiento tras los cuales el learning rate decaera desde su valor inicial hasta el valor final determinado por alpha\n",
    "#decay_steps = (int(X.shape[0]/batchsize))*max_epoch \n",
    "#print(\"Total pasos de decaimiento ->\",decay_steps, \"pasos.\")"
   ]
  },
  {
   "cell_type": "markdown",
   "metadata": {},
   "source": [
    "**CREACIÓN DEL MODELO U-NET**"
   ]
  },
  {
   "cell_type": "code",
   "execution_count": 24,
   "metadata": {},
   "outputs": [],
   "source": [
    "input_shape = X.shape[1:]  # forma del input a entrar. en este caso esta forma debe coincidir con las matrices que entran a la red tensor X = [#inputs, columnas, filas, canales]. Se omite #inputs\n",
    "model = unet_model(input_shape)"
   ]
  },
  {
   "cell_type": "markdown",
   "metadata": {},
   "source": [
    "**DEFINICION DE LA FUNCION DE DECAIMIENTO, ALGORITMO OPTIMIZADOR, FUNCION DE PERDIDA Y METRICA**"
   ]
  },
  {
   "cell_type": "markdown",
   "metadata": {},
   "source": [
    "#funcion decaimiento de coseno\n",
    "decay_cosine = tf.keras.experimental.CosineDecay(learning_rate, decay_steps)\n",
    "def lr_schedule(X):\n",
    "    return float(decay_cosine(X))\n",
    "    \n",
    "\n",
    "lr_scheduler = tf.keras.callbacks.LearningRateScheduler(lr_schedule)"
   ]
  },
  {
   "cell_type": "code",
   "execution_count": 25,
   "metadata": {},
   "outputs": [],
   "source": [
    "optimizer = tf.keras.optimizers.Adam(learning_rate)\n",
    "model.compile(optimizer='adam', loss='mean_squared_error', metrics=[nmse])"
   ]
  },
  {
   "cell_type": "markdown",
   "metadata": {},
   "source": [
    "#########################################################################################################<br>\n",
    "#########################################################################################################<br>\n",
    "#########################################################################################################"
   ]
  },
  {
   "cell_type": "markdown",
   "metadata": {},
   "source": [
    "ENTRENAMIENTO DE LA RED"
   ]
  },
  {
   "cell_type": "code",
   "execution_count": 26,
   "metadata": {},
   "outputs": [
    {
     "name": "stdout",
     "output_type": "stream",
     "text": [
      "Epoch 1/200\n",
      "5/5 [==============================] - 28s 5s/step - loss: 0.8108 - nmse: 0.8865 - val_loss: 0.7321 - val_nmse: 0.8003\n",
      "Epoch 2/200\n",
      "5/5 [==============================] - 26s 5s/step - loss: 0.7278 - nmse: 0.7949 - val_loss: 0.7097 - val_nmse: 0.7749\n",
      "Epoch 3/200\n",
      "5/5 [==============================] - 32s 7s/step - loss: 0.6983 - nmse: 0.7628 - val_loss: 0.6645 - val_nmse: 0.7275\n",
      "Epoch 4/200\n",
      "5/5 [==============================] - 31s 6s/step - loss: 0.6583 - nmse: 0.7189 - val_loss: 0.6320 - val_nmse: 0.6924\n",
      "Epoch 5/200\n",
      "5/5 [==============================] - 30s 6s/step - loss: 0.6017 - nmse: 0.6573 - val_loss: 0.5523 - val_nmse: 0.6077\n",
      "Epoch 6/200\n",
      "5/5 [==============================] - 31s 6s/step - loss: 0.5350 - nmse: 0.5830 - val_loss: 0.4871 - val_nmse: 0.5374\n",
      "Epoch 7/200\n",
      "5/5 [==============================] - 30s 6s/step - loss: 0.4659 - nmse: 0.5081 - val_loss: 0.4304 - val_nmse: 0.4739\n",
      "Epoch 8/200\n",
      "5/5 [==============================] - 31s 6s/step - loss: 0.4101 - nmse: 0.4467 - val_loss: 0.3749 - val_nmse: 0.4127\n",
      "Epoch 9/200\n",
      "5/5 [==============================] - 30s 6s/step - loss: 0.3837 - nmse: 0.4185 - val_loss: 0.3768 - val_nmse: 0.4141\n",
      "Epoch 10/200\n",
      "5/5 [==============================] - 30s 6s/step - loss: 0.3400 - nmse: 0.3702 - val_loss: 0.3016 - val_nmse: 0.3310\n",
      "Epoch 11/200\n",
      "5/5 [==============================] - 30s 6s/step - loss: 0.2942 - nmse: 0.3211 - val_loss: 0.2654 - val_nmse: 0.2897\n",
      "Epoch 12/200\n",
      "5/5 [==============================] - 31s 6s/step - loss: 0.2596 - nmse: 0.2829 - val_loss: 0.2407 - val_nmse: 0.2623\n",
      "Epoch 13/200\n",
      "5/5 [==============================] - 31s 6s/step - loss: 0.2378 - nmse: 0.2584 - val_loss: 0.2214 - val_nmse: 0.2419\n",
      "Epoch 14/200\n",
      "5/5 [==============================] - 30s 6s/step - loss: 0.2187 - nmse: 0.2369 - val_loss: 0.2060 - val_nmse: 0.2271\n",
      "Epoch 15/200\n",
      "5/5 [==============================] - 32s 7s/step - loss: 0.2057 - nmse: 0.2231 - val_loss: 0.1973 - val_nmse: 0.2176\n",
      "Epoch 16/200\n",
      "5/5 [==============================] - 31s 6s/step - loss: 0.1961 - nmse: 0.2133 - val_loss: 0.1899 - val_nmse: 0.2099\n",
      "Epoch 17/200\n",
      "5/5 [==============================] - 31s 6s/step - loss: 0.1932 - nmse: 0.2103 - val_loss: 0.1903 - val_nmse: 0.2098\n",
      "Epoch 18/200\n",
      "5/5 [==============================] - 31s 6s/step - loss: 0.1853 - nmse: 0.2021 - val_loss: 0.1774 - val_nmse: 0.1964\n",
      "Epoch 19/200\n",
      "5/5 [==============================] - 31s 6s/step - loss: 0.1764 - nmse: 0.1913 - val_loss: 0.1728 - val_nmse: 0.1907\n",
      "Epoch 20/200\n",
      "5/5 [==============================] - 31s 6s/step - loss: 0.1725 - nmse: 0.1881 - val_loss: 0.1730 - val_nmse: 0.1916\n",
      "Epoch 21/200\n",
      "5/5 [==============================] - 33s 7s/step - loss: 0.1695 - nmse: 0.1832 - val_loss: 0.1694 - val_nmse: 0.1877\n",
      "Epoch 22/200\n",
      "5/5 [==============================] - 33s 7s/step - loss: 0.1657 - nmse: 0.1798 - val_loss: 0.1625 - val_nmse: 0.1801\n",
      "Epoch 23/200\n",
      "5/5 [==============================] - 30s 6s/step - loss: 0.1609 - nmse: 0.1747 - val_loss: 0.1647 - val_nmse: 0.1833\n",
      "Epoch 24/200\n",
      "5/5 [==============================] - 32s 6s/step - loss: 0.1577 - nmse: 0.1712 - val_loss: 0.1590 - val_nmse: 0.1762\n",
      "Epoch 25/200\n",
      "5/5 [==============================] - 31s 6s/step - loss: 0.1533 - nmse: 0.1659 - val_loss: 0.1578 - val_nmse: 0.1744\n",
      "Epoch 26/200\n",
      "5/5 [==============================] - 31s 6s/step - loss: 0.1498 - nmse: 0.1627 - val_loss: 0.1525 - val_nmse: 0.1704\n",
      "Epoch 27/200\n",
      "5/5 [==============================] - 30s 6s/step - loss: 0.1478 - nmse: 0.1609 - val_loss: 0.1529 - val_nmse: 0.1702\n",
      "Epoch 28/200\n",
      "5/5 [==============================] - 30s 6s/step - loss: 0.1606 - nmse: 0.1755 - val_loss: 0.1800 - val_nmse: 0.1995\n",
      "Epoch 29/200\n",
      "5/5 [==============================] - 28s 6s/step - loss: 0.1595 - nmse: 0.1742 - val_loss: 0.1520 - val_nmse: 0.1694\n",
      "Epoch 30/200\n",
      "5/5 [==============================] - 30s 6s/step - loss: 0.1480 - nmse: 0.1615 - val_loss: 0.1487 - val_nmse: 0.1660\n",
      "Epoch 31/200\n",
      "5/5 [==============================] - 33s 7s/step - loss: 0.1414 - nmse: 0.1532 - val_loss: 0.1471 - val_nmse: 0.1635\n",
      "Epoch 32/200\n",
      "5/5 [==============================] - 26s 5s/step - loss: 0.1371 - nmse: 0.1492 - val_loss: 0.1439 - val_nmse: 0.1609\n",
      "Epoch 33/200\n",
      "5/5 [==============================] - 25s 5s/step - loss: 0.1342 - nmse: 0.1463 - val_loss: 0.1423 - val_nmse: 0.1593\n",
      "Epoch 34/200\n",
      "5/5 [==============================] - 25s 5s/step - loss: 0.1311 - nmse: 0.1426 - val_loss: 0.1451 - val_nmse: 0.1617\n",
      "Epoch 35/200\n",
      "5/5 [==============================] - 25s 5s/step - loss: 0.1292 - nmse: 0.1380 - val_loss: 0.1439 - val_nmse: 0.1611\n",
      "Epoch 36/200\n",
      "5/5 [==============================] - 25s 5s/step - loss: 0.1260 - nmse: 0.1372 - val_loss: 0.1371 - val_nmse: 0.1531\n",
      "Epoch 37/200\n",
      "5/5 [==============================] - 25s 5s/step - loss: 0.1216 - nmse: 0.1320 - val_loss: 0.1392 - val_nmse: 0.1555\n",
      "Epoch 38/200\n",
      "5/5 [==============================] - 25s 5s/step - loss: 0.1208 - nmse: 0.1315 - val_loss: 0.1384 - val_nmse: 0.1546\n",
      "Epoch 39/200\n",
      "5/5 [==============================] - 25s 5s/step - loss: 0.1168 - nmse: 0.1271 - val_loss: 0.1413 - val_nmse: 0.1571\n",
      "Epoch 40/200\n",
      "5/5 [==============================] - 26s 5s/step - loss: 0.1237 - nmse: 0.1347 - val_loss: 0.1445 - val_nmse: 0.1606\n",
      "Epoch 41/200\n",
      "5/5 [==============================] - 26s 5s/step - loss: 0.1188 - nmse: 0.1290 - val_loss: 0.1337 - val_nmse: 0.1487\n",
      "Epoch 42/200\n",
      "5/5 [==============================] - 25s 5s/step - loss: 0.1125 - nmse: 0.1226 - val_loss: 0.1409 - val_nmse: 0.1567\n",
      "Epoch 43/200\n",
      "5/5 [==============================] - 26s 5s/step - loss: 0.1078 - nmse: 0.1171 - val_loss: 0.1427 - val_nmse: 0.1588\n",
      "Epoch 44/200\n",
      "5/5 [==============================] - 25s 5s/step - loss: 0.1027 - nmse: 0.1114 - val_loss: 0.1404 - val_nmse: 0.1562\n",
      "Epoch 45/200\n",
      "5/5 [==============================] - 25s 5s/step - loss: 0.0999 - nmse: 0.1087 - val_loss: 0.1409 - val_nmse: 0.1564\n",
      "Epoch 46/200\n",
      "5/5 [==============================] - 25s 5s/step - loss: 0.0955 - nmse: 0.1036 - val_loss: 0.1415 - val_nmse: 0.1561\n",
      "Epoch 47/200\n",
      "5/5 [==============================] - 25s 5s/step - loss: 0.0912 - nmse: 0.0994 - val_loss: 0.1406 - val_nmse: 0.1553\n",
      "Epoch 48/200\n",
      "5/5 [==============================] - 25s 5s/step - loss: 0.0870 - nmse: 0.0944 - val_loss: 0.1472 - val_nmse: 0.1617\n",
      "Epoch 49/200\n",
      "5/5 [==============================] - 25s 5s/step - loss: 0.0837 - nmse: 0.0909 - val_loss: 0.1508 - val_nmse: 0.1664\n",
      "Epoch 50/200\n",
      "5/5 [==============================] - 25s 5s/step - loss: 0.0800 - nmse: 0.0871 - val_loss: 0.1456 - val_nmse: 0.1611\n",
      "Epoch 51/200\n",
      "5/5 [==============================] - 25s 5s/step - loss: 0.0788 - nmse: 0.0854 - val_loss: 0.1495 - val_nmse: 0.1657\n",
      "Epoch 52/200\n",
      "5/5 [==============================] - 25s 5s/step - loss: 0.0735 - nmse: 0.0799 - val_loss: 0.1568 - val_nmse: 0.1731\n",
      "Epoch 53/200\n",
      "5/5 [==============================] - 27s 5s/step - loss: 0.0702 - nmse: 0.0764 - val_loss: 0.1486 - val_nmse: 0.1638\n",
      "Epoch 54/200\n",
      "5/5 [==============================] - 26s 5s/step - loss: 0.0683 - nmse: 0.0744 - val_loss: 0.1484 - val_nmse: 0.1636\n",
      "Epoch 55/200\n",
      "5/5 [==============================] - 27s 6s/step - loss: 0.0648 - nmse: 0.0706 - val_loss: 0.1584 - val_nmse: 0.1736\n",
      "Epoch 56/200\n",
      "5/5 [==============================] - 27s 5s/step - loss: 0.0623 - nmse: 0.0680 - val_loss: 0.1544 - val_nmse: 0.1690\n",
      "Epoch 57/200\n",
      "5/5 [==============================] - 27s 5s/step - loss: 0.0604 - nmse: 0.0659 - val_loss: 0.1553 - val_nmse: 0.1689\n",
      "Epoch 58/200\n",
      "5/5 [==============================] - 29s 6s/step - loss: 0.0587 - nmse: 0.0640 - val_loss: 0.1528 - val_nmse: 0.1680\n",
      "Epoch 59/200\n",
      "5/5 [==============================] - 31s 6s/step - loss: 0.0567 - nmse: 0.0619 - val_loss: 0.1572 - val_nmse: 0.1716\n",
      "Epoch 60/200\n",
      "5/5 [==============================] - 32s 6s/step - loss: 0.0542 - nmse: 0.0586 - val_loss: 0.1712 - val_nmse: 0.1871\n",
      "Epoch 61/200\n",
      "5/5 [==============================] - 34s 7s/step - loss: 0.0543 - nmse: 0.0593 - val_loss: 0.1611 - val_nmse: 0.1761\n",
      "Epoch 62/200\n",
      "5/5 [==============================] - 31s 6s/step - loss: 0.0519 - nmse: 0.0565 - val_loss: 0.1503 - val_nmse: 0.1644\n",
      "Epoch 63/200\n",
      "5/5 [==============================] - 33s 6s/step - loss: 0.0504 - nmse: 0.0550 - val_loss: 0.1645 - val_nmse: 0.1796\n",
      "Epoch 64/200\n",
      "5/5 [==============================] - 30s 6s/step - loss: 0.0480 - nmse: 0.0524 - val_loss: 0.1572 - val_nmse: 0.1726\n",
      "Epoch 65/200\n",
      "5/5 [==============================] - 30s 6s/step - loss: 0.0458 - nmse: 0.0498 - val_loss: 0.1579 - val_nmse: 0.1732\n",
      "Epoch 66/200\n",
      "5/5 [==============================] - 30s 6s/step - loss: 0.0457 - nmse: 0.0499 - val_loss: 0.1566 - val_nmse: 0.1714\n",
      "Epoch 67/200\n",
      "5/5 [==============================] - 30s 6s/step - loss: 0.0437 - nmse: 0.0477 - val_loss: 0.1590 - val_nmse: 0.1745\n",
      "Epoch 68/200\n",
      "5/5 [==============================] - 31s 6s/step - loss: 0.0432 - nmse: 0.0470 - val_loss: 0.1566 - val_nmse: 0.1712\n",
      "Epoch 69/200\n",
      "5/5 [==============================] - 28s 5s/step - loss: 0.0420 - nmse: 0.0458 - val_loss: 0.1600 - val_nmse: 0.1752\n",
      "Epoch 70/200\n",
      "5/5 [==============================] - 26s 5s/step - loss: 0.0403 - nmse: 0.0440 - val_loss: 0.1613 - val_nmse: 0.1758\n",
      "Epoch 71/200\n",
      "5/5 [==============================] - 26s 5s/step - loss: 0.0386 - nmse: 0.0421 - val_loss: 0.1615 - val_nmse: 0.1757\n",
      "Epoch 72/200\n",
      "5/5 [==============================] - 26s 5s/step - loss: 0.0391 - nmse: 0.0425 - val_loss: 0.1642 - val_nmse: 0.1795\n",
      "Epoch 73/200\n",
      "5/5 [==============================] - 26s 5s/step - loss: 0.0396 - nmse: 0.0432 - val_loss: 0.1661 - val_nmse: 0.1819\n",
      "Epoch 74/200\n",
      "5/5 [==============================] - 26s 5s/step - loss: 0.0381 - nmse: 0.0416 - val_loss: 0.1621 - val_nmse: 0.1764\n",
      "Epoch 75/200\n",
      "5/5 [==============================] - 26s 5s/step - loss: 0.0361 - nmse: 0.0394 - val_loss: 0.1618 - val_nmse: 0.1764\n",
      "Epoch 76/200\n",
      "5/5 [==============================] - 26s 5s/step - loss: 0.0357 - nmse: 0.0389 - val_loss: 0.1593 - val_nmse: 0.1732\n",
      "Epoch 77/200\n",
      "5/5 [==============================] - 26s 5s/step - loss: 0.0353 - nmse: 0.0386 - val_loss: 0.1610 - val_nmse: 0.1761\n",
      "Epoch 78/200\n",
      "5/5 [==============================] - 26s 5s/step - loss: 0.0334 - nmse: 0.0364 - val_loss: 0.1625 - val_nmse: 0.1775\n",
      "Epoch 79/200\n",
      "5/5 [==============================] - 26s 5s/step - loss: 0.0350 - nmse: 0.0382 - val_loss: 0.1624 - val_nmse: 0.1774\n",
      "Epoch 80/200\n",
      "5/5 [==============================] - 26s 5s/step - loss: 0.0334 - nmse: 0.0365 - val_loss: 0.1655 - val_nmse: 0.1801\n",
      "Epoch 81/200\n",
      "5/5 [==============================] - 26s 5s/step - loss: 0.0320 - nmse: 0.0348 - val_loss: 0.1621 - val_nmse: 0.1758\n",
      "Epoch 82/200\n",
      "5/5 [==============================] - 26s 5s/step - loss: 0.0327 - nmse: 0.0355 - val_loss: 0.1606 - val_nmse: 0.1755\n",
      "Epoch 83/200\n",
      "5/5 [==============================] - 26s 5s/step - loss: 0.0324 - nmse: 0.0353 - val_loss: 0.1605 - val_nmse: 0.1748\n",
      "Epoch 84/200\n",
      "5/5 [==============================] - 26s 5s/step - loss: 0.0321 - nmse: 0.0349 - val_loss: 0.1660 - val_nmse: 0.1807\n",
      "Epoch 85/200\n",
      "5/5 [==============================] - 26s 5s/step - loss: 0.0323 - nmse: 0.0352 - val_loss: 0.1593 - val_nmse: 0.1739\n",
      "Epoch 86/200\n",
      "5/5 [==============================] - 26s 5s/step - loss: 0.0310 - nmse: 0.0337 - val_loss: 0.1647 - val_nmse: 0.1796\n",
      "Epoch 87/200\n",
      "5/5 [==============================] - 26s 5s/step - loss: 0.0301 - nmse: 0.0328 - val_loss: 0.1589 - val_nmse: 0.1738\n",
      "Epoch 88/200\n",
      "5/5 [==============================] - 26s 5s/step - loss: 0.0294 - nmse: 0.0321 - val_loss: 0.1624 - val_nmse: 0.1768\n",
      "Epoch 89/200\n",
      "5/5 [==============================] - 26s 5s/step - loss: 0.0315 - nmse: 0.0343 - val_loss: 0.1660 - val_nmse: 0.1811\n",
      "Epoch 90/200\n",
      "5/5 [==============================] - 27s 5s/step - loss: 0.0289 - nmse: 0.0315 - val_loss: 0.1602 - val_nmse: 0.1741\n",
      "Epoch 91/200\n",
      "5/5 [==============================] - 26s 5s/step - loss: 0.0274 - nmse: 0.0299 - val_loss: 0.1622 - val_nmse: 0.1759\n",
      "Epoch 92/200\n",
      "5/5 [==============================] - 26s 5s/step - loss: 0.0269 - nmse: 0.0293 - val_loss: 0.1642 - val_nmse: 0.1788\n",
      "Epoch 93/200\n",
      "5/5 [==============================] - 26s 5s/step - loss: 0.0260 - nmse: 0.0284 - val_loss: 0.1641 - val_nmse: 0.1786\n",
      "Epoch 94/200\n",
      "5/5 [==============================] - 26s 5s/step - loss: 0.0257 - nmse: 0.0280 - val_loss: 0.1674 - val_nmse: 0.1823\n",
      "Epoch 95/200\n",
      "5/5 [==============================] - 26s 5s/step - loss: 0.0283 - nmse: 0.0309 - val_loss: 0.1595 - val_nmse: 0.1742\n",
      "Epoch 96/200\n",
      "5/5 [==============================] - 26s 5s/step - loss: 0.0281 - nmse: 0.0306 - val_loss: 0.1674 - val_nmse: 0.1817\n",
      "Epoch 97/200\n",
      "5/5 [==============================] - 27s 5s/step - loss: 0.0283 - nmse: 0.0309 - val_loss: 0.1644 - val_nmse: 0.1787\n",
      "Epoch 98/200\n",
      "5/5 [==============================] - 26s 5s/step - loss: 0.0276 - nmse: 0.0301 - val_loss: 0.1660 - val_nmse: 0.1795\n",
      "Epoch 99/200\n",
      "5/5 [==============================] - 26s 5s/step - loss: 0.0289 - nmse: 0.0315 - val_loss: 0.1666 - val_nmse: 0.1823\n",
      "Epoch 100/200\n",
      "5/5 [==============================] - 26s 5s/step - loss: 0.0272 - nmse: 0.0297 - val_loss: 0.1638 - val_nmse: 0.1785\n",
      "Epoch 101/200\n",
      "5/5 [==============================] - 26s 5s/step - loss: 0.0260 - nmse: 0.0284 - val_loss: 0.1635 - val_nmse: 0.1784\n",
      "Epoch 102/200\n",
      "5/5 [==============================] - 26s 5s/step - loss: 0.0270 - nmse: 0.0294 - val_loss: 0.1682 - val_nmse: 0.1833\n",
      "Epoch 103/200\n",
      "5/5 [==============================] - 26s 5s/step - loss: 0.0265 - nmse: 0.0288 - val_loss: 0.1675 - val_nmse: 0.1820\n",
      "Epoch 104/200\n",
      "5/5 [==============================] - 26s 5s/step - loss: 0.0261 - nmse: 0.0285 - val_loss: 0.1681 - val_nmse: 0.1823\n",
      "Epoch 105/200\n",
      "5/5 [==============================] - 26s 5s/step - loss: 0.0255 - nmse: 0.0278 - val_loss: 0.1690 - val_nmse: 0.1839\n",
      "Epoch 106/200\n",
      "5/5 [==============================] - 26s 5s/step - loss: 0.0256 - nmse: 0.0278 - val_loss: 0.1653 - val_nmse: 0.1799\n",
      "Epoch 107/200\n",
      "5/5 [==============================] - 26s 5s/step - loss: 0.0245 - nmse: 0.0267 - val_loss: 0.1616 - val_nmse: 0.1763\n",
      "Epoch 108/200\n",
      "5/5 [==============================] - 26s 5s/step - loss: 0.0234 - nmse: 0.0255 - val_loss: 0.1679 - val_nmse: 0.1823\n",
      "Epoch 109/200\n",
      "5/5 [==============================] - 26s 5s/step - loss: 0.0230 - nmse: 0.0250 - val_loss: 0.1678 - val_nmse: 0.1825\n",
      "Epoch 110/200\n",
      "5/5 [==============================] - 26s 5s/step - loss: 0.0235 - nmse: 0.0256 - val_loss: 0.1627 - val_nmse: 0.1774\n",
      "Epoch 111/200\n",
      "5/5 [==============================] - 26s 5s/step - loss: 0.0228 - nmse: 0.0249 - val_loss: 0.1713 - val_nmse: 0.1865\n",
      "Epoch 112/200\n",
      "5/5 [==============================] - 26s 5s/step - loss: 0.0234 - nmse: 0.0255 - val_loss: 0.1644 - val_nmse: 0.1781\n",
      "Epoch 113/200\n",
      "5/5 [==============================] - 27s 5s/step - loss: 0.0249 - nmse: 0.0271 - val_loss: 0.1637 - val_nmse: 0.1784\n",
      "Epoch 114/200\n",
      "5/5 [==============================] - 26s 5s/step - loss: 0.0234 - nmse: 0.0256 - val_loss: 0.1670 - val_nmse: 0.1822\n",
      "Epoch 115/200\n",
      "5/5 [==============================] - 26s 5s/step - loss: 0.0227 - nmse: 0.0248 - val_loss: 0.1619 - val_nmse: 0.1762\n",
      "Epoch 116/200\n",
      "5/5 [==============================] - 26s 5s/step - loss: 0.0222 - nmse: 0.0242 - val_loss: 0.1650 - val_nmse: 0.1798\n",
      "Epoch 117/200\n",
      "5/5 [==============================] - 26s 5s/step - loss: 0.0217 - nmse: 0.0235 - val_loss: 0.1666 - val_nmse: 0.1814\n",
      "Epoch 118/200\n",
      "5/5 [==============================] - 26s 5s/step - loss: 0.0215 - nmse: 0.0234 - val_loss: 0.1668 - val_nmse: 0.1820\n",
      "Epoch 119/200\n",
      "5/5 [==============================] - 26s 5s/step - loss: 0.0207 - nmse: 0.0226 - val_loss: 0.1671 - val_nmse: 0.1816\n",
      "Epoch 120/200\n",
      "5/5 [==============================] - 26s 5s/step - loss: 0.0235 - nmse: 0.0256 - val_loss: 0.1635 - val_nmse: 0.1779\n",
      "Epoch 121/200\n",
      "5/5 [==============================] - 26s 5s/step - loss: 0.0215 - nmse: 0.0235 - val_loss: 0.1631 - val_nmse: 0.1777\n",
      "Epoch 122/200\n",
      "5/5 [==============================] - 26s 5s/step - loss: 0.0198 - nmse: 0.0216 - val_loss: 0.1622 - val_nmse: 0.1764\n",
      "Epoch 123/200\n",
      "5/5 [==============================] - 26s 5s/step - loss: 0.0195 - nmse: 0.0212 - val_loss: 0.1648 - val_nmse: 0.1788\n",
      "Epoch 124/200\n",
      "5/5 [==============================] - 26s 5s/step - loss: 0.0197 - nmse: 0.0214 - val_loss: 0.1681 - val_nmse: 0.1821\n",
      "Epoch 125/200\n",
      "5/5 [==============================] - 26s 5s/step - loss: 0.0221 - nmse: 0.0241 - val_loss: 0.1667 - val_nmse: 0.1809\n",
      "Epoch 126/200\n",
      "5/5 [==============================] - 26s 5s/step - loss: 0.0206 - nmse: 0.0224 - val_loss: 0.1634 - val_nmse: 0.1775\n",
      "Epoch 127/200\n",
      "5/5 [==============================] - 26s 5s/step - loss: 0.0198 - nmse: 0.0215 - val_loss: 0.1675 - val_nmse: 0.1818\n",
      "Epoch 128/200\n",
      "5/5 [==============================] - 26s 5s/step - loss: 0.0192 - nmse: 0.0209 - val_loss: 0.1694 - val_nmse: 0.1836\n",
      "Epoch 129/200\n",
      "5/5 [==============================] - 26s 5s/step - loss: 0.0186 - nmse: 0.0202 - val_loss: 0.1696 - val_nmse: 0.1844\n",
      "Epoch 130/200\n",
      "5/5 [==============================] - 26s 5s/step - loss: 0.0185 - nmse: 0.0202 - val_loss: 0.1643 - val_nmse: 0.1781\n",
      "Epoch 131/200\n",
      "5/5 [==============================] - 26s 5s/step - loss: 0.0183 - nmse: 0.0199 - val_loss: 0.1671 - val_nmse: 0.1816\n",
      "Epoch 132/200\n",
      "5/5 [==============================] - 26s 5s/step - loss: 0.0184 - nmse: 0.0201 - val_loss: 0.1639 - val_nmse: 0.1775\n",
      "Epoch 133/200\n",
      "5/5 [==============================] - 26s 5s/step - loss: 0.0182 - nmse: 0.0197 - val_loss: 0.1701 - val_nmse: 0.1841\n",
      "Epoch 134/200\n",
      "5/5 [==============================] - 26s 5s/step - loss: 0.0191 - nmse: 0.0208 - val_loss: 0.1623 - val_nmse: 0.1767\n",
      "Epoch 135/200\n",
      "5/5 [==============================] - 26s 5s/step - loss: 0.0208 - nmse: 0.0226 - val_loss: 0.1699 - val_nmse: 0.1840\n",
      "Epoch 136/200\n",
      "5/5 [==============================] - 26s 5s/step - loss: 0.0233 - nmse: 0.0255 - val_loss: 0.1652 - val_nmse: 0.1805\n",
      "Epoch 137/200\n",
      "5/5 [==============================] - 26s 5s/step - loss: 0.0224 - nmse: 0.0244 - val_loss: 0.1615 - val_nmse: 0.1754\n",
      "Epoch 138/200\n",
      "5/5 [==============================] - 26s 5s/step - loss: 0.0217 - nmse: 0.0236 - val_loss: 0.1759 - val_nmse: 0.1914\n",
      "Epoch 139/200\n",
      "5/5 [==============================] - 26s 5s/step - loss: 0.0216 - nmse: 0.0236 - val_loss: 0.1700 - val_nmse: 0.1856\n",
      "Epoch 140/200\n",
      "5/5 [==============================] - 26s 5s/step - loss: 0.0213 - nmse: 0.0232 - val_loss: 0.1693 - val_nmse: 0.1839\n",
      "Epoch 141/200\n",
      "5/5 [==============================] - 26s 5s/step - loss: 0.0202 - nmse: 0.0219 - val_loss: 0.1704 - val_nmse: 0.1842\n",
      "Epoch 142/200\n",
      "5/5 [==============================] - 26s 5s/step - loss: 0.0185 - nmse: 0.0202 - val_loss: 0.1668 - val_nmse: 0.1812\n",
      "Epoch 143/200\n",
      "5/5 [==============================] - 26s 5s/step - loss: 0.0182 - nmse: 0.0198 - val_loss: 0.1668 - val_nmse: 0.1817\n",
      "Epoch 144/200\n",
      "5/5 [==============================] - 26s 5s/step - loss: 0.0185 - nmse: 0.0202 - val_loss: 0.1683 - val_nmse: 0.1824\n",
      "Epoch 145/200\n",
      "5/5 [==============================] - 26s 5s/step - loss: 0.0167 - nmse: 0.0182 - val_loss: 0.1659 - val_nmse: 0.1801\n",
      "Epoch 146/200\n",
      "5/5 [==============================] - 26s 5s/step - loss: 0.0162 - nmse: 0.0177 - val_loss: 0.1685 - val_nmse: 0.1831\n",
      "Epoch 147/200\n",
      "5/5 [==============================] - 26s 5s/step - loss: 0.0165 - nmse: 0.0179 - val_loss: 0.1640 - val_nmse: 0.1778\n",
      "Epoch 148/200\n",
      "5/5 [==============================] - 26s 5s/step - loss: 0.0165 - nmse: 0.0181 - val_loss: 0.1681 - val_nmse: 0.1821\n",
      "Epoch 149/200\n",
      "5/5 [==============================] - 26s 5s/step - loss: 0.0156 - nmse: 0.0170 - val_loss: 0.1671 - val_nmse: 0.1815\n",
      "Epoch 150/200\n",
      "5/5 [==============================] - 26s 5s/step - loss: 0.0156 - nmse: 0.0170 - val_loss: 0.1664 - val_nmse: 0.1803\n",
      "Epoch 151/200\n",
      "5/5 [==============================] - 26s 5s/step - loss: 0.0153 - nmse: 0.0167 - val_loss: 0.1666 - val_nmse: 0.1808\n",
      "Epoch 152/200\n",
      "5/5 [==============================] - 26s 5s/step - loss: 0.0157 - nmse: 0.0171 - val_loss: 0.1652 - val_nmse: 0.1792\n",
      "Epoch 153/200\n",
      "5/5 [==============================] - 26s 5s/step - loss: 0.0151 - nmse: 0.0165 - val_loss: 0.1674 - val_nmse: 0.1815\n",
      "Epoch 154/200\n",
      "5/5 [==============================] - 26s 5s/step - loss: 0.0158 - nmse: 0.0173 - val_loss: 0.1660 - val_nmse: 0.1802\n",
      "Epoch 155/200\n",
      "5/5 [==============================] - 26s 5s/step - loss: 0.0152 - nmse: 0.0166 - val_loss: 0.1710 - val_nmse: 0.1854\n",
      "Epoch 156/200\n",
      "5/5 [==============================] - 26s 5s/step - loss: 0.0154 - nmse: 0.0168 - val_loss: 0.1660 - val_nmse: 0.1800\n",
      "Epoch 157/200\n",
      "5/5 [==============================] - 26s 5s/step - loss: 0.0168 - nmse: 0.0183 - val_loss: 0.1722 - val_nmse: 0.1873\n",
      "Epoch 158/200\n",
      "5/5 [==============================] - 26s 5s/step - loss: 0.0168 - nmse: 0.0183 - val_loss: 0.1641 - val_nmse: 0.1780\n",
      "Epoch 159/200\n",
      "5/5 [==============================] - 27s 5s/step - loss: 0.0161 - nmse: 0.0176 - val_loss: 0.1662 - val_nmse: 0.1807\n",
      "Epoch 160/200\n",
      "5/5 [==============================] - 27s 6s/step - loss: 0.0146 - nmse: 0.0160 - val_loss: 0.1671 - val_nmse: 0.1817\n",
      "Epoch 161/200\n",
      "5/5 [==============================] - 26s 5s/step - loss: 0.0150 - nmse: 0.0164 - val_loss: 0.1629 - val_nmse: 0.1769\n",
      "Epoch 162/200\n",
      "5/5 [==============================] - 26s 5s/step - loss: 0.0150 - nmse: 0.0163 - val_loss: 0.1673 - val_nmse: 0.1808\n",
      "Epoch 163/200\n",
      "5/5 [==============================] - 26s 5s/step - loss: 0.0150 - nmse: 0.0163 - val_loss: 0.1637 - val_nmse: 0.1775\n",
      "Epoch 164/200\n",
      "5/5 [==============================] - 26s 5s/step - loss: 0.0157 - nmse: 0.0171 - val_loss: 0.1680 - val_nmse: 0.1829\n",
      "Epoch 165/200\n",
      "5/5 [==============================] - 26s 5s/step - loss: 0.0170 - nmse: 0.0186 - val_loss: 0.1665 - val_nmse: 0.1804\n",
      "Epoch 166/200\n",
      "5/5 [==============================] - 26s 5s/step - loss: 0.0155 - nmse: 0.0169 - val_loss: 0.1674 - val_nmse: 0.1815\n",
      "Epoch 167/200\n",
      "5/5 [==============================] - 26s 5s/step - loss: 0.0145 - nmse: 0.0158 - val_loss: 0.1666 - val_nmse: 0.1807\n",
      "Epoch 168/200\n",
      "5/5 [==============================] - 26s 5s/step - loss: 0.0147 - nmse: 0.0159 - val_loss: 0.1672 - val_nmse: 0.1820\n",
      "Epoch 169/200\n",
      "5/5 [==============================] - 26s 5s/step - loss: 0.0148 - nmse: 0.0161 - val_loss: 0.1689 - val_nmse: 0.1832\n",
      "Epoch 170/200\n",
      "5/5 [==============================] - 26s 5s/step - loss: 0.0145 - nmse: 0.0158 - val_loss: 0.1674 - val_nmse: 0.1812\n",
      "Epoch 171/200\n",
      "5/5 [==============================] - 26s 5s/step - loss: 0.0146 - nmse: 0.0160 - val_loss: 0.1739 - val_nmse: 0.1886\n",
      "Epoch 172/200\n",
      "5/5 [==============================] - 26s 5s/step - loss: 0.0154 - nmse: 0.0167 - val_loss: 0.1652 - val_nmse: 0.1788\n",
      "Epoch 173/200\n",
      "5/5 [==============================] - 26s 5s/step - loss: 0.0152 - nmse: 0.0165 - val_loss: 0.1686 - val_nmse: 0.1824\n",
      "Epoch 174/200\n",
      "5/5 [==============================] - 26s 5s/step - loss: 0.0146 - nmse: 0.0159 - val_loss: 0.1645 - val_nmse: 0.1784\n",
      "Epoch 175/200\n",
      "5/5 [==============================] - 26s 5s/step - loss: 0.0145 - nmse: 0.0158 - val_loss: 0.1668 - val_nmse: 0.1803\n",
      "Epoch 176/200\n",
      "5/5 [==============================] - 26s 5s/step - loss: 0.0139 - nmse: 0.0152 - val_loss: 0.1665 - val_nmse: 0.1804\n",
      "Epoch 177/200\n",
      "5/5 [==============================] - 26s 5s/step - loss: 0.0136 - nmse: 0.0148 - val_loss: 0.1676 - val_nmse: 0.1813\n",
      "Epoch 178/200\n",
      "5/5 [==============================] - 26s 5s/step - loss: 0.0137 - nmse: 0.0150 - val_loss: 0.1666 - val_nmse: 0.1812\n",
      "Epoch 179/200\n",
      "5/5 [==============================] - 26s 5s/step - loss: 0.0141 - nmse: 0.0154 - val_loss: 0.1688 - val_nmse: 0.1826\n",
      "Epoch 180/200\n",
      "5/5 [==============================] - 26s 5s/step - loss: 0.0136 - nmse: 0.0148 - val_loss: 0.1653 - val_nmse: 0.1794\n",
      "Epoch 181/200\n",
      "5/5 [==============================] - 26s 5s/step - loss: 0.0144 - nmse: 0.0157 - val_loss: 0.1647 - val_nmse: 0.1788\n",
      "Epoch 182/200\n",
      "5/5 [==============================] - 26s 5s/step - loss: 0.0137 - nmse: 0.0150 - val_loss: 0.1672 - val_nmse: 0.1819\n",
      "Epoch 183/200\n",
      "5/5 [==============================] - 26s 5s/step - loss: 0.0135 - nmse: 0.0147 - val_loss: 0.1692 - val_nmse: 0.1837\n",
      "Epoch 184/200\n",
      "5/5 [==============================] - 26s 5s/step - loss: 0.0133 - nmse: 0.0145 - val_loss: 0.1672 - val_nmse: 0.1815\n",
      "Epoch 185/200\n",
      "5/5 [==============================] - 26s 5s/step - loss: 0.0152 - nmse: 0.0166 - val_loss: 0.1680 - val_nmse: 0.1823\n",
      "Epoch 186/200\n",
      "5/5 [==============================] - 26s 5s/step - loss: 0.0143 - nmse: 0.0156 - val_loss: 0.1654 - val_nmse: 0.1794\n",
      "Epoch 187/200\n",
      "5/5 [==============================] - 26s 5s/step - loss: 0.0132 - nmse: 0.0144 - val_loss: 0.1702 - val_nmse: 0.1842\n",
      "Epoch 188/200\n",
      "5/5 [==============================] - 26s 5s/step - loss: 0.0122 - nmse: 0.0133 - val_loss: 0.1664 - val_nmse: 0.1808\n",
      "Epoch 189/200\n",
      "5/5 [==============================] - 26s 5s/step - loss: 0.0124 - nmse: 0.0135 - val_loss: 0.1641 - val_nmse: 0.1783\n",
      "Epoch 190/200\n",
      "5/5 [==============================] - 26s 5s/step - loss: 0.0126 - nmse: 0.0138 - val_loss: 0.1680 - val_nmse: 0.1820\n",
      "Epoch 191/200\n",
      "5/5 [==============================] - 26s 5s/step - loss: 0.0116 - nmse: 0.0127 - val_loss: 0.1661 - val_nmse: 0.1803\n",
      "Epoch 192/200\n",
      "5/5 [==============================] - 26s 5s/step - loss: 0.0113 - nmse: 0.0123 - val_loss: 0.1653 - val_nmse: 0.1790\n",
      "Epoch 193/200\n",
      "5/5 [==============================] - 26s 5s/step - loss: 0.0114 - nmse: 0.0124 - val_loss: 0.1666 - val_nmse: 0.1808\n",
      "Epoch 194/200\n",
      "5/5 [==============================] - 26s 5s/step - loss: 0.0119 - nmse: 0.0130 - val_loss: 0.1668 - val_nmse: 0.1816\n",
      "Epoch 195/200\n",
      "5/5 [==============================] - 26s 5s/step - loss: 0.0126 - nmse: 0.0137 - val_loss: 0.1669 - val_nmse: 0.1806\n",
      "Epoch 196/200\n",
      "5/5 [==============================] - 26s 5s/step - loss: 0.0125 - nmse: 0.0136 - val_loss: 0.1691 - val_nmse: 0.1830\n",
      "Epoch 197/200\n",
      "5/5 [==============================] - 26s 5s/step - loss: 0.0129 - nmse: 0.0141 - val_loss: 0.1657 - val_nmse: 0.1804\n",
      "Epoch 198/200\n",
      "5/5 [==============================] - 26s 5s/step - loss: 0.0126 - nmse: 0.0138 - val_loss: 0.1670 - val_nmse: 0.1810\n",
      "Epoch 199/200\n",
      "5/5 [==============================] - 26s 5s/step - loss: 0.0120 - nmse: 0.0130 - val_loss: 0.1647 - val_nmse: 0.1783\n",
      "Epoch 200/200\n",
      "5/5 [==============================] - 26s 5s/step - loss: 0.0128 - nmse: 0.0140 - val_loss: 0.1673 - val_nmse: 0.1815\n",
      "Tiempo total de entrenamiento: 89.82 minutos.\n"
     ]
    }
   ],
   "source": [
    "start_time = time.time()\n",
    "#history = model.fit(X, Y, epochs=max_epoch, batch_size=batchsize, callbacks=[lr_scheduler], validation_split=validation_split)\n",
    "history = model.fit(X, Y, epochs=max_epoch, batch_size=batchsize, validation_split=validation_split)\n",
    "end_time = time.time()\n",
    "total_time = end_time - start_time\n",
    "min_time = total_time / 60\n",
    "print(f'Tiempo total de entrenamiento: {min_time:.2f} minutos.')"
   ]
  },
  {
   "cell_type": "markdown",
   "metadata": {},
   "source": [
    "#########################################################################################################<br>\n",
    "#########################################################################################################<br>\n",
    "#########################################################################################################"
   ]
  },
  {
   "cell_type": "markdown",
   "metadata": {},
   "source": [
    "Visualizar el NMSE"
   ]
  },
  {
   "cell_type": "code",
   "execution_count": 27,
   "metadata": {},
   "outputs": [
    {
     "data": {
      "image/png": "[encoded data removed]",
      "text/plain": [
       "<Figure size 640x480 with 1 Axes>"
      ]
     },
     "metadata": {},
     "output_type": "display_data"
    }
   ],
   "source": [
    "plt.plot(history.history['nmse'], label='NMSE (entrenamiento)')\n",
    "plt.plot(history.history['val_nmse'], label='NMSE (validacion)')\n",
    "plt.xlabel('Epoca')\n",
    "plt.ylabel('NMSE')\n",
    "plt.legend()\n",
    "\n",
    "# Guardar grafica de curvas NMSE\n",
    "\n",
    "# Directorio y nombre del archivo\n",
    "output_dir_graphic = 'D:/TT/Memoria/MemoriaCodigoFuentev3/codigo_matlab/codigo_fuente/signals_LDS/' + persona  # Reemplaza con tu directorio\n",
    "output_file_graphic =  'unet_model_' + lado + '_' + sector + '_graphic.png'  # Reemplaza con tu nombre de archivo\n",
    "\n",
    "# Guardar el gráfico\n",
    "output_path_graphic = f'{output_dir_graphic}/{output_file_graphic}'\n",
    "plt.savefig(output_path_graphic, format='png')\n",
    "plt.show()"
   ]
  },
  {
   "cell_type": "markdown",
   "metadata": {},
   "source": [
    "**GUARDAR UN MODELO ESPECÍFICO**"
   ]
  },
  {
   "cell_type": "code",
   "execution_count": 28,
   "metadata": {},
   "outputs": [],
   "source": [
    "# Directorio en donde se almacenara el modelo\n",
    "save_dir = 'D:/TT/Memoria/MemoriaCodigoFuentev3/codigo_matlab/codigo_fuente/signals_LDS/' + persona\n",
    "os.makedirs(save_dir, exist_ok=True)  # Crear el directorio si no existe\n",
    "\n",
    "# Nombre del archivo del modelo\n",
    "model_name = 'unet_model_' + lado + '_' + sector + '.keras'\n",
    "\n",
    "# Ruta completa del archivo\n",
    "model_path = os.path.join(save_dir, model_name)\n",
    "\n",
    "# Guardar el modelo entrenado\n",
    "model.save(model_path)"
   ]
  },
  {
   "cell_type": "markdown",
   "metadata": {},
   "source": [
    "**CARGAR UN MODELO ESPECÍFICO**"
   ]
  },
  {
   "cell_type": "markdown",
   "metadata": {},
   "source": [
    "modelo_cargado = tf.keras.models.load_model('D:/TT/Memoria/waveletycnn/codigo_python/modelos_generados/unet_model_7.keras',\n",
    "                                           custom_objects={'nmse': nmse})"
   ]
  },
  {
   "cell_type": "markdown",
   "metadata": {},
   "source": [
    "**CARGAR COEFICIENTES (MATRIZ COMPLEJA) DE LA SEÑALES PAM ORIGINALES T OBTENER CANTIDAD DE MATRICES COMPLEJAS ENCONTRADAS**"
   ]
  },
  {
   "cell_type": "markdown",
   "metadata": {},
   "source": [
    "input_matrix_complex_pam_dir = 'D:/TT/Memoria/waveletycnn/codigo_python/inputs_coeficientes' # coeficientes de senal PAM original (sin ruido) en formato .mat\n",
    "output_matrix_complex_pam_dir = 'D:/TT/Memoria/waveletycnn/codigo_python/inputs_coeficientes_npy' # coeficientes de senal PAM original (sin ruido) en formato .npy\n",
    "os.makedirs(output_matrix_complex_pam_dir, exist_ok=True) # crear directorio \"output_matrix_complex_pam_dir\" si no existe\n",
    "\n",
    "# Se leen la cantidad de coeficientes o matrices complejas de senales PAM encontradas en el directorio \"input_matrix_complex_pam_dir\"\n",
    "total_matrix_complex_pam = sum(1 for filename in os.listdir(input_matrix_complex_pam_dir) if filename.endswith('.mat')) + 1\n",
    "print(\"Total de matrices complejas PAM encontradas -> \", total_matrix_complex_pam - 1)"
   ]
  },
  {
   "cell_type": "markdown",
   "metadata": {},
   "source": [
    "**TRANSFORMAR A FORMATO .npy LAS MATRICES COMPLEJAS ASOCIADAS A LA SEÑAL ORIGINAL PAM**"
   ]
  },
  {
   "cell_type": "markdown",
   "metadata": {},
   "source": [
    "# Funcion para convertir una matriz compleja de .mat a .npy\n",
    "def convert_mat_to_npy_original_signal(input_dir, output_dir, prefix):\n",
    "    for i in range(1, total_matrix_complex_pam):\n",
    "        mat_file = os.path.join(input_dir, f'{prefix}_{i}.mat')\n",
    "        npy_file = os.path.join(output_dir, f'{prefix}_npy_{i}.npy')\n",
    "        \n",
    "        # Cargar el archivo .mat\n",
    "        mat_data = loadmat(mat_file)\n",
    "        \n",
    "        # Extraer la matriz compleja\n",
    "        matrix_key = [key for key in mat_data.keys() if not key.startswith('__')][0]\n",
    "        matrix = mat_data[matrix_key]\n",
    "        \n",
    "        # Guardar la matriz en formato .npy\n",
    "        np.save(npy_file, matrix)"
   ]
  },
  {
   "cell_type": "markdown",
   "metadata": {},
   "source": [
    "# Convertir las matrices comlejas de senales PAM originales de formato .mat a .npy\n",
    "convert_mat_to_npy_original_signal(input_matrix_complex_pam_dir, output_matrix_complex_pam_dir, 'matrix_complex_pam_to_predict')"
   ]
  },
  {
   "cell_type": "markdown",
   "metadata": {},
   "source": [
    "**PREDECIR COEFICIENTES DE UNA SEÑAL DE VSC A PARTIR DE COEFICIENTES DE UNA SEÑAL PAM**"
   ]
  },
  {
   "cell_type": "markdown",
   "metadata": {},
   "source": [
    "# Funcion para predecir con el modelo entrenado\n",
    "def predecir_coefs(modelo_cargado, input_data):\n",
    "    coefs_predicted = modelo_cargado.predict(input_data)\n",
    "    return coefs_predicted\n"
   ]
  },
  {
   "cell_type": "markdown",
   "metadata": {},
   "source": [
    "# Listar todos los archivos en el directorio\n",
    "archivos_npy_dir = os.listdir(output_matrix_complex_pam_dir)\n",
    "# Filtrar solo los archivos .npy\n",
    "archivos_npy = [f for f in archivos_npy_dir if f.endswith('.npy')]\n",
    "\n",
    "# Cargar una matriz de entrada para hacer una prediccion \n",
    "# Leer el primer archivo .npy\n",
    "nombre_archivo_pam_npy = archivos_npy[0]\n",
    "archivo_pam_npy_dir = os.path.join(output_matrix_complex_pam_dir, nombre_archivo_pam_npy) # ELEGIR ARCHIVOS NPY A LEER (0, 1, 2, 3, 4, ...)\n",
    "\n",
    "#######################\n",
    "# ENTRADA PARA LA RED:\n",
    "######################\n",
    "input_matrix_pam = np.load(archivo_pam_npy_dir)\n",
    "print(\"Archivo cargado:\", archivo_pam_npy_dir)\n",
    "print(\"formato matrix complex input: \",input_matrix_pam.shape)\n",
    "\n",
    "tensor_input_matrix_pam = np.stack((input_matrix_pam.real, input_matrix_pam.imag), axis=-1)\n",
    "print(\"formato matrix complex input como tensor: \",tensor_input_matrix_pam.shape)\n",
    "\n",
    "# Expandir dimensiones para que coincidan con la forma esperada por el modelo\n",
    "tensor_input_matrix_pam = np.expand_dims(tensor_input_matrix_pam, axis=0)\n",
    "print(\"Formato matrix complex input con dimensión adicional:\", tensor_input_matrix_pam.shape)\n"
   ]
  },
  {
   "cell_type": "markdown",
   "metadata": {},
   "source": [
    "**REALIZAR PREDICCIÓN (OBTENCIÓN DE COEFICIENTES DE SEÑAL VSC ESTIMADA)**"
   ]
  },
  {
   "cell_type": "markdown",
   "metadata": {
    "scrolled": true
   },
   "source": [
    "# Realizar la predicción\n",
    "predicted_output = predecir_coefs(modelo_cargado, tensor_input_matrix_pam)\n",
    "\n",
    "# Mostrar la predicción\n",
    "print(\"Prediccion de la primera muestra de entrada:\")\n",
    "print(predicted_output)\n",
    "print(\"Formato de los coeficientes de la senal VSC estimada: \", predicted_output.shape)"
   ]
  },
  {
   "cell_type": "markdown",
   "metadata": {},
   "source": [
    "**TRANSFORMAR LA SALIDA ESTIMADA A UN FORMATO (36, 1024) Y LUEGO DE .npy a .mat**"
   ]
  },
  {
   "cell_type": "markdown",
   "metadata": {},
   "source": [
    "# Transformar la matriz tensor VSC a una matriz compleja de formato .mat\n",
    "# El tensor tiene la forma (1, 36, 1024, 2) y necesitamos transformarlo a (36, 1024) a matriz compleja\n",
    "complex_matrix_vsc = predicted_output[0, :, :, 0] + 1j * predicted_output[0, :, :, 1]\n",
    "print(\"Formato nuevo:\",complex_matrix_vsc.shape)"
   ]
  },
  {
   "cell_type": "markdown",
   "metadata": {},
   "source": [
    "# Especificar la ruta completa del archivo, incluyendo el nombre y la extensión .mat\n",
    "ruta_archivo = \"D:\\TT\\Memoria\\waveletycnn\\codigo_matlab\\codigo_fuente\\coefs_vsc_predicted\\coefs_vsc_predicted.mat\"\n",
    "\n",
    "# Guardar la matriz compleja en el archivo especificado\n",
    "scipy.io.savemat(ruta_archivo, {'complex_matrix_vsc': complex_matrix_vsc})\n"
   ]
  },
  {
   "cell_type": "markdown",
   "metadata": {},
   "source": [
    "**TRANSFORMACIÓN DE COEFICIENTES DE LA SENAL VSC ESTIMADA DE FORMATO .mat a .npy**"
   ]
  },
  {
   "cell_type": "markdown",
   "metadata": {},
   "source": [
    "**GUARDADO DE LA MATRIZ COMPLEJA DE LA VSC ESTIMADA EN UNA CARPETA EN EL DIRECTORIO DE MATLAB EN FORMATO .mat**"
   ]
  },
  {
   "cell_type": "markdown",
   "metadata": {},
   "source": [
    "# Directorio donde se guardara la matriz compleja de la VSC estimada en formato .mat\n",
    "mat_dir = 'D:/TT/Memoria/waveletycnn/codigo_matlab/codigo_fuente/coefs_vsc_predicted'\n",
    "os.makedirs(mat_dir, exist_ok=True) # crear directorio \"mat_dir\" si no existe\n",
    "\n",
    "# Extraer el número como cadena\n",
    "numero_como_cadena = nombre_archivo_pam_npy.split('_')[-1].split('.')[0]\n",
    "\n",
    "# Nombre que tendra el archivo de la matriz compleja d la VSC estimada .mat. Se concatena el numero del archivo estimado\n",
    "mat_filename = f'matrix_complex_vsc_predicted_{numero_como_cadena}.mat'\n",
    "print(mat_filename)\n",
    "\n",
    "# Ruta completa del archivo .mat\n",
    "mat_path = os.path.join(mat_dir, mat_filename)\n",
    "\n",
    "\n",
    "try:\n",
    "    data = scipy.io.loadmat(mat_path)\n",
    "    print(\"El archivo es un archivo .mat válido.\")\n",
    "    print(data.keys())\n",
    "except Exception as e:\n",
    "    print(f\"Error al cargar el archivo .mat: {e}\")\n",
    "\n",
    "\n",
    "# Guardar la matriz compleja en un archivo .mat {nombre archivo: contenido archivo}\n",
    "scipy.io.savemat(mat_path, {mat_filename: complex_matrix_vsc})\n",
    "\n",
    "print(f\"Archivo guardado en: {mat_path}\")"
   ]
  },
  {
   "cell_type": "code",
   "execution_count": null,
   "metadata": {},
   "outputs": [],
   "source": []
  }
 ],
 "metadata": {
  "kernelspec": {
   "display_name": "Python 3 (ipykernel)",
   "language": "python",
   "name": "python3"
  },
  "language_info": {
   "codemirror_mode": {
    "name": "ipython",
    "version": 3
   },
   "file_extension": ".py",
   "mimetype": "text/x-python",
   "name": "python",
   "nbconvert_exporter": "python",
   "pygments_lexer": "ipython3",
   "version": "3.8.0"
  }
 },
 "nbformat": 4,
 "nbformat_minor": 4
}
