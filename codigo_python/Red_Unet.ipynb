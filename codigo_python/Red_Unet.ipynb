{
 "cells": [
  {
   "cell_type": "markdown",
   "metadata": {},
   "source": [
    "**Librerias para trabajar con la red neuronal y procesamiento de datos**"
   ]
  },
  {
   "cell_type": "code",
   "execution_count": 2,
   "metadata": {},
   "outputs": [],
   "source": [
    "import os\n",
    "import numpy as np # type: ignore\n",
    "import scipy.io\n",
    "from scipy.io import loadmat # type: ignore\n",
    "import tensorflow as tf # Para red neuronal profunda\n",
    "import numpy as np\n",
    "import matplotlib.pyplot as plt\n",
    "import time # Para tomar el tiempo de entrenamiento de la red\n",
    "import math"
   ]
  },
  {
   "cell_type": "code",
   "execution_count": 3,
   "metadata": {},
   "outputs": [],
   "source": [
    "os.environ['TF_ENABLE_ONEDNN_OPTS'] = '0'"
   ]
  },
  {
   "cell_type": "markdown",
   "metadata": {},
   "source": [
    "**CONVERTIR MATRICES DE: .mat  --> .npy**"
   ]
  },
  {
   "cell_type": "markdown",
   "metadata": {
    "editable": true,
    "slideshow": {
     "slide_type": ""
    },
    "tags": []
   },
   "source": [
    "Directorios de entrada y salida: ***SUJETOS SANOS Y PACIENTES TEC***\n",
    "\n",
    "**(1) sujetos sanos:** 1_HEMU - 2_DAOC - 3_DASI - 4_DABA - 5_HEFU - 6_JOBO - 7_ROMI - 8_FEGA - 9_GAGO - 10_MIMO - 11_JULE - 12_NIGA - 13_BYLA - 14_ARVA - 15_CLSE - 16_PAAR - 17_VATO - 18_FEBE - 19_VINA - 20_CLHE - 21_MAIN - 22_ALSA - 23_MIRA - 24_LACA - 25_GOAC - 26_ANGL - 27_HC036101\n",
    "___________________________________________________________________________________________________________________________________________________________________________________\n",
    "\n",
    "**(2) pacientes tec:** 1_DENI1005 - 2_KNOW1001 - 3_ALI0 - 4_BUTL - 5_HAGG - 6_HASTI007 - 7_BOAM - 8_DANE0005 - 9_GREG - 10_AITK - 11_RANS0000 - 12_JONES004 - 13_PERR - 14_SLAC - 15_HEPPL010 - 16_RICHS010 - 17_KENT0007 - 18_STAN1002 - 19_MCDON022 - 20_PULL - 21_MORR1002 - 22_PARK - 23_HIGH - 24_NOBL - 25_COWL - 26_KHAN - 27_NOLA"
   ]
  },
  {
   "cell_type": "code",
   "execution_count": 4,
   "metadata": {},
   "outputs": [
    {
     "name": "stdout",
     "output_type": "stream",
     "text": [
      "D:/TT/Memoria/MemoriaCodigoFuentev3/codigo_matlab/codigo_fuente/signals_LDS/SANOS/1_HEMU/PAMnoises_matrixcomplex_mat\n",
      "D:/TT/Memoria/MemoriaCodigoFuentev3/codigo_matlab/codigo_fuente/signals_LDS/SANOS/1_HEMU/VSCdnoises_matrixcomplex_mat\n",
      "D:/TT/Memoria/MemoriaCodigoFuentev3/codigo_matlab/codigo_fuente/signals_LDS/SANOS/1_HEMU/VSCinoises_matrixcomplex_mat\n"
     ]
    }
   ],
   "source": [
    "\n",
    "\n",
    "\n",
    "# Directorios de las matrices complejas (coeficientes) de las senales PAM ,VSCd y VSCi de suejtos sanos o pacientes con tec. Se debe modificar estos directorios para ir\n",
    "# generando los respectivos modelos de cada individuo.\n",
    "\n",
    "# DIRECTORIOS: SUJETO SANO\n",
    "\n",
    "# SUJETO SANO O PACIENTE TEC POR ANALIZAR\n",
    "persona = 'SANOS/1_HEMU'\n",
    "# Sector de la VSC por analizar (derecho o izquierdo):\n",
    "sector = 'derecho'\n",
    " # INPUT PARA LA RED\n",
    "# INPUT PAM\n",
    "input_pam_dir = 'D:/TT/Memoria/MemoriaCodigoFuentev3/codigo_matlab/codigo_fuente/signals_LDS/' + persona + '/PAMnoises_matrixcomplex_mat'\n",
    "# INPUT VSCd\n",
    "input_vscd_dir = 'D:/TT/Memoria/MemoriaCodigoFuentev3/codigo_matlab/codigo_fuente/signals_LDS/' + persona + '/VSCdnoises_matrixcomplex_mat'\n",
    "# INPUT VSCI\n",
    "input_vsci_dir = 'D:/TT/Memoria/MemoriaCodigoFuentev3/codigo_matlab/codigo_fuente/signals_LDS/' + persona + '/VSCinoises_matrixcomplex_mat'\n",
    "\n",
    "# OUTPUT O SALIDAS ESPERADAS PARA LA RED\n",
    "# OUTPUT PAM\n",
    "output_pam_dir = 'D:/TT/Memoria/MemoriaCodigoFuentev3/codigo_matlab/codigo_fuente/signals_LDS/' + persona + '/PAMnoises_matrixcomplex_npy'\n",
    "# OUTPUT PAM\n",
    "output_vscd_dir = 'D:/TT/Memoria/MemoriaCodigoFuentev3/codigo_matlab/codigo_fuente/signals_LDS/' + persona + '/VSCdnoises_matrixcomplex_npy'\n",
    "# OUTPUT PAM\n",
    "output_vsci_dir = 'D:/TT/Memoria/MemoriaCodigoFuentev3/codigo_matlab/codigo_fuente/signals_LDS/' + persona + '/VSCinoises_matrixcomplex_npy'\n",
    "\n",
    "\n",
    "#######################################################################################################################################################\n",
    "#######################################################################################################################################################\n",
    "#######################################################################################################################################################\n",
    "\n",
    "\n",
    "# DIRECTORIOS: PACIENTE TEC\n",
    "#paciente_tec = '/1_DENI1005'\n",
    "\n",
    "\n",
    " # INPUT PARA LA RED\n",
    "# INPUT PAM\n",
    "#input_pam_dir = 'D:/TT/Memoria/MemoriaCodigoFuentev3/codigo_matlab/codigo_fuente/signals_LDS/TEC' + persona + '/PAMnoises_matrixcomplex_mat'\n",
    "# INPUT VSCd\n",
    "#input_vscd_dir = 'D:/TT/Memoria/MemoriaCodigoFuentev3/codigo_matlab/codigo_fuente/signals_LDS/TEC' + persona + '/VSCdnoises_matrixcomplex_mat'\n",
    "# INPUT VSCI\n",
    "#input_vsci_dir = 'D:/TT/Memoria/MemoriaCodigoFuentev3/codigo_matlab/codigo_fuente/signals_LDS/TEC' + persona + '/VSCinoises_matrixcomplex_mat'\n",
    "\n",
    "# OUTPUT O SALIDAS ESPERADAS PARA LA RED\n",
    "# OUTPUT PAM\n",
    "#output_pam_dir = 'D:/TT/Memoria/MemoriaCodigoFuentev3/codigo_matlab/codigo_fuente/signals_LDS/TEC' + persona + '/PAMnoises_matrixcomplex_npy'\n",
    "# OUTPUT PAM\n",
    "#output_vscd_dir = 'D:/TT/Memoria/MemoriaCodigoFuentev3/codigo_matlab/codigo_fuente/signals_LDS/TEC' + persona + '/VSCdnoises_matrixcomplex_npy'\n",
    "# OUTPUT PAM\n",
    "#output_vsci_dir = 'D:/TT/Memoria/MemoriaCodigoFuentev3/codigo_matlab/codigo_fuente/signals_LDS/TEC' + persona + '/VSCinoises_matrixcomplex_npy'\n",
    "\n",
    "\n",
    "print(input_pam_dir)\n",
    "print(input_vscd_dir)\n",
    "print(input_vsci_dir)"
   ]
  },
  {
   "cell_type": "markdown",
   "metadata": {},
   "source": [
    "Crear los directorios de salida si no existen"
   ]
  },
  {
   "cell_type": "code",
   "execution_count": 5,
   "metadata": {},
   "outputs": [],
   "source": [
    "os.makedirs(output_pam_dir, exist_ok=True) # DIRECTORIO PARA GUARDAR MATRICES COMPLEJAS DE PAM EN FORMATO .npy\n",
    "os.makedirs(output_vscd_dir, exist_ok=True) # DIRECTORIO PARA GUARDAR MATRICES COMPLEJAS DE VSCd EN FORMATO .npy\n",
    "os.makedirs(output_vsci_dir, exist_ok=True) # DIRECTORIO PARA GUARDAR MATRICES COMPLEJAS DE VSCi EN FORMATO .npy"
   ]
  },
  {
   "cell_type": "markdown",
   "metadata": {},
   "source": [
    "Funcion para convertir archivos .mat a .npy"
   ]
  },
  {
   "cell_type": "code",
   "execution_count": 6,
   "metadata": {},
   "outputs": [
    {
     "name": "stdout",
     "output_type": "stream",
     "text": [
      "Total de archivos a analizar ->  50\n"
     ]
    }
   ],
   "source": [
    "total_files=sum(1 for filename in os.listdir(input_pam_dir) if filename.endswith('.mat')) + 1\n",
    "print(\"Total de archivos a analizar -> \",total_files-1)"
   ]
  },
  {
   "cell_type": "code",
   "execution_count": 7,
   "metadata": {},
   "outputs": [],
   "source": [
    "def convert_mat_to_npy(input_dir, output_dir, prefix):\n",
    "    for i in range(1, total_files):\n",
    "        mat_file = os.path.join(input_dir, f'{prefix}_noise_{i}.mat')\n",
    "        npy_file = os.path.join(output_dir, f'{prefix}_noise_{i}.npy')\n",
    "        \n",
    "        # Cargar el archivo .mat\n",
    "        mat_data = loadmat(mat_file)\n",
    "        \n",
    "        # Extraer la matriz compleja\n",
    "        matrix_key = [key for key in mat_data.keys() if not key.startswith('__')][0]\n",
    "        matrix = mat_data[matrix_key]\n",
    "        \n",
    "        # Guardar la matriz en formato .npy\n",
    "        np.save(npy_file, matrix)"
   ]
  },
  {
   "cell_type": "markdown",
   "metadata": {},
   "source": [
    "Convertir archivos .mat a .npy para PAM y VSC"
   ]
  },
  {
   "cell_type": "code",
   "execution_count": 8,
   "metadata": {},
   "outputs": [],
   "source": [
    "convert_mat_to_npy(input_pam_dir, output_pam_dir, 'matrix_complex_pam')\n",
    "convert_mat_to_npy(input_vscd_dir, output_vscd_dir, 'matrix_complex_vscd')\n",
    "convert_mat_to_npy(input_vsci_dir, output_vsci_dir, 'matrix_complex_vsci')"
   ]
  },
  {
   "cell_type": "markdown",
   "metadata": {},
   "source": [
    "**Conversion a tensor tridimensional** (Estructura adecuada para entrenar la red U-net)"
   ]
  },
  {
   "cell_type": "markdown",
   "metadata": {},
   "source": [
    "Directorios salida para matrices con estructura tensor tridimensional"
   ]
  },
  {
   "cell_type": "code",
   "execution_count": 9,
   "metadata": {},
   "outputs": [],
   "source": [
    "input_pam_dir = 'D:/TT/Memoria/MemoriaCodigoFuentev3/codigo_matlab/codigo_fuente/signals_LDS/' + persona + '/PAMnoises_matrixcomplex_npy'\n",
    "input_vscd_dir = 'D:/TT/Memoria/MemoriaCodigoFuentev3/codigo_matlab/codigo_fuente/signals_LDS/' + persona + '/VSCdnoises_matrixcomplex_npy'\n",
    "input_vsci_dir = 'D:/TT/Memoria/MemoriaCodigoFuentev3/codigo_matlab/codigo_fuente/signals_LDS/' + persona + '/VSCinoises_matrixcomplex_npy'\n",
    "\n",
    "output_pam_dir = 'D:/TT/Memoria/MemoriaCodigoFuentev3/codigo_matlab/codigo_fuente/signals_LDS/' + persona + '/PAMnoises_matrixcomplex_npy_tensor3d'\n",
    "output_vscd_dir = 'D:/TT/Memoria/MemoriaCodigoFuentev3/codigo_matlab/codigo_fuente/signals_LDS/' + persona + '/VSCdnoises_matrixcomplex_npy_tensor3d'\n",
    "output_vsci_dir = 'D:/TT/Memoria/MemoriaCodigoFuentev3/codigo_matlab/codigo_fuente/signals_LDS/' + persona + '/VSCinoises_matrixcomplex_npy_tensor3d'"
   ]
  },
  {
   "cell_type": "markdown",
   "metadata": {},
   "source": [
    "Crear directorios de salida si no existen (matrices complejas en forma de tensor tridimensional)"
   ]
  },
  {
   "cell_type": "code",
   "execution_count": 10,
   "metadata": {},
   "outputs": [],
   "source": [
    "os.makedirs(output_pam_dir, exist_ok=True)\n",
    "os.makedirs(output_vscd_dir, exist_ok=True)\n",
    "os.makedirs(output_vsci_dir, exist_ok=True)"
   ]
  },
  {
   "cell_type": "markdown",
   "metadata": {},
   "source": [
    "####################################################\n",
    "PREPROCESAMIENTO ANTES DE NORMALIZACIÓN DE MATRICES\n",
    "####################################################"
   ]
  },
  {
   "cell_type": "markdown",
   "metadata": {},
   "source": [
    "**CÁLCULO DE LA MEDIA - PAM & VSC (la media se calcula teniendo en cuenta todas las matrices)**"
   ]
  },
  {
   "cell_type": "markdown",
   "metadata": {},
   "source": [
    "# Acumuladores para calcular la media de cada matriz (real e imaginaria) y la desviacion estandar\n",
    "\n",
    "#==========================\n",
    "#=== PAM SIGNAl ===========\n",
    "#==========================\n",
    "#===\n",
    "# Para media\n",
    "#===\n",
    "sumatoria_real_pam = 0\n",
    "media_real_pam = 0\n",
    "\n",
    "sumatoria_imag_pam = 0\n",
    "media_imag_pam = 0\n",
    "#===\n",
    "# Para la desviacion estandar\n",
    "#===\n",
    "sumatoria_real_cuadrada_pam = 0\n",
    "sumatoria_imag_cuadrada_pam = 0\n",
    "\n",
    "desv_real_pam = 0\n",
    "desv_imag_pam = 0\n",
    "\n",
    "\n",
    "#==========================\n",
    "#=== VSC SIGNAl ===========\n",
    "#==========================\n",
    "#===\n",
    "# Para media\n",
    "#===\n",
    "sumatoria_real_vsc = 0\n",
    "media_real_vsc = 0\n",
    "\n",
    "sumatoria_imag_vsc = 0\n",
    "media_imag_vsc = 0\n",
    "#===\n",
    "# Para la desviacion estandar\n",
    "#===\n",
    "sumatoria_real_cuadrada_vsc = 0\n",
    "sumatoria_imag_cuadrada_vsc = 0\n",
    "\n",
    "desv_real_vsc = 0\n",
    "desv_imag_vsc = 0\n",
    "\n",
    "\n"
   ]
  },
  {
   "cell_type": "markdown",
   "metadata": {},
   "source": [
    "**FUNCIONES PARA EL CÁLCULO DE LA MEDIA Y DESVIACIÓN ESTÁNDAR PARA LAS SEÑALES [[  PAM  ]]**"
   ]
  },
  {
   "cell_type": "markdown",
   "metadata": {},
   "source": [
    "#Entrada: matriz(array bidimensiional nxm), sumatoria_real_pam(int)\n",
    "#Salida: -\n",
    "#Descripcion: funcion que suma todos los elementos de una matriz (parte real de una matriz compleja PAM)\n",
    "def sumatoria_acumulada_real_pam(matriz):\n",
    "    global sumatoria_real_pam\n",
    "    sumatoria_real_pam = sumatoria_real_pam + np.sum(matriz)\n",
    "    #print(sumatoria_real_pam)\n",
    "\n",
    "#Entrada: matriz(array bidimensiional nxm), sumatoria_real_cuadrada_pam(int)\n",
    "#Salida: -\n",
    "#Descripcion: funcion que tiene como objetivo calcular el (x - u)^2 para su posterior uso en el calculo de la desviacion estandar. \n",
    "#             Con \"x\" cada elementos de la matriz y \"u\" la media de todas las matrices PAM.\n",
    "def sumatoria_acumulada_real_cuadrada_pam(matriz):\n",
    "    global sumatoria_real_cuadrada_pam, media_real_pam\n",
    "    for fila in matriz:\n",
    "        for elemento in fila:\n",
    "            sumatoria_real_cuadrada_pam = sumatoria_real_cuadrada_pam + (elemento - media_real_pam)**2\n",
    "\n",
    "\n",
    "#=====================================================================================================================================================\n",
    "#=====================================================================================================================================================\n",
    "\n",
    "\n",
    "#Entrada: matriz(array bidimensiional nxm), sumatoria_imag_pam(int)\n",
    "#Salida: -\n",
    "#Descripcion: funcion que suma todos los elementos de una matriz (parte imaginaria de una matriz compleja PAM)\n",
    "def sumatoria_acumulada_imag_pam(matriz):\n",
    "    global sumatoria_imag_pam\n",
    "    sumatoria_imag_pam = sumatoria_imag_pam + np.sum(matriz)\n",
    "\n",
    "#Entrada: matriz(array bidimensiional nxm), sumatoria_imag_cuadrada_pam(int)\n",
    "#Salida: -\n",
    "#Descripcion: funcion que tiene como objetivo calcular el (x - u)^2 para su posterior uso en el calculo de la desviacion estandar. \n",
    "#             Con \"x\" cada elementos de la matriz y \"u\" la media de todas las matrices PAM.\n",
    "def sumatoria_acumulada_imag_cuadrada_pam(matriz):\n",
    "    global sumatoria_imag_cuadrada_pam, media_imag_pam\n",
    "    for fila in matriz:\n",
    "        for elemento in fila:\n",
    "            sumatoria_imag_cuadrada_pam = sumatoria_imag_cuadrada_pam + (elemento - media_imag_pam)**2\n",
    "\n",
    "\n"
   ]
  },
  {
   "cell_type": "markdown",
   "metadata": {},
   "source": [
    "**FUNCIONES PARA EL CÁLCULO DE LA MEDIA Y DESVIACIÓN ESTÁNDAR PARA LAS SEÑALES [[  VSC  ]]**"
   ]
  },
  {
   "cell_type": "markdown",
   "metadata": {},
   "source": [
    "#Entrada: matriz(array bidimensiional nxm), sumatoria_real_vsc(int)\n",
    "#Salida: -\n",
    "#Descripcion: funcion que suma todos los elementos de una matriz (parte real de una matriz compleja VSC)\n",
    "def sumatoria_acumulada_real_vsc(matriz):\n",
    "    global sumatoria_real_vsc\n",
    "    sumatoria_real_vsc = sumatoria_real_vsc + np.sum(matriz)\n",
    "\n",
    "\n",
    "#Entrada: matriz(array bidimensiional nxm), sumatoria_real_cuadrada_vsc(int)\n",
    "#Salida: -\n",
    "#Descripcion: funcion que tiene como objetivo calcular el (x - u)^2 para su posterior uso en el calculo de la desviacion estandar. \n",
    "#             Con \"x\" cada elementos de la matriz y \"u\" la media de todas las matrices VSC.\n",
    "def sumatoria_acumulada_real_cuadrada_vsc(matriz):\n",
    "    global sumatoria_real_cuadrada_vsc, media_real_vsc\n",
    "    for fila in matriz:\n",
    "        for elemento in fila:\n",
    "            sumatoria_real_cuadrada_vsc = sumatoria_real_cuadrada_vsc + (elemento - media_real_vsc)**2\n",
    "\n",
    "\n",
    "#=====================================================================================================================================================\n",
    "#=====================================================================================================================================================\n",
    "\n",
    "\n",
    "#Entrada: matriz(array bidimensiional nxm), sumatoria_imag_vsc(int)\n",
    "#Salida: -\n",
    "#Descripcion: funcion que suma todos los elementos de una matriz (parte imaginaria de una matriz compleja VSC)\n",
    "def sumatoria_acumulada_imag_vsc(matriz):\n",
    "    global sumatoria_imag_vsc\n",
    "    sumatoria_imag_vsc = sumatoria_imag_vsc + np.sum(matriz)\n",
    "\n",
    "\n",
    "#Entrada: matriz(array bidimensiional nxm), sumatoria_imag_cuadrada_vsc(int)\n",
    "#Salida: -\n",
    "#Descripcion: funcion que tiene como objetivo calcular el (x - u)^2 para su posterior uso en el calculo de la desviacion estandar. \n",
    "#             Con \"x\" cada elementos de la matriz y \"u\" la media de todas las matrices VSC.\n",
    "def sumatoria_acumulada_imag_cuadrada_vsc(matriz):\n",
    "    global sumatoria_imag_cuadrada_vsc, media_imag_vsc\n",
    "    for fila in matriz:\n",
    "        for elemento in fila:\n",
    "            sumatoria_imag_cuadrada_vsc = sumatoria_imag_cuadrada_vsc + (elemento - media_imag_vsc)**2\n",
    "\n",
    "\n"
   ]
  },
  {
   "cell_type": "markdown",
   "metadata": {},
   "source": [
    "**RECORRER MATRICES & CÁLCULO DE LA MEDIA  MATRIZ PAM (Presion Arterial Media)**"
   ]
  },
  {
   "cell_type": "markdown",
   "metadata": {},
   "source": [
    "for filename in os.listdir(input_pam_dir):\n",
    "    if filename.endswith('.npy'):\n",
    "        # Se obtiene el archivo .npy en el directorio \"input_pam_dir\"\n",
    "        input_path = os.path.join(input_pam_dir, filename)\n",
    "        # Cargar la matriz compleja\n",
    "        matriz_compleja = np.load(input_path)\n",
    "        \n",
    "        #========\n",
    "        # Normalizacion de los matrices\n",
    "        #========\n",
    "        # Sumar todos los datos de las matrices\n",
    "        sumatoria_acumulada_real_pam(matriz_compleja.real) # para matriz real\n",
    "        sumatoria_acumulada_imag_pam(matriz_compleja.imag) # para matriz imaginaria\n",
    "\n",
    "\n",
    "\n",
    "# Se calcula la media real de matrices correspondientes a pam signals: Se suman cada unos de los coeficientes de cada matriz real pam (archivos x filas x columnas)\n",
    "num_files_input_pam_dir = sum(1 for filename in os.listdir(input_pam_dir) if filename.endswith('.npy'))\n",
    "filas_matriz, columnas_matriz = matriz_compleja.shape\n",
    "coefs_totales =  num_files_input_pam_dir * filas_matriz * columnas_matriz # N\n",
    "media_real_pam = sumatoria_real_pam / coefs_totales # MEDIA REAL\n",
    "media_imag_pam = sumatoria_imag_pam / coefs_totales # MEDIA IMAGINARIA\n",
    "\n"
   ]
  },
  {
   "cell_type": "markdown",
   "metadata": {},
   "source": [
    "**RECORRER MATRICES Y CÁLCULO DE LA DESVIACIÓN ESTÁNDAR || MATRIZ PAM (Presion Arterial Media)**"
   ]
  },
  {
   "cell_type": "markdown",
   "metadata": {},
   "source": [
    "for filename in os.listdir(input_pam_dir):\n",
    "    if filename.endswith('.npy'):\n",
    "        # Se obtiene el archivo .npy en el directorio \"input_pam_dir\"\n",
    "        input_path = os.path.join(input_pam_dir, filename)\n",
    "        # Cargar la matriz compleja\n",
    "        matriz_compleja = np.load(input_path)\n",
    "\n",
    "        # Calculo de sumatoria(x - u)^2 - matriz real\n",
    "        sumatoria_acumulada_real_cuadrada_pam(matriz_compleja.real)\n",
    "        # Calculo de sumatoria(x - u)^2 - matriz imaginaria\n",
    "        sumatoria_acumulada_imag_cuadrada_pam(matriz_compleja.imag)\n",
    "\n",
    "# Se calcula de desviacion estandar de las matrices reales e imaginarias\n",
    "desv_real_pam = np.square(sumatoria_real_cuadrada_pam/coefs_totales)\n",
    "desv_imag_pam = np.square(sumatoria_imag_cuadrada_pam/coefs_totales)"
   ]
  },
  {
   "cell_type": "markdown",
   "metadata": {},
   "source": [
    "#==============================================================================================================================\n",
    "#==============================================================================================================================\n",
    "#=============================================================================================================================="
   ]
  },
  {
   "cell_type": "markdown",
   "metadata": {},
   "source": [
    "**RECORRER MATRICES & CÁLCULO DE LA MEDIA MATRIZ VSC (Velocidad Sanguínea Cerebral)**"
   ]
  },
  {
   "cell_type": "markdown",
   "metadata": {},
   "source": [
    "for filename in os.listdir(input_vsc_dir):\n",
    "    if filename.endswith('.npy'):\n",
    "        # Se obtiene el archivo .npy en el directorio \"input_vsc_dir\"\n",
    "        input_path = os.path.join(input_vsc_dir, filename)\n",
    "        # Cargar la matriz compleja\n",
    "        matriz_compleja = np.load(input_path)\n",
    "        \n",
    "        #========\n",
    "        # Normalizacion de los matrices\n",
    "        #========\n",
    "        # Sumar todos los datos de las matrices\n",
    "        sumatoria_acumulada_real_vsc(matriz_compleja.real) # para matriz real\n",
    "        sumatoria_acumulada_imag_vsc(matriz_compleja.imag) # para matriz imaginaria\n",
    "\n",
    "\n",
    "\n",
    "# Se calcula la media real de matrices correspondientes a vsc signals: Se suman cada unos de los coeficientes de cada matriz real vsc (archivos x filas x columnas)\n",
    "num_files_input_vsc_dir = sum(1 for filename in os.listdir(input_vsc_dir) if filename.endswith('.npy'))\n",
    "media_real_vsc = sumatoria_real_vsc / coefs_totales # MEDIA REAL\n",
    "media_imag_vsc = sumatoria_imag_vsc / coefs_totales # MEDIA IMAGINARIA\n",
    "\n"
   ]
  },
  {
   "cell_type": "markdown",
   "metadata": {},
   "source": [
    "**RECORRER MATRICES Y CÁLCULO DE LA DESVIACIÓN ESTÁNDAR || MATRIZ VSC (Velocidad Sanguínea Cerebral)**"
   ]
  },
  {
   "cell_type": "markdown",
   "metadata": {},
   "source": [
    "for filename in os.listdir(input_vsc_dir):\n",
    "    if filename.endswith('.npy'):\n",
    "        # Se obtiene el archivo .npy en el directorio \"input_vsc_dir\"\n",
    "        input_path = os.path.join(input_vsc_dir, filename)\n",
    "        # Cargar la matriz compleja\n",
    "        matriz_compleja = np.load(input_path)\n",
    "\n",
    "        # Calculo de sumatoria(x - u)^2 - matriz real\n",
    "        sumatoria_acumulada_real_cuadrada_vsc(matriz_compleja.real)\n",
    "        # Calculo de sumatoria(x - u)^2 - matriz imaginaria\n",
    "        sumatoria_acumulada_imag_cuadrada_vsc(matriz_compleja.imag)\n",
    "\n",
    "# Se calcula de desviacion estandar de las matrices reales e imaginarias\n",
    "desv_real_vsc = np.square(sumatoria_real_cuadrada_vsc/coefs_totales)\n",
    "desv_imag_vsc = np.square(sumatoria_imag_cuadrada_vsc/coefs_totales)"
   ]
  },
  {
   "cell_type": "markdown",
   "metadata": {},
   "source": [
    "**APLICACIÓN DE NORMALIZACION A LAS MATRICES PAM Y VSC**"
   ]
  },
  {
   "cell_type": "markdown",
   "metadata": {},
   "source": [
    "##############################################################\n",
    "**NORMALIZACION MIN-MAX**\n",
    "##############################################################"
   ]
  },
  {
   "cell_type": "markdown",
   "metadata": {},
   "source": [
    "min_real_pam = 1000000\n",
    "min_imag_pam = 1000000\n",
    "max_real_pam = -100\n",
    "max_imag_pam = -100\n",
    "\n",
    "min_real_vsc = 1000000\n",
    "min_imag_vsc = 1000000\n",
    "max_real_vsc = -100\n",
    "max_imag_vsc = -100\n"
   ]
  },
  {
   "cell_type": "markdown",
   "metadata": {},
   "source": [
    "\n",
    "#PAM: encontrar min y max de matrices reales e imaginarias\n",
    "def encontrar_min_pam(matriz):\n",
    "    global min_real_pam, min_imag_pam\n",
    "    if np.min(matriz.real) < min_real_pam:\n",
    "        min_real_pam = np.min(matriz.real)\n",
    "\n",
    "    if np.min(matriz.imag) < min_imag_pam:\n",
    "        min_imag_pam = np.min(matriz.imag)\n",
    "\n",
    "\n",
    "def encontrar_max_pam(matriz):\n",
    "    global max_real_pam, max_imag_pam\n",
    "    if np.max(matriz.real) > max_real_pam:\n",
    "        max_real_pam = np.max(matriz.real)\n",
    "\n",
    "    if np.max(matriz.imag) > max_imag_pam:\n",
    "        max_imag_pam = np.max(matriz.imag)\n",
    "\n",
    "\n",
    "\n",
    "\n",
    "#################################################################################################\n",
    "#################################################################################################\n",
    "#################################################################################################\n",
    "\n",
    "\n",
    "#VSC: encontrar min y max de matrices reales e imaginarias\n",
    "\n",
    "def encontrar_min_vsc(matriz):\n",
    "    global min_real_vsc, min_imag_vsc\n",
    "    if np.min(matriz.real) < min_real_vsc:\n",
    "        min_real_vsc = np.min(matriz.real)\n",
    "\n",
    "    if np.min(matriz.imag) < min_imag_vsc:\n",
    "        min_imag_vsc = np.min(matriz.imag)\n",
    "\n",
    "\n",
    "def encontrar_max_vsc(matriz):\n",
    "    global max_real_vsc, max_imag_vsc\n",
    "    if np.max(matriz.real) > max_real_vsc:\n",
    "        max_real_vsc = np.max(matriz.real)\n",
    "\n",
    "    if np.max(matriz.imag) > max_imag_vsc:\n",
    "        max_imag_vsc = np.max(matriz.imag)\n"
   ]
  },
  {
   "cell_type": "markdown",
   "metadata": {},
   "source": [
    "#TESTING MIN-MAX\n",
    "#PAM\n",
    "for filename in os.listdir(input_pam_dir):\n",
    "    if filename.endswith('.npy'):\n",
    "        # Se obtiene el archivo .npy en el directorio \"input_vsc_dir\"\n",
    "        input_path = os.path.join(input_pam_dir, filename)\n",
    "        # Cargar la matriz compleja\n",
    "        matriz_compleja = np.load(input_path)\n",
    "\n",
    "        # Iterando sobre todas las matrices para encontrar el min y max\n",
    "        encontrar_min_pam(matriz_compleja)\n",
    "        encontrar_max_pam(matriz_compleja)\n",
    "\n",
    "#VSC\n",
    "for filename in os.listdir(input_vsc_dir):\n",
    "    if filename.endswith('.npy'):\n",
    "        # Se obtiene el archivo .npy en el directorio \"input_vsc_dir\"\n",
    "        input_path = os.path.join(input_vsc_dir, filename)\n",
    "        # Cargar la matriz compleja\n",
    "        matriz_compleja = np.load(input_path)\n",
    "\n",
    "        # Iterando sobre todas las matrices para encontrar el min y max\n",
    "        encontrar_min_vsc(matriz_compleja)\n",
    "        encontrar_max_vsc(matriz_compleja)\n",
    "        \n",
    "\n",
    "print(min_real_pam)\n",
    "print(min_imag_pam)\n",
    "print(max_real_pam)\n",
    "print(max_imag_pam)\n",
    "\n",
    "print(\"------------\")\n",
    "\n",
    "print(min_real_vsc)\n",
    "print(min_imag_vsc)\n",
    "print(max_real_vsc)\n",
    "print(max_imag_vsc)"
   ]
  },
  {
   "cell_type": "markdown",
   "metadata": {},
   "source": [
    "##############################################################\n",
    "**NORMALIZACION Z-CORE**\n",
    "##############################################################\n",
    "z = (x - u) / desv"
   ]
  },
  {
   "cell_type": "markdown",
   "metadata": {},
   "source": [
    "#Entrada: matriz_compleja PAM (array bidimensional)\n",
    "#Salida: z_real (matriz real de pam normalizada), z_imag (matriz imag de pam normalizada)\n",
    "#Descripcion: funcion encargada de normalizar una matriz pam y retornar las matrices real e imaginarias normalizadas\n",
    "def normalizacion_pam(matriz_compleja):\n",
    "    global media_real_pam, media_imag_pam, desv_real_pam, desv_imag_pam\n",
    "    # Aplicacion de normalziacion z-core || z=(x - u)/desv\n",
    "    z_real = (matriz_compleja.real - media_real_pam) / desv_real_pam # normalizarcion parte real pam\n",
    "    z_imag = (matriz_compleja.imag - media_imag_pam) / desv_imag_pam # normalizacion parte imaginaria pam\n",
    "    return z_real, z_imag\n",
    "\n",
    "#Entrada: matriz_compleja PAM (array bidimensional)\n",
    "#Salida: z_real (matriz real de pam normalizada), z_imag (matriz imag de pam normalizada)\n",
    "#Descripcion: funcion encargada de normalizar una matriz pam y retornar las matrices real e imaginarias normalizadas\n",
    "def normalizacion_vsc(matriz_compleja):\n",
    "    global media_real_vsc, media_imag_vsc, desv_real_vsc, desv_imag_vsc\n",
    "    # Aplicacion de normalziacion z-core || z=(x - u)/desv\n",
    "    z_real = (matriz_compleja.real - media_real_vsc) / desv_real_vsc # normalizarcion parte real pam\n",
    "    z_imag = (matriz_compleja.imag - media_imag_vsc) / desv_imag_vsc # normalizacion parte imaginaria pam\n",
    "    return z_real, z_imag\n"
   ]
  },
  {
   "cell_type": "markdown",
   "metadata": {},
   "source": [
    "**NORMALIZACIÓN MEDIANTE MIN - MAX**<br>\n",
    "Ni = (Xi - Xmin) / (Xmax - Xmin)"
   ]
  },
  {
   "cell_type": "markdown",
   "metadata": {},
   "source": [
    "\n",
    "#Entrada: matriz_compleja (array bidimensional de matriz PAM)\n",
    "#Salida: n_real (matriz real de pam normalizada), n_imag (matriz imag de pam normalizada)\n",
    "#Descripcion: funcion encargada de normalizar una matriz pam y retornar las matrices real e imaginarias normalizadas\n",
    "def normalizacion_minmax_pam(matriz_compleja):\n",
    "    global min_real_pam, max_real_pam, min_imag_pam, max_imag_pam\n",
    "    n_real = (matriz_compleja.real - min_real_pam) / (max_real_pam - min_real_pam)\n",
    "    n_imag = (matriz_compleja.imag - min_imag_pam) / (max_imag_pam - min_imag_pam)\n",
    "    return n_real, n_imag\n",
    "\n",
    "\n",
    "#Entrada: matriz_compleja (array bidimensional de matriz VSC)\n",
    "#Salida: n_real (matriz real de vsc normalizada), n_imag (matriz imag de vsc normalizada)\n",
    "#Descripcion: funcion encargada de normalizar una matriz vsc y retornar las matrices real e imaginarias normalizadas\n",
    "def normalizacion_minmax_vsc(matriz_compleja):\n",
    "    global min_real_vsc, max_real_vsc,  min_imag_vsc, max_imag_vsc\n",
    "    n_real = (matriz_compleja.real - min_real_vsc) / (max_real_vsc - min_real_vsc)\n",
    "    n_imag = (matriz_compleja.imag - min_imag_vsc) / (max_imag_vsc - min_imag_vsc)\n",
    "    return n_real, n_imag\n"
   ]
  },
  {
   "cell_type": "markdown",
   "metadata": {},
   "source": [
    "**PROCESAR MATRICES SEGÚN UNA NORMALIZACIÓN Y ORGANIZAR DATOS PARA LA RED**"
   ]
  },
  {
   "cell_type": "code",
   "execution_count": 11,
   "metadata": {},
   "outputs": [],
   "source": [
    "\n",
    "#Entrada: matriz_compleja (array bidimensional)\n",
    "#Salida: datos_organizados (tensor de datos de la matriz pam)\n",
    "#Descripcion: funcion encargada de normalizar cada matriz pam y definir el input para la red u-net\n",
    "def procesar_matriz_compleja_pam(matriz_compleja):\n",
    "    \n",
    "    # Aplicacion de normalziacion Z-CORE || z = (x - u) / desv\n",
    "    #norm_real, norm_imag = normalizacion_pam(matriz_compleja)\n",
    "\n",
    "    # Aplicacion de normalziacion MIN-MAX || Ni = (Xi - Xmin) / (Xmax - Xmin)\n",
    "    #norm_real, norm_imag = normalizacion_minmax_pam(matriz_compleja)\n",
    "\n",
    "    # Crear input adecuado\n",
    "    #datos_organizados = np.stack((norm_real, norm_imag), axis=-1)\n",
    "    datos_organizados = np.stack((matriz_compleja.real, matriz_compleja.imag), axis=-1)\n",
    "    return datos_organizados\n",
    "\n",
    "\n",
    "\n",
    "\n",
    "\n",
    "#Entrada: matriz_compleja (array bidimensional)\n",
    "#Salida: datos_organizados (tensor de datos de la matriz vsc)\n",
    "#Descripcion: funcion encargada de normalizar cada matriz vsc y definir el input para la red u-net\n",
    "def procesar_matriz_compleja_vsc(matriz_compleja):\n",
    "    \n",
    "    # Aplicacion de normalziacion Z-CORE || z=(x - u)/desv\n",
    "    #norm_real, norm_imag = normalizacion_vsc(matriz_compleja)\n",
    "\n",
    "    # Aplicacion de normalziacion MIN-MAX || Ni = (Xi-Xmin)/(Xmax-Xmin)\n",
    "    #norm_real, norm_imag = normalizacion_minmax_vsc(matriz_compleja)\n",
    "    \n",
    "    # Crear input adecuado\n",
    "    #datos_organizados = np.stack((norm_real, norm_imag), axis=-1)\n",
    "    datos_organizados = np.stack((matriz_compleja.real, matriz_compleja.imag), axis=-1)\n",
    "    return datos_organizados"
   ]
  },
  {
   "cell_type": "markdown",
   "metadata": {},
   "source": [
    "**PROCESAR MATRICES COMPLEJAS EN LA CARPETA input_pam_dir y procesar matrices mediante una normalización**"
   ]
  },
  {
   "cell_type": "code",
   "execution_count": 12,
   "metadata": {},
   "outputs": [],
   "source": [
    "for filename in os.listdir(input_pam_dir):\n",
    "    if filename.endswith('.npy'):\n",
    "        input_path = os.path.join(input_pam_dir, filename)\n",
    "        output_path = os.path.join(output_pam_dir, filename)\n",
    "        \n",
    "        # Cargar la matriz compleja\n",
    "        matriz_compleja = np.load(input_path)\n",
    "        \n",
    "        # Procesar la matriz compleja segun una normalizacion\n",
    "        datos_organizados = procesar_matriz_compleja_pam(matriz_compleja)\n",
    "        \n",
    "        # Guardar los datos procesados\n",
    "        np.save(output_path, datos_organizados)\n",
    "\n"
   ]
  },
  {
   "cell_type": "markdown",
   "metadata": {},
   "source": [
    "**PROCESAR MATRICES COMPLEJAS EN LA CARPETA input_vscd_dir**"
   ]
  },
  {
   "cell_type": "code",
   "execution_count": 13,
   "metadata": {},
   "outputs": [
    {
     "name": "stdout",
     "output_type": "stream",
     "text": [
      "Procesamiento completado.\n"
     ]
    }
   ],
   "source": [
    "for filename in os.listdir(input_vscd_dir):\n",
    "    if filename.endswith('.npy'):\n",
    "        input_path = os.path.join(input_vscd_dir, filename)\n",
    "        output_path = os.path.join(output_vscd_dir, filename)\n",
    "        \n",
    "        # Cargar la matriz compleja\n",
    "        matriz_compleja = np.load(input_path)\n",
    "        \n",
    "        # Procesar la matriz compleja segun una normalizacion\n",
    "        datos_organizados = procesar_matriz_compleja_vsc(matriz_compleja)\n",
    "        \n",
    "        # Guardar los datos procesados\n",
    "        np.save(output_path, datos_organizados)\n",
    "        \n",
    "print(\"Procesamiento completado.\")"
   ]
  },
  {
   "cell_type": "markdown",
   "metadata": {},
   "source": [
    "**PROCESAR MATRICES COMPLEJAS EN LA CARPETA input_vsci_dir**"
   ]
  },
  {
   "cell_type": "code",
   "execution_count": 14,
   "metadata": {},
   "outputs": [
    {
     "name": "stdout",
     "output_type": "stream",
     "text": [
      "Procesamiento completado.\n"
     ]
    }
   ],
   "source": [
    "for filename in os.listdir(input_vsci_dir):\n",
    "    if filename.endswith('.npy'):\n",
    "        input_path = os.path.join(input_vsci_dir, filename)\n",
    "        output_path = os.path.join(output_vsci_dir, filename)\n",
    "        \n",
    "        # Cargar la matriz compleja\n",
    "        matriz_compleja = np.load(input_path)\n",
    "        \n",
    "        # Procesar la matriz compleja segun una normalizacion\n",
    "        datos_organizados = procesar_matriz_compleja_vsc(matriz_compleja)\n",
    "        \n",
    "        # Guardar los datos procesados\n",
    "        np.save(output_path, datos_organizados)\n",
    "        \n",
    "print(\"Procesamiento completado.\")"
   ]
  },
  {
   "cell_type": "markdown",
   "metadata": {},
   "source": [
    "**Verificacion de \"shape\" - matrices pam y vsc**"
   ]
  },
  {
   "cell_type": "markdown",
   "metadata": {},
   "source": [
    "Directorios de salida a verificar"
   ]
  },
  {
   "cell_type": "code",
   "execution_count": 15,
   "metadata": {},
   "outputs": [],
   "source": [
    "output_pam_dir_check = 'D:/TT/Memoria/MemoriaCodigoFuentev3/codigo_matlab/codigo_fuente/signals_LDS/' + persona + '/PAMnoises_matrixcomplex_npy_tensor3d'\n",
    "output_vscd_dir_check = 'D:/TT/Memoria/MemoriaCodigoFuentev3/codigo_matlab/codigo_fuente/signals_LDS/' + persona + '/VSCdnoises_matrixcomplex_npy_tensor3d'\n",
    "output_vsci_dir_check = 'D:/TT/Memoria/MemoriaCodigoFuentev3/codigo_matlab/codigo_fuente/signals_LDS/' + persona + '/VSCinoises_matrixcomplex_npy_tensor3d'"
   ]
  },
  {
   "cell_type": "markdown",
   "metadata": {},
   "source": [
    "Funcion para verificar la forma de una matriz"
   ]
  },
  {
   "cell_type": "code",
   "execution_count": 16,
   "metadata": {},
   "outputs": [],
   "source": [
    "def verificar_shape(directorio, nombre_archivo):\n",
    "    path = os.path.join(directorio, nombre_archivo)\n",
    "    matriz = np.load(path)\n",
    "    return matriz.shape"
   ]
  },
  {
   "cell_type": "markdown",
   "metadata": {},
   "source": [
    "Verificar la forma de un archivo de ejemplo en output_pam_dir_check"
   ]
  },
  {
   "cell_type": "code",
   "execution_count": 17,
   "metadata": {},
   "outputs": [
    {
     "name": "stdout",
     "output_type": "stream",
     "text": [
      "Shape de matrix_complex_pam_noise_1.npy en D:/TT/Memoria/MemoriaCodigoFuentev3/codigo_matlab/codigo_fuente/signals_LDS/SANOS/1_HEMU/PAMnoises_matrixcomplex_npy_tensor3d: (36, 1024, 2)\n"
     ]
    }
   ],
   "source": [
    "ejemplo_pam = os.listdir(output_pam_dir_check)[0]  # Obtener el primer archivo de la carpeta\n",
    "shape_pam = verificar_shape(output_pam_dir_check, ejemplo_pam)\n",
    "print(f\"Shape de {ejemplo_pam} en {output_pam_dir_check}: {shape_pam}\")"
   ]
  },
  {
   "cell_type": "markdown",
   "metadata": {},
   "source": [
    "Verificar la forma de un archivo de ejemplo en output_vscd_dir_check"
   ]
  },
  {
   "cell_type": "code",
   "execution_count": 18,
   "metadata": {},
   "outputs": [
    {
     "name": "stdout",
     "output_type": "stream",
     "text": [
      "Shape de matrix_complex_vscd_noise_1.npy en D:/TT/Memoria/MemoriaCodigoFuentev3/codigo_matlab/codigo_fuente/signals_LDS/SANOS/1_HEMU/VSCdnoises_matrixcomplex_npy_tensor3d: (36, 1024, 2)\n"
     ]
    }
   ],
   "source": [
    "ejemplo_vscd = os.listdir(output_vscd_dir_check)[0]  # Obtener el primer archivo de la carpeta\n",
    "shape_vscd = verificar_shape(output_vscd_dir_check, ejemplo_vscd)\n",
    "print(f\"Shape de {ejemplo_vscd} en {output_vscd_dir_check}: {shape_vscd}\")"
   ]
  },
  {
   "cell_type": "markdown",
   "metadata": {},
   "source": [
    "Verificar la forma de un archivo de ejemplo en output_vsci_dir_check"
   ]
  },
  {
   "cell_type": "code",
   "execution_count": 19,
   "metadata": {},
   "outputs": [
    {
     "name": "stdout",
     "output_type": "stream",
     "text": [
      "Shape de matrix_complex_vsci_noise_1.npy en D:/TT/Memoria/MemoriaCodigoFuentev3/codigo_matlab/codigo_fuente/signals_LDS/SANOS/1_HEMU/VSCinoises_matrixcomplex_npy_tensor3d: (36, 1024, 2)\n"
     ]
    }
   ],
   "source": [
    "ejemplo_vsci = os.listdir(output_vsci_dir_check)[0]  # Obtener el primer archivo de la carpeta\n",
    "shape_vsci = verificar_shape(output_vsci_dir_check, ejemplo_vsci)\n",
    "print(f\"Shape de {ejemplo_vsci} en {output_vsci_dir_check}: {shape_vsci}\")"
   ]
  },
  {
   "cell_type": "markdown",
   "metadata": {},
   "source": [
    "                                                **|||Red Neuronal Profunda: U-net|||**"
   ]
  },
  {
   "cell_type": "markdown",
   "metadata": {},
   "source": [
    "Directorios de entrada"
   ]
  },
  {
   "cell_type": "code",
   "execution_count": 20,
   "metadata": {},
   "outputs": [],
   "source": [
    "# SENAL PAM\n",
    "input_pam_dir = 'D:/TT/Memoria/MemoriaCodigoFuentev3/codigo_matlab/codigo_fuente/signals_LDS/' + persona + '/PAMnoises_matrixcomplex_npy_tensor3d'\n",
    "# VSC LADO DERECHO\n",
    "output_vscd_dir = 'D:/TT/Memoria/MemoriaCodigoFuentev3/codigo_matlab/codigo_fuente/signals_LDS/' + persona + '/VSCdnoises_matrixcomplex_npy_tensor3d'\n",
    "# VSC LADO IZQUIERDO\n",
    "output_vsci_dir = 'D:/TT/Memoria/MemoriaCodigoFuentev3/codigo_matlab/codigo_fuente/signals_LDS/' + persona + '/VSCinoises_matrixcomplex_npy_tensor3d'"
   ]
  },
  {
   "cell_type": "markdown",
   "metadata": {},
   "source": [
    "Funcion para cargar los archivos .npy"
   ]
  },
  {
   "cell_type": "code",
   "execution_count": 21,
   "metadata": {},
   "outputs": [],
   "source": [
    "def load_npy_files(input_dir):\n",
    "    files = sorted([os.path.join(input_dir, f) for f in os.listdir(input_dir) if f.endswith('.npy')])\n",
    "     # verificar orden con que entrar los archivos en X e Y\n",
    "    file_names = [os.path.basename(f) for f in files]\n",
    "    print(f\"Archivos: {file_names}\\n\")\n",
    "    data = [np.load(f) for f in files]\n",
    "    return np.array(data)"
   ]
  },
  {
   "cell_type": "markdown",
   "metadata": {},
   "source": [
    "CARGA DE DATOS DE ENTRADAS Y SALIDAS PARA LA RED (X: INPUTS; Y: OUTPUTS)"
   ]
  },
  {
   "cell_type": "code",
   "execution_count": 22,
   "metadata": {},
   "outputs": [
    {
     "name": "stdout",
     "output_type": "stream",
     "text": [
      "Archivos: ['matrix_complex_pam_noise_1.npy', 'matrix_complex_pam_noise_10.npy', 'matrix_complex_pam_noise_11.npy', 'matrix_complex_pam_noise_12.npy', 'matrix_complex_pam_noise_13.npy', 'matrix_complex_pam_noise_14.npy', 'matrix_complex_pam_noise_15.npy', 'matrix_complex_pam_noise_16.npy', 'matrix_complex_pam_noise_17.npy', 'matrix_complex_pam_noise_18.npy', 'matrix_complex_pam_noise_19.npy', 'matrix_complex_pam_noise_2.npy', 'matrix_complex_pam_noise_20.npy', 'matrix_complex_pam_noise_21.npy', 'matrix_complex_pam_noise_22.npy', 'matrix_complex_pam_noise_23.npy', 'matrix_complex_pam_noise_24.npy', 'matrix_complex_pam_noise_25.npy', 'matrix_complex_pam_noise_26.npy', 'matrix_complex_pam_noise_27.npy', 'matrix_complex_pam_noise_28.npy', 'matrix_complex_pam_noise_29.npy', 'matrix_complex_pam_noise_3.npy', 'matrix_complex_pam_noise_30.npy', 'matrix_complex_pam_noise_31.npy', 'matrix_complex_pam_noise_32.npy', 'matrix_complex_pam_noise_33.npy', 'matrix_complex_pam_noise_34.npy', 'matrix_complex_pam_noise_35.npy', 'matrix_complex_pam_noise_36.npy', 'matrix_complex_pam_noise_37.npy', 'matrix_complex_pam_noise_38.npy', 'matrix_complex_pam_noise_39.npy', 'matrix_complex_pam_noise_4.npy', 'matrix_complex_pam_noise_40.npy', 'matrix_complex_pam_noise_41.npy', 'matrix_complex_pam_noise_42.npy', 'matrix_complex_pam_noise_43.npy', 'matrix_complex_pam_noise_44.npy', 'matrix_complex_pam_noise_45.npy', 'matrix_complex_pam_noise_46.npy', 'matrix_complex_pam_noise_47.npy', 'matrix_complex_pam_noise_48.npy', 'matrix_complex_pam_noise_49.npy', 'matrix_complex_pam_noise_5.npy', 'matrix_complex_pam_noise_50.npy', 'matrix_complex_pam_noise_6.npy', 'matrix_complex_pam_noise_7.npy', 'matrix_complex_pam_noise_8.npy', 'matrix_complex_pam_noise_9.npy']\n",
      "\n",
      "Archivos: ['matrix_complex_vscd_noise_1.npy', 'matrix_complex_vscd_noise_10.npy', 'matrix_complex_vscd_noise_11.npy', 'matrix_complex_vscd_noise_12.npy', 'matrix_complex_vscd_noise_13.npy', 'matrix_complex_vscd_noise_14.npy', 'matrix_complex_vscd_noise_15.npy', 'matrix_complex_vscd_noise_16.npy', 'matrix_complex_vscd_noise_17.npy', 'matrix_complex_vscd_noise_18.npy', 'matrix_complex_vscd_noise_19.npy', 'matrix_complex_vscd_noise_2.npy', 'matrix_complex_vscd_noise_20.npy', 'matrix_complex_vscd_noise_21.npy', 'matrix_complex_vscd_noise_22.npy', 'matrix_complex_vscd_noise_23.npy', 'matrix_complex_vscd_noise_24.npy', 'matrix_complex_vscd_noise_25.npy', 'matrix_complex_vscd_noise_26.npy', 'matrix_complex_vscd_noise_27.npy', 'matrix_complex_vscd_noise_28.npy', 'matrix_complex_vscd_noise_29.npy', 'matrix_complex_vscd_noise_3.npy', 'matrix_complex_vscd_noise_30.npy', 'matrix_complex_vscd_noise_31.npy', 'matrix_complex_vscd_noise_32.npy', 'matrix_complex_vscd_noise_33.npy', 'matrix_complex_vscd_noise_34.npy', 'matrix_complex_vscd_noise_35.npy', 'matrix_complex_vscd_noise_36.npy', 'matrix_complex_vscd_noise_37.npy', 'matrix_complex_vscd_noise_38.npy', 'matrix_complex_vscd_noise_39.npy', 'matrix_complex_vscd_noise_4.npy', 'matrix_complex_vscd_noise_40.npy', 'matrix_complex_vscd_noise_41.npy', 'matrix_complex_vscd_noise_42.npy', 'matrix_complex_vscd_noise_43.npy', 'matrix_complex_vscd_noise_44.npy', 'matrix_complex_vscd_noise_45.npy', 'matrix_complex_vscd_noise_46.npy', 'matrix_complex_vscd_noise_47.npy', 'matrix_complex_vscd_noise_48.npy', 'matrix_complex_vscd_noise_49.npy', 'matrix_complex_vscd_noise_5.npy', 'matrix_complex_vscd_noise_50.npy', 'matrix_complex_vscd_noise_6.npy', 'matrix_complex_vscd_noise_7.npy', 'matrix_complex_vscd_noise_8.npy', 'matrix_complex_vscd_noise_9.npy']\n",
      "\n",
      "Modelo para VSC: sector derecho del cerebro.\n",
      "\n",
      "Abreviacion de sector a estudiar: vscd\n"
     ]
    }
   ],
   "source": [
    "# Se identifica que sector del cerebro se desea analizar:\n",
    "lado = ''\n",
    "if sector == 'derecho':\n",
    "    X = load_npy_files(input_pam_dir) # inputs\n",
    "    Y = load_npy_files(output_vscd_dir) # outputs\n",
    "    lado = 'vscd'\n",
    "    print('Modelo para VSC: sector derecho del cerebro.\\n')\n",
    "else:\n",
    "    X = load_npy_files(input_pam_dir) # inputs\n",
    "    Y = load_npy_files(output_vsci_dir) # outputs\n",
    "    lado = 'vsci'\n",
    "    print('Modelo para VSC: sector izquierdo del cerebro.\\n')\n",
    "print('Abreviacion de sector a estudiar:', lado)"
   ]
  },
  {
   "cell_type": "markdown",
   "metadata": {},
   "source": [
    "Verificar las formas de los datos cargados (# entradas, filas, columnas, canales)"
   ]
  },
  {
   "cell_type": "code",
   "execution_count": 23,
   "metadata": {},
   "outputs": [
    {
     "name": "stdout",
     "output_type": "stream",
     "text": [
      "Shape de los inputs (X): (50, 36, 1024, 2)\n",
      "Shape de los outputs (Y): (50, 36, 1024, 2)\n"
     ]
    }
   ],
   "source": [
    "print(f\"Shape de los inputs (X): {X.shape}\")\n",
    "print(f\"Shape de los outputs (Y): {Y.shape}\")"
   ]
  },
  {
   "cell_type": "markdown",
   "metadata": {},
   "source": [
    "Definir la U-Net con regularizacion L2"
   ]
  },
  {
   "cell_type": "code",
   "execution_count": 24,
   "metadata": {},
   "outputs": [],
   "source": [
    "'''\n",
    "def unet_model_with_l2(input_shape, l2_lambda):\n",
    "    inputs = tf.keras.Input(shape=input_shape)\n",
    "    \n",
    "    # Regularizer\n",
    "    l2_reg = tf.keras.regularizers.l2(l2_lambda)\n",
    "    \n",
    "    # Encoder\n",
    "    c1 = tf.keras.layers.Conv2D(64, (3, 3), activation='relu', padding='same', kernel_regularizer=l2_reg)(inputs)\n",
    "    c1 = tf.keras.layers.Conv2D(64, (3, 3), activation='relu', padding='same', kernel_regularizer=l2_reg)(c1)\n",
    "    p1 = tf.keras.layers.MaxPooling2D((2, 2))(c1)\n",
    "    \n",
    "    c2 = tf.keras.layers.Conv2D(128, (3, 3), activation='relu', padding='same', kernel_regularizer=l2_reg)(p1)\n",
    "    c2 = tf.keras.layers.Conv2D(128, (3, 3), activation='relu', padding='same', kernel_regularizer=l2_reg)(c2)\n",
    "    p2 = tf.keras.layers.MaxPooling2D((2, 2))(c2)\n",
    "    \n",
    "    # Bottleneck\n",
    "    c3 = tf.keras.layers.Conv2D(256, (3, 3), activation='relu', padding='same', kernel_regularizer=l2_reg)(p2)\n",
    "    c3 = tf.keras.layers.Conv2D(256, (3, 3), activation='relu', padding='same', kernel_regularizer=l2_reg)(c3)\n",
    "    \n",
    "    # Decoder\n",
    "    u4 = tf.keras.layers.Conv2DTranspose(128, (2, 2), strides=(2, 2), padding='same')(c3)\n",
    "    u4 = tf.keras.layers.concatenate([u4, c2])\n",
    "    c4 = tf.keras.layers.Conv2D(128, (3, 3), activation='relu', padding='same', kernel_regularizer=l2_reg)(u4)\n",
    "    c4 = tf.keras.layers.Conv2D(128, (3, 3), activation='relu', padding='same', kernel_regularizer=l2_reg)(c4)\n",
    "    \n",
    "    u5 = tf.keras.layers.Conv2DTranspose(64, (2, 2), strides=(2, 2), padding='same')(c4)\n",
    "    u5 = tf.keras.layers.concatenate([u5, c1])\n",
    "    c5 = tf.keras.layers.Conv2D(64, (3, 3), activation='relu', padding='same', kernel_regularizer=l2_reg)(u5)\n",
    "    c5 = tf.keras.layers.Conv2D(64, (3, 3), activation='relu', padding='same', kernel_regularizer=l2_reg)(c5)\n",
    "    \n",
    "    outputs = tf.keras.layers.Conv2D(2, (1, 1), activation='linear')(c5)\n",
    "    \n",
    "    model = tf.keras.Model(inputs=[inputs], outputs=[outputs])\n",
    "    \n",
    "    return model\n",
    "'''\n",
    "\n",
    "def unet_model(input_shape):\n",
    "    inputs = tf.keras.Input(shape=input_shape)\n",
    "    \n",
    "    # Regularizer\n",
    "    #l2_reg = tf.keras.regularizers.l2(l2_lambda)\n",
    "    \n",
    "    # Encoder\n",
    "    c1 = tf.keras.layers.Conv2D(64, (3, 3), activation='relu', padding='same')(inputs) #filtro original=64\n",
    "    c1 = tf.keras.layers.Conv2D(64, (3, 3), activation='relu', padding='same')(c1) #filtro original=64\n",
    "    p1 = tf.keras.layers.MaxPooling2D((2, 2))(c1)\n",
    "    \n",
    "    c2 = tf.keras.layers.Conv2D(128, (3, 3), activation='relu', padding='same')(p1) #filtro original=128\n",
    "    c2 = tf.keras.layers.Conv2D(128, (3, 3), activation='relu', padding='same')(c2) #filtro original=128\n",
    "    p2 = tf.keras.layers.MaxPooling2D((2, 2))(c2)\n",
    "    \n",
    "    # Bottleneck\n",
    "    c3 = tf.keras.layers.Conv2D(256, (3, 3), activation='relu', padding='same')(p2) #filtro original=256\n",
    "    c3 = tf.keras.layers.Conv2D(256, (3, 3), activation='relu', padding='same')(c3) #filtro original=256\n",
    "    \n",
    "    # Decoder\n",
    "    u4 = tf.keras.layers.Conv2DTranspose(128, (2, 2), strides=(2, 2), padding='same')(c3) #filtro original=128\n",
    "    u4 = tf.keras.layers.concatenate([u4, c2])\n",
    "    c4 = tf.keras.layers.Conv2D(128, (3, 3), activation='relu', padding='same')(u4) #filtro original=128\n",
    "    c4 = tf.keras.layers.Conv2D(128, (3, 3), activation='relu', padding='same')(c4) #filtro original=128\n",
    "    \n",
    "    u5 = tf.keras.layers.Conv2DTranspose(64, (2, 2), strides=(2, 2), padding='same')(c4) #filtro original=64\n",
    "    u5 = tf.keras.layers.concatenate([u5, c1])\n",
    "    c5 = tf.keras.layers.Conv2D(64, (3, 3), activation='relu', padding='same')(u5) #filtro original=64\n",
    "    c5 = tf.keras.layers.Conv2D(64, (3, 3), activation='relu', padding='same')(c5) #filtro original=64\n",
    "    \n",
    "    outputs = tf.keras.layers.Conv2D(2, (1, 1), activation='linear')(c5)\n",
    "    \n",
    "    model = tf.keras.Model(inputs=[inputs], outputs=[outputs])\n",
    "    \n",
    "    return model"
   ]
  },
  {
   "cell_type": "markdown",
   "metadata": {},
   "source": [
    "Definir la metrica NMSE ajustada para utilizar la varianza de los valores verdaderos"
   ]
  },
  {
   "cell_type": "code",
   "execution_count": 25,
   "metadata": {},
   "outputs": [],
   "source": [
    "def nmse(y_true, y_pred):\n",
    "    mse = tf.keras.backend.mean(tf.keras.backend.square(y_true - y_pred))\n",
    "    var_true = tf.keras.backend.var(y_true)\n",
    "    return mse / var_true"
   ]
  },
  {
   "cell_type": "markdown",
   "metadata": {
    "tags": []
   },
   "source": [
    "**HIPERPARAMETROS**"
   ]
  },
  {
   "cell_type": "code",
   "execution_count": 26,
   "metadata": {},
   "outputs": [],
   "source": [
    "max_epoch = 300\n",
    "batchsize = 8\n",
    "learning_rate = 0.0001\n",
    "#l2_lambda = 0.01\n",
    "validation_split = 0.2 # 70% entrenamiento & 30% validacion\n",
    "\n",
    "\n",
    " # alpha: el lr min al que llegara el decaimiento sera el 10% del lr inicia\n",
    "#alpha = 0.1\n",
    "# decay steps: Numero de pasos de entrenamiento tras los cuales el learning rate decaera desde su valor inicial hasta el valor final determinado por alpha\n",
    "#decay_steps = 300#(int(X.shape[0]/batchsize))*max_epoch \n",
    "#print(\"Total pasos de decaimiento ->\",decay_steps, \"pasos.\")"
   ]
  },
  {
   "cell_type": "markdown",
   "metadata": {},
   "source": [
    "**CREACIÓN DEL MODELO U-NET**"
   ]
  },
  {
   "cell_type": "code",
   "execution_count": 27,
   "metadata": {},
   "outputs": [],
   "source": [
    "input_shape = X.shape[1:]  # forma del input a entrar. en este caso esta forma debe coincidir con las matrices que entran a la red tensor X = [#inputs, columnas, filas, canales]. Se omite #inputs\n",
    "model = unet_model(input_shape)"
   ]
  },
  {
   "cell_type": "markdown",
   "metadata": {},
   "source": [
    "**DEFINICION DE LA FUNCION DE DECAIMIENTO, ALGORITMO OPTIMIZADOR, FUNCION DE PERDIDA Y METRICA**"
   ]
  },
  {
   "cell_type": "markdown",
   "metadata": {},
   "source": [
    "#funcion decaimiento de coseno\n",
    "decay_cosine = tf.keras.experimental.CosineDecay(learning_rate, decay_steps)\n",
    "def lr_schedule(X):\n",
    "    return float(decay_cosine(X))\n",
    "    \n",
    "\n",
    "lr_scheduler = tf.keras.callbacks.LearningRateScheduler(lr_schedule)"
   ]
  },
  {
   "cell_type": "code",
   "execution_count": 28,
   "metadata": {},
   "outputs": [],
   "source": [
    "optimizer = tf.keras.optimizers.Adam(learning_rate)\n",
    "model.compile(optimizer='adam', loss='mean_squared_error', metrics=[nmse])"
   ]
  },
  {
   "cell_type": "markdown",
   "metadata": {},
   "source": [
    "#########################################################################################################<br>\n",
    "#########################################################################################################<br>\n",
    "#########################################################################################################"
   ]
  },
  {
   "cell_type": "markdown",
   "metadata": {},
   "source": [
    "ENTRENAMIENTO DE LA RED"
   ]
  },
  {
   "cell_type": "code",
   "execution_count": 29,
   "metadata": {},
   "outputs": [
    {
     "name": "stdout",
     "output_type": "stream",
     "text": [
      "Epoch 1/300\n",
      "5/5 [==============================] - 29s 5s/step - loss: 0.3678 - nmse: 0.9124 - val_loss: 0.3041 - val_nmse: 0.8191\n",
      "Epoch 2/300\n",
      "5/5 [==============================] - 27s 6s/step - loss: 0.3387 - nmse: 0.8419 - val_loss: 0.3037 - val_nmse: 0.8178\n",
      "Epoch 3/300\n",
      "5/5 [==============================] - 26s 5s/step - loss: 0.3291 - nmse: 0.8185 - val_loss: 0.2870 - val_nmse: 0.7732\n",
      "Epoch 4/300\n",
      "5/5 [==============================] - 25s 5s/step - loss: 0.3216 - nmse: 0.7988 - val_loss: 0.2834 - val_nmse: 0.7633\n",
      "Epoch 5/300\n",
      "5/5 [==============================] - 25s 5s/step - loss: 0.3136 - nmse: 0.7798 - val_loss: 0.2715 - val_nmse: 0.7300\n",
      "Epoch 6/300\n",
      "5/5 [==============================] - 25s 5s/step - loss: 0.3046 - nmse: 0.7555 - val_loss: 0.2629 - val_nmse: 0.7065\n",
      "Epoch 7/300\n",
      "5/5 [==============================] - 25s 5s/step - loss: 0.2920 - nmse: 0.7255 - val_loss: 0.2481 - val_nmse: 0.6635\n",
      "Epoch 8/300\n",
      "5/5 [==============================] - 25s 5s/step - loss: 0.2767 - nmse: 0.6869 - val_loss: 0.2338 - val_nmse: 0.6220\n",
      "Epoch 9/300\n",
      "5/5 [==============================] - 25s 5s/step - loss: 0.2805 - nmse: 0.6946 - val_loss: 0.2561 - val_nmse: 0.6828\n",
      "Epoch 10/300\n",
      "5/5 [==============================] - 25s 5s/step - loss: 0.2810 - nmse: 0.6986 - val_loss: 0.2344 - val_nmse: 0.6281\n",
      "Epoch 11/300\n",
      "5/5 [==============================] - 25s 5s/step - loss: 0.2611 - nmse: 0.6488 - val_loss: 0.2138 - val_nmse: 0.5682\n",
      "Epoch 12/300\n",
      "5/5 [==============================] - 25s 5s/step - loss: 0.2421 - nmse: 0.5981 - val_loss: 0.1969 - val_nmse: 0.5212\n",
      "Epoch 13/300\n",
      "5/5 [==============================] - 25s 5s/step - loss: 0.2250 - nmse: 0.5562 - val_loss: 0.1794 - val_nmse: 0.4737\n",
      "Epoch 14/300\n",
      "5/5 [==============================] - 25s 5s/step - loss: 0.2113 - nmse: 0.5211 - val_loss: 0.1700 - val_nmse: 0.4501\n",
      "Epoch 15/300\n",
      "5/5 [==============================] - 25s 5s/step - loss: 0.1985 - nmse: 0.4921 - val_loss: 0.1560 - val_nmse: 0.4126\n",
      "Epoch 16/300\n",
      "5/5 [==============================] - 25s 5s/step - loss: 0.1846 - nmse: 0.4577 - val_loss: 0.1426 - val_nmse: 0.3779\n",
      "Epoch 17/300\n",
      "5/5 [==============================] - 25s 5s/step - loss: 0.1717 - nmse: 0.4223 - val_loss: 0.1340 - val_nmse: 0.3520\n",
      "Epoch 18/300\n",
      "5/5 [==============================] - 25s 5s/step - loss: 0.1655 - nmse: 0.4105 - val_loss: 0.1280 - val_nmse: 0.3380\n",
      "Epoch 19/300\n",
      "5/5 [==============================] - 25s 5s/step - loss: 0.1586 - nmse: 0.3906 - val_loss: 0.1256 - val_nmse: 0.3311\n",
      "Epoch 20/300\n",
      "5/5 [==============================] - 25s 5s/step - loss: 0.1526 - nmse: 0.3790 - val_loss: 0.1189 - val_nmse: 0.3129\n",
      "Epoch 21/300\n",
      "5/5 [==============================] - 26s 5s/step - loss: 0.1475 - nmse: 0.3657 - val_loss: 0.1148 - val_nmse: 0.3020\n",
      "Epoch 22/300\n",
      "5/5 [==============================] - 26s 5s/step - loss: 0.1416 - nmse: 0.3486 - val_loss: 0.1097 - val_nmse: 0.2889\n",
      "Epoch 23/300\n",
      "5/5 [==============================] - 26s 5s/step - loss: 0.1364 - nmse: 0.3390 - val_loss: 0.1063 - val_nmse: 0.2794\n",
      "Epoch 24/300\n",
      "5/5 [==============================] - 25s 5s/step - loss: 0.1330 - nmse: 0.3304 - val_loss: 0.1032 - val_nmse: 0.2712\n",
      "Epoch 25/300\n",
      "5/5 [==============================] - 24s 5s/step - loss: 0.1292 - nmse: 0.3176 - val_loss: 0.1025 - val_nmse: 0.2687\n",
      "Epoch 26/300\n",
      "5/5 [==============================] - 24s 5s/step - loss: 0.1267 - nmse: 0.3145 - val_loss: 0.1004 - val_nmse: 0.2627\n",
      "Epoch 27/300\n",
      "5/5 [==============================] - 24s 5s/step - loss: 0.1249 - nmse: 0.3088 - val_loss: 0.0996 - val_nmse: 0.2616\n",
      "Epoch 28/300\n",
      "5/5 [==============================] - 24s 5s/step - loss: 0.1211 - nmse: 0.2962 - val_loss: 0.0995 - val_nmse: 0.2604\n",
      "Epoch 29/300\n",
      "5/5 [==============================] - 24s 5s/step - loss: 0.1171 - nmse: 0.2871 - val_loss: 0.0972 - val_nmse: 0.2531\n",
      "Epoch 30/300\n",
      "5/5 [==============================] - 24s 5s/step - loss: 0.1134 - nmse: 0.2809 - val_loss: 0.0992 - val_nmse: 0.2577\n",
      "Epoch 31/300\n",
      "5/5 [==============================] - 24s 5s/step - loss: 0.1118 - nmse: 0.2775 - val_loss: 0.0990 - val_nmse: 0.2572\n",
      "Epoch 32/300\n",
      "5/5 [==============================] - 24s 5s/step - loss: 0.1088 - nmse: 0.2703 - val_loss: 0.0995 - val_nmse: 0.2579\n",
      "Epoch 33/300\n",
      "5/5 [==============================] - 25s 5s/step - loss: 0.1062 - nmse: 0.2631 - val_loss: 0.1032 - val_nmse: 0.2672\n",
      "Epoch 34/300\n",
      "5/5 [==============================] - 24s 5s/step - loss: 0.1044 - nmse: 0.2590 - val_loss: 0.1001 - val_nmse: 0.2606\n",
      "Epoch 35/300\n",
      "5/5 [==============================] - 24s 5s/step - loss: 0.0996 - nmse: 0.2477 - val_loss: 0.1047 - val_nmse: 0.2720\n",
      "Epoch 36/300\n",
      "5/5 [==============================] - 25s 5s/step - loss: 0.0950 - nmse: 0.2353 - val_loss: 0.1027 - val_nmse: 0.2664\n",
      "Epoch 37/300\n",
      "5/5 [==============================] - 24s 5s/step - loss: 0.0915 - nmse: 0.2252 - val_loss: 0.1021 - val_nmse: 0.2653\n",
      "Epoch 38/300\n",
      "5/5 [==============================] - 25s 5s/step - loss: 0.0878 - nmse: 0.2180 - val_loss: 0.1080 - val_nmse: 0.2789\n",
      "Epoch 39/300\n",
      "5/5 [==============================] - 24s 5s/step - loss: 0.0814 - nmse: 0.2019 - val_loss: 0.1017 - val_nmse: 0.2623\n",
      "Epoch 40/300\n",
      "5/5 [==============================] - 24s 5s/step - loss: 0.0764 - nmse: 0.1895 - val_loss: 0.1043 - val_nmse: 0.2696\n",
      "Epoch 41/300\n",
      "5/5 [==============================] - 24s 5s/step - loss: 0.0696 - nmse: 0.1730 - val_loss: 0.1097 - val_nmse: 0.2825\n",
      "Epoch 42/300\n",
      "5/5 [==============================] - 24s 5s/step - loss: 0.0654 - nmse: 0.1621 - val_loss: 0.1111 - val_nmse: 0.2846\n",
      "Epoch 43/300\n",
      "5/5 [==============================] - 24s 5s/step - loss: 0.0678 - nmse: 0.1674 - val_loss: 0.1066 - val_nmse: 0.2735\n",
      "Epoch 44/300\n",
      "5/5 [==============================] - 24s 5s/step - loss: 0.0634 - nmse: 0.1574 - val_loss: 0.1119 - val_nmse: 0.2866\n",
      "Epoch 45/300\n",
      "5/5 [==============================] - 24s 5s/step - loss: 0.0577 - nmse: 0.1431 - val_loss: 0.1108 - val_nmse: 0.2865\n",
      "Epoch 46/300\n",
      "5/5 [==============================] - 24s 5s/step - loss: 0.0538 - nmse: 0.1336 - val_loss: 0.1107 - val_nmse: 0.2847\n",
      "Epoch 47/300\n",
      "5/5 [==============================] - 24s 5s/step - loss: 0.0499 - nmse: 0.1240 - val_loss: 0.1121 - val_nmse: 0.2887\n",
      "Epoch 48/300\n",
      "5/5 [==============================] - 24s 5s/step - loss: 0.0467 - nmse: 0.1160 - val_loss: 0.1123 - val_nmse: 0.2906\n",
      "Epoch 49/300\n",
      "5/5 [==============================] - 24s 5s/step - loss: 0.0432 - nmse: 0.1071 - val_loss: 0.1178 - val_nmse: 0.3043\n",
      "Epoch 50/300\n",
      "5/5 [==============================] - 24s 5s/step - loss: 0.0407 - nmse: 0.1012 - val_loss: 0.1215 - val_nmse: 0.3128\n",
      "Epoch 51/300\n",
      "5/5 [==============================] - 25s 5s/step - loss: 0.0386 - nmse: 0.0956 - val_loss: 0.1165 - val_nmse: 0.3004\n",
      "Epoch 52/300\n",
      "5/5 [==============================] - 25s 5s/step - loss: 0.0359 - nmse: 0.0890 - val_loss: 0.1190 - val_nmse: 0.3054\n",
      "Epoch 53/300\n",
      "5/5 [==============================] - 24s 5s/step - loss: 0.0339 - nmse: 0.0841 - val_loss: 0.1179 - val_nmse: 0.3030\n",
      "Epoch 54/300\n",
      "5/5 [==============================] - 24s 5s/step - loss: 0.0321 - nmse: 0.0797 - val_loss: 0.1171 - val_nmse: 0.3020\n",
      "Epoch 55/300\n",
      "5/5 [==============================] - 24s 5s/step - loss: 0.0306 - nmse: 0.0762 - val_loss: 0.1176 - val_nmse: 0.3038\n",
      "Epoch 56/300\n",
      "5/5 [==============================] - 24s 5s/step - loss: 0.0292 - nmse: 0.0727 - val_loss: 0.1193 - val_nmse: 0.3061\n",
      "Epoch 57/300\n",
      "5/5 [==============================] - 24s 5s/step - loss: 0.0293 - nmse: 0.0728 - val_loss: 0.1195 - val_nmse: 0.3077\n",
      "Epoch 58/300\n",
      "5/5 [==============================] - 24s 5s/step - loss: 0.0277 - nmse: 0.0690 - val_loss: 0.1217 - val_nmse: 0.3139\n",
      "Epoch 59/300\n",
      "5/5 [==============================] - 24s 5s/step - loss: 0.0270 - nmse: 0.0671 - val_loss: 0.1218 - val_nmse: 0.3145\n",
      "Epoch 60/300\n",
      "5/5 [==============================] - 24s 5s/step - loss: 0.0244 - nmse: 0.0607 - val_loss: 0.1199 - val_nmse: 0.3087\n",
      "Epoch 61/300\n",
      "5/5 [==============================] - 24s 5s/step - loss: 0.0237 - nmse: 0.0590 - val_loss: 0.1166 - val_nmse: 0.2996\n",
      "Epoch 62/300\n",
      "5/5 [==============================] - 24s 5s/step - loss: 0.0225 - nmse: 0.0558 - val_loss: 0.1199 - val_nmse: 0.3085\n",
      "Epoch 63/300\n",
      "5/5 [==============================] - 24s 5s/step - loss: 0.0219 - nmse: 0.0543 - val_loss: 0.1200 - val_nmse: 0.3090\n",
      "Epoch 64/300\n",
      "5/5 [==============================] - 24s 5s/step - loss: 0.0201 - nmse: 0.0500 - val_loss: 0.1198 - val_nmse: 0.3080\n",
      "Epoch 65/300\n",
      "5/5 [==============================] - 24s 5s/step - loss: 0.0211 - nmse: 0.0525 - val_loss: 0.1154 - val_nmse: 0.2969\n",
      "Epoch 66/300\n",
      "5/5 [==============================] - 25s 5s/step - loss: 0.0220 - nmse: 0.0546 - val_loss: 0.1201 - val_nmse: 0.3085\n",
      "Epoch 67/300\n",
      "5/5 [==============================] - 24s 5s/step - loss: 0.0210 - nmse: 0.0521 - val_loss: 0.1196 - val_nmse: 0.3078\n",
      "Epoch 68/300\n",
      "5/5 [==============================] - 24s 5s/step - loss: 0.0189 - nmse: 0.0470 - val_loss: 0.1175 - val_nmse: 0.3028\n",
      "Epoch 69/300\n",
      "5/5 [==============================] - 24s 5s/step - loss: 0.0178 - nmse: 0.0443 - val_loss: 0.1187 - val_nmse: 0.3045\n",
      "Epoch 70/300\n",
      "5/5 [==============================] - 24s 5s/step - loss: 0.0170 - nmse: 0.0424 - val_loss: 0.1197 - val_nmse: 0.3077\n",
      "Epoch 71/300\n",
      "5/5 [==============================] - 24s 5s/step - loss: 0.0164 - nmse: 0.0407 - val_loss: 0.1187 - val_nmse: 0.3050\n",
      "Epoch 72/300\n",
      "5/5 [==============================] - 24s 5s/step - loss: 0.0157 - nmse: 0.0392 - val_loss: 0.1216 - val_nmse: 0.3121\n",
      "Epoch 73/300\n",
      "5/5 [==============================] - 24s 5s/step - loss: 0.0156 - nmse: 0.0388 - val_loss: 0.1203 - val_nmse: 0.3078\n",
      "Epoch 74/300\n",
      "5/5 [==============================] - 25s 5s/step - loss: 0.0150 - nmse: 0.0374 - val_loss: 0.1191 - val_nmse: 0.3059\n",
      "Epoch 75/300\n",
      "5/5 [==============================] - 26s 5s/step - loss: 0.0146 - nmse: 0.0362 - val_loss: 0.1211 - val_nmse: 0.3113\n",
      "Epoch 76/300\n",
      "5/5 [==============================] - 24s 5s/step - loss: 0.0141 - nmse: 0.0351 - val_loss: 0.1197 - val_nmse: 0.3080\n",
      "Epoch 77/300\n",
      "5/5 [==============================] - 24s 5s/step - loss: 0.0147 - nmse: 0.0366 - val_loss: 0.1200 - val_nmse: 0.3102\n",
      "Epoch 78/300\n",
      "5/5 [==============================] - 24s 5s/step - loss: 0.0145 - nmse: 0.0361 - val_loss: 0.1172 - val_nmse: 0.3015\n",
      "Epoch 79/300\n",
      "5/5 [==============================] - 24s 5s/step - loss: 0.0141 - nmse: 0.0352 - val_loss: 0.1228 - val_nmse: 0.3148\n",
      "Epoch 80/300\n",
      "5/5 [==============================] - 25s 5s/step - loss: 0.0141 - nmse: 0.0351 - val_loss: 0.1185 - val_nmse: 0.3051\n",
      "Epoch 81/300\n",
      "5/5 [==============================] - 25s 5s/step - loss: 0.0132 - nmse: 0.0329 - val_loss: 0.1232 - val_nmse: 0.3169\n",
      "Epoch 82/300\n",
      "5/5 [==============================] - 25s 5s/step - loss: 0.0128 - nmse: 0.0319 - val_loss: 0.1194 - val_nmse: 0.3071\n",
      "Epoch 83/300\n",
      "5/5 [==============================] - 24s 5s/step - loss: 0.0126 - nmse: 0.0312 - val_loss: 0.1228 - val_nmse: 0.3156\n",
      "Epoch 84/300\n",
      "5/5 [==============================] - 24s 5s/step - loss: 0.0128 - nmse: 0.0317 - val_loss: 0.1204 - val_nmse: 0.3090\n",
      "Epoch 85/300\n",
      "5/5 [==============================] - 24s 5s/step - loss: 0.0120 - nmse: 0.0299 - val_loss: 0.1202 - val_nmse: 0.3090\n",
      "Epoch 86/300\n",
      "5/5 [==============================] - 24s 5s/step - loss: 0.0118 - nmse: 0.0292 - val_loss: 0.1249 - val_nmse: 0.3219\n",
      "Epoch 87/300\n",
      "5/5 [==============================] - 24s 5s/step - loss: 0.0129 - nmse: 0.0321 - val_loss: 0.1220 - val_nmse: 0.3140\n",
      "Epoch 88/300\n",
      "5/5 [==============================] - 24s 5s/step - loss: 0.0126 - nmse: 0.0314 - val_loss: 0.1219 - val_nmse: 0.3135\n",
      "Epoch 89/300\n",
      "5/5 [==============================] - 25s 5s/step - loss: 0.0125 - nmse: 0.0312 - val_loss: 0.1203 - val_nmse: 0.3099\n",
      "Epoch 90/300\n",
      "5/5 [==============================] - 24s 5s/step - loss: 0.0117 - nmse: 0.0290 - val_loss: 0.1210 - val_nmse: 0.3117\n",
      "Epoch 91/300\n",
      "5/5 [==============================] - 24s 5s/step - loss: 0.0105 - nmse: 0.0262 - val_loss: 0.1196 - val_nmse: 0.3074\n",
      "Epoch 92/300\n",
      "5/5 [==============================] - 24s 5s/step - loss: 0.0102 - nmse: 0.0255 - val_loss: 0.1208 - val_nmse: 0.3115\n",
      "Epoch 93/300\n",
      "5/5 [==============================] - 24s 5s/step - loss: 0.0099 - nmse: 0.0245 - val_loss: 0.1212 - val_nmse: 0.3113\n",
      "Epoch 94/300\n",
      "5/5 [==============================] - 24s 5s/step - loss: 0.0098 - nmse: 0.0243 - val_loss: 0.1231 - val_nmse: 0.3177\n",
      "Epoch 95/300\n",
      "5/5 [==============================] - 25s 5s/step - loss: 0.0116 - nmse: 0.0288 - val_loss: 0.1190 - val_nmse: 0.3061\n",
      "Epoch 96/300\n",
      "5/5 [==============================] - 24s 5s/step - loss: 0.0105 - nmse: 0.0260 - val_loss: 0.1248 - val_nmse: 0.3217\n",
      "Epoch 97/300\n",
      "5/5 [==============================] - 24s 5s/step - loss: 0.0108 - nmse: 0.0268 - val_loss: 0.1191 - val_nmse: 0.3066\n",
      "Epoch 98/300\n",
      "5/5 [==============================] - 24s 5s/step - loss: 0.0097 - nmse: 0.0242 - val_loss: 0.1195 - val_nmse: 0.3076\n",
      "Epoch 99/300\n",
      "5/5 [==============================] - 24s 5s/step - loss: 0.0095 - nmse: 0.0236 - val_loss: 0.1237 - val_nmse: 0.3197\n",
      "Epoch 100/300\n",
      "5/5 [==============================] - 24s 5s/step - loss: 0.0094 - nmse: 0.0233 - val_loss: 0.1221 - val_nmse: 0.3150\n",
      "Epoch 101/300\n",
      "5/5 [==============================] - 24s 5s/step - loss: 0.0085 - nmse: 0.0213 - val_loss: 0.1208 - val_nmse: 0.3113\n",
      "Epoch 102/300\n",
      "5/5 [==============================] - 24s 5s/step - loss: 0.0081 - nmse: 0.0200 - val_loss: 0.1208 - val_nmse: 0.3120\n",
      "Epoch 103/300\n",
      "5/5 [==============================] - 24s 5s/step - loss: 0.0080 - nmse: 0.0199 - val_loss: 0.1222 - val_nmse: 0.3147\n",
      "Epoch 104/300\n",
      "5/5 [==============================] - 25s 5s/step - loss: 0.0077 - nmse: 0.0190 - val_loss: 0.1197 - val_nmse: 0.3091\n",
      "Epoch 105/300\n",
      "5/5 [==============================] - 24s 5s/step - loss: 0.0074 - nmse: 0.0184 - val_loss: 0.1212 - val_nmse: 0.3120\n",
      "Epoch 106/300\n",
      "5/5 [==============================] - 24s 5s/step - loss: 0.0071 - nmse: 0.0177 - val_loss: 0.1202 - val_nmse: 0.3096\n",
      "Epoch 107/300\n",
      "5/5 [==============================] - 24s 5s/step - loss: 0.0070 - nmse: 0.0175 - val_loss: 0.1213 - val_nmse: 0.3132\n",
      "Epoch 108/300\n",
      "5/5 [==============================] - 24s 5s/step - loss: 0.0076 - nmse: 0.0189 - val_loss: 0.1207 - val_nmse: 0.3111\n",
      "Epoch 109/300\n",
      "5/5 [==============================] - 24s 5s/step - loss: 0.0072 - nmse: 0.0180 - val_loss: 0.1221 - val_nmse: 0.3151\n",
      "Epoch 110/300\n",
      "5/5 [==============================] - 25s 5s/step - loss: 0.0072 - nmse: 0.0179 - val_loss: 0.1220 - val_nmse: 0.3150\n",
      "Epoch 111/300\n",
      "5/5 [==============================] - 24s 5s/step - loss: 0.0072 - nmse: 0.0181 - val_loss: 0.1237 - val_nmse: 0.3181\n",
      "Epoch 112/300\n",
      "5/5 [==============================] - 24s 5s/step - loss: 0.0074 - nmse: 0.0185 - val_loss: 0.1219 - val_nmse: 0.3143\n",
      "Epoch 113/300\n",
      "5/5 [==============================] - 24s 5s/step - loss: 0.0068 - nmse: 0.0168 - val_loss: 0.1245 - val_nmse: 0.3209\n",
      "Epoch 114/300\n",
      "5/5 [==============================] - 24s 5s/step - loss: 0.0069 - nmse: 0.0171 - val_loss: 0.1214 - val_nmse: 0.3130\n",
      "Epoch 115/300\n",
      "5/5 [==============================] - 26s 5s/step - loss: 0.0068 - nmse: 0.0168 - val_loss: 0.1221 - val_nmse: 0.3153\n",
      "Epoch 116/300\n",
      "5/5 [==============================] - 26s 5s/step - loss: 0.0069 - nmse: 0.0171 - val_loss: 0.1207 - val_nmse: 0.3119\n",
      "Epoch 117/300\n",
      "5/5 [==============================] - 26s 5s/step - loss: 0.0067 - nmse: 0.0167 - val_loss: 0.1223 - val_nmse: 0.3161\n",
      "Epoch 118/300\n",
      "5/5 [==============================] - 25s 5s/step - loss: 0.0067 - nmse: 0.0166 - val_loss: 0.1227 - val_nmse: 0.3166\n",
      "Epoch 119/300\n",
      "5/5 [==============================] - 24s 5s/step - loss: 0.0066 - nmse: 0.0164 - val_loss: 0.1235 - val_nmse: 0.3191\n",
      "Epoch 120/300\n",
      "5/5 [==============================] - 24s 5s/step - loss: 0.0072 - nmse: 0.0178 - val_loss: 0.1240 - val_nmse: 0.3202\n",
      "Epoch 121/300\n",
      "5/5 [==============================] - 25s 5s/step - loss: 0.0082 - nmse: 0.0204 - val_loss: 0.1216 - val_nmse: 0.3139\n",
      "Epoch 122/300\n",
      "5/5 [==============================] - 24s 5s/step - loss: 0.0068 - nmse: 0.0169 - val_loss: 0.1229 - val_nmse: 0.3174\n",
      "Epoch 123/300\n",
      "5/5 [==============================] - 24s 5s/step - loss: 0.0068 - nmse: 0.0169 - val_loss: 0.1221 - val_nmse: 0.3153\n",
      "Epoch 124/300\n",
      "5/5 [==============================] - 24s 5s/step - loss: 0.0067 - nmse: 0.0166 - val_loss: 0.1235 - val_nmse: 0.3188\n",
      "Epoch 125/300\n",
      "5/5 [==============================] - 24s 5s/step - loss: 0.0066 - nmse: 0.0165 - val_loss: 0.1221 - val_nmse: 0.3151\n",
      "Epoch 126/300\n",
      "5/5 [==============================] - 25s 5s/step - loss: 0.0064 - nmse: 0.0161 - val_loss: 0.1263 - val_nmse: 0.3262\n",
      "Epoch 127/300\n",
      "5/5 [==============================] - 24s 5s/step - loss: 0.0066 - nmse: 0.0164 - val_loss: 0.1218 - val_nmse: 0.3151\n",
      "Epoch 128/300\n",
      "5/5 [==============================] - 24s 5s/step - loss: 0.0079 - nmse: 0.0197 - val_loss: 0.1201 - val_nmse: 0.3111\n",
      "Epoch 129/300\n",
      "5/5 [==============================] - 25s 5s/step - loss: 0.0087 - nmse: 0.0218 - val_loss: 0.1301 - val_nmse: 0.3361\n",
      "Epoch 130/300\n",
      "5/5 [==============================] - 24s 5s/step - loss: 0.0084 - nmse: 0.0208 - val_loss: 0.1226 - val_nmse: 0.3176\n",
      "Epoch 131/300\n",
      "5/5 [==============================] - 24s 5s/step - loss: 0.0071 - nmse: 0.0175 - val_loss: 0.1205 - val_nmse: 0.3115\n",
      "Epoch 132/300\n",
      "5/5 [==============================] - 24s 5s/step - loss: 0.0061 - nmse: 0.0151 - val_loss: 0.1213 - val_nmse: 0.3134\n",
      "Epoch 133/300\n",
      "5/5 [==============================] - 24s 5s/step - loss: 0.0058 - nmse: 0.0144 - val_loss: 0.1235 - val_nmse: 0.3193\n",
      "Epoch 134/300\n",
      "5/5 [==============================] - 24s 5s/step - loss: 0.0055 - nmse: 0.0138 - val_loss: 0.1227 - val_nmse: 0.3177\n",
      "Epoch 135/300\n",
      "5/5 [==============================] - 24s 5s/step - loss: 0.0052 - nmse: 0.0129 - val_loss: 0.1216 - val_nmse: 0.3140\n",
      "Epoch 136/300\n",
      "5/5 [==============================] - 24s 5s/step - loss: 0.0050 - nmse: 0.0126 - val_loss: 0.1221 - val_nmse: 0.3151\n",
      "Epoch 137/300\n",
      "5/5 [==============================] - 24s 5s/step - loss: 0.0049 - nmse: 0.0122 - val_loss: 0.1208 - val_nmse: 0.3115\n",
      "Epoch 138/300\n",
      "5/5 [==============================] - 24s 5s/step - loss: 0.0049 - nmse: 0.0122 - val_loss: 0.1230 - val_nmse: 0.3181\n",
      "Epoch 139/300\n",
      "5/5 [==============================] - 24s 5s/step - loss: 0.0047 - nmse: 0.0118 - val_loss: 0.1205 - val_nmse: 0.3110\n",
      "Epoch 140/300\n",
      "5/5 [==============================] - 24s 5s/step - loss: 0.0048 - nmse: 0.0119 - val_loss: 0.1221 - val_nmse: 0.3151\n",
      "Epoch 141/300\n",
      "5/5 [==============================] - 24s 5s/step - loss: 0.0046 - nmse: 0.0114 - val_loss: 0.1220 - val_nmse: 0.3153\n",
      "Epoch 142/300\n",
      "5/5 [==============================] - 24s 5s/step - loss: 0.0045 - nmse: 0.0112 - val_loss: 0.1222 - val_nmse: 0.3155\n",
      "Epoch 143/300\n",
      "5/5 [==============================] - 24s 5s/step - loss: 0.0050 - nmse: 0.0125 - val_loss: 0.1220 - val_nmse: 0.3150\n",
      "Epoch 144/300\n",
      "5/5 [==============================] - 25s 5s/step - loss: 0.0046 - nmse: 0.0113 - val_loss: 0.1230 - val_nmse: 0.3179\n",
      "Epoch 145/300\n",
      "5/5 [==============================] - 24s 5s/step - loss: 0.0045 - nmse: 0.0113 - val_loss: 0.1222 - val_nmse: 0.3160\n",
      "Epoch 146/300\n",
      "5/5 [==============================] - 24s 5s/step - loss: 0.0046 - nmse: 0.0113 - val_loss: 0.1219 - val_nmse: 0.3150\n",
      "Epoch 147/300\n",
      "5/5 [==============================] - 24s 5s/step - loss: 0.0047 - nmse: 0.0118 - val_loss: 0.1228 - val_nmse: 0.3172\n",
      "Epoch 148/300\n",
      "5/5 [==============================] - 24s 5s/step - loss: 0.0044 - nmse: 0.0111 - val_loss: 0.1219 - val_nmse: 0.3148\n",
      "Epoch 149/300\n",
      "5/5 [==============================] - 24s 5s/step - loss: 0.0056 - nmse: 0.0139 - val_loss: 0.1209 - val_nmse: 0.3116\n",
      "Epoch 150/300\n",
      "5/5 [==============================] - 24s 5s/step - loss: 0.0051 - nmse: 0.0128 - val_loss: 0.1216 - val_nmse: 0.3140\n",
      "Epoch 151/300\n",
      "5/5 [==============================] - 24s 5s/step - loss: 0.0052 - nmse: 0.0130 - val_loss: 0.1209 - val_nmse: 0.3119\n",
      "Epoch 152/300\n",
      "5/5 [==============================] - 25s 5s/step - loss: 0.0052 - nmse: 0.0130 - val_loss: 0.1219 - val_nmse: 0.3142\n",
      "Epoch 153/300\n",
      "5/5 [==============================] - 24s 5s/step - loss: 0.0053 - nmse: 0.0133 - val_loss: 0.1225 - val_nmse: 0.3159\n",
      "Epoch 154/300\n",
      "5/5 [==============================] - 24s 5s/step - loss: 0.0060 - nmse: 0.0149 - val_loss: 0.1224 - val_nmse: 0.3159\n",
      "Epoch 155/300\n",
      "5/5 [==============================] - 25s 5s/step - loss: 0.0071 - nmse: 0.0179 - val_loss: 0.1229 - val_nmse: 0.3178\n",
      "Epoch 156/300\n",
      "5/5 [==============================] - 24s 5s/step - loss: 0.0061 - nmse: 0.0151 - val_loss: 0.1226 - val_nmse: 0.3165\n",
      "Epoch 157/300\n",
      "5/5 [==============================] - 24s 5s/step - loss: 0.0055 - nmse: 0.0136 - val_loss: 0.1213 - val_nmse: 0.3139\n",
      "Epoch 158/300\n",
      "5/5 [==============================] - 24s 5s/step - loss: 0.0051 - nmse: 0.0128 - val_loss: 0.1201 - val_nmse: 0.3094\n",
      "Epoch 159/300\n",
      "5/5 [==============================] - 24s 5s/step - loss: 0.0055 - nmse: 0.0137 - val_loss: 0.1232 - val_nmse: 0.3170\n",
      "Epoch 160/300\n",
      "5/5 [==============================] - 24s 5s/step - loss: 0.0049 - nmse: 0.0124 - val_loss: 0.1217 - val_nmse: 0.3142\n",
      "Epoch 161/300\n",
      "5/5 [==============================] - 24s 5s/step - loss: 0.0049 - nmse: 0.0121 - val_loss: 0.1245 - val_nmse: 0.3205\n",
      "Epoch 162/300\n",
      "5/5 [==============================] - 24s 5s/step - loss: 0.0050 - nmse: 0.0125 - val_loss: 0.1215 - val_nmse: 0.3140\n",
      "Epoch 163/300\n",
      "5/5 [==============================] - 24s 5s/step - loss: 0.0058 - nmse: 0.0145 - val_loss: 0.1203 - val_nmse: 0.3102\n",
      "Epoch 164/300\n",
      "5/5 [==============================] - 24s 5s/step - loss: 0.0056 - nmse: 0.0138 - val_loss: 0.1247 - val_nmse: 0.3225\n",
      "Epoch 165/300\n",
      "5/5 [==============================] - 24s 5s/step - loss: 0.0054 - nmse: 0.0135 - val_loss: 0.1205 - val_nmse: 0.3115\n",
      "Epoch 166/300\n",
      "5/5 [==============================] - 25s 5s/step - loss: 0.0047 - nmse: 0.0118 - val_loss: 0.1219 - val_nmse: 0.3151\n",
      "Epoch 167/300\n",
      "5/5 [==============================] - 24s 5s/step - loss: 0.0045 - nmse: 0.0112 - val_loss: 0.1238 - val_nmse: 0.3202\n",
      "Epoch 168/300\n",
      "5/5 [==============================] - 24s 5s/step - loss: 0.0044 - nmse: 0.0109 - val_loss: 0.1213 - val_nmse: 0.3137\n",
      "Epoch 169/300\n",
      "5/5 [==============================] - 24s 5s/step - loss: 0.0043 - nmse: 0.0107 - val_loss: 0.1219 - val_nmse: 0.3151\n",
      "Epoch 170/300\n",
      "5/5 [==============================] - 24s 5s/step - loss: 0.0041 - nmse: 0.0103 - val_loss: 0.1228 - val_nmse: 0.3177\n",
      "Epoch 171/300\n",
      "5/5 [==============================] - 24s 5s/step - loss: 0.0039 - nmse: 0.0096 - val_loss: 0.1215 - val_nmse: 0.3143\n",
      "Epoch 172/300\n",
      "5/5 [==============================] - 24s 5s/step - loss: 0.0037 - nmse: 0.0093 - val_loss: 0.1217 - val_nmse: 0.3147\n",
      "Epoch 173/300\n",
      "5/5 [==============================] - 24s 5s/step - loss: 0.0037 - nmse: 0.0092 - val_loss: 0.1215 - val_nmse: 0.3139\n",
      "Epoch 174/300\n",
      "5/5 [==============================] - 24s 5s/step - loss: 0.0034 - nmse: 0.0085 - val_loss: 0.1222 - val_nmse: 0.3158\n",
      "Epoch 175/300\n",
      "5/5 [==============================] - 24s 5s/step - loss: 0.0034 - nmse: 0.0084 - val_loss: 0.1214 - val_nmse: 0.3137\n",
      "Epoch 176/300\n",
      "5/5 [==============================] - 24s 5s/step - loss: 0.0034 - nmse: 0.0083 - val_loss: 0.1228 - val_nmse: 0.3168\n",
      "Epoch 177/300\n",
      "5/5 [==============================] - 25s 5s/step - loss: 0.0033 - nmse: 0.0081 - val_loss: 0.1205 - val_nmse: 0.3109\n",
      "Epoch 178/300\n",
      "5/5 [==============================] - 24s 5s/step - loss: 0.0032 - nmse: 0.0081 - val_loss: 0.1210 - val_nmse: 0.3125\n",
      "Epoch 179/300\n",
      "5/5 [==============================] - 24s 5s/step - loss: 0.0033 - nmse: 0.0083 - val_loss: 0.1220 - val_nmse: 0.3150\n",
      "Epoch 180/300\n",
      "5/5 [==============================] - 24s 5s/step - loss: 0.0032 - nmse: 0.0080 - val_loss: 0.1206 - val_nmse: 0.3115\n",
      "Epoch 181/300\n",
      "5/5 [==============================] - 24s 5s/step - loss: 0.0031 - nmse: 0.0077 - val_loss: 0.1212 - val_nmse: 0.3134\n",
      "Epoch 182/300\n",
      "5/5 [==============================] - 24s 5s/step - loss: 0.0031 - nmse: 0.0078 - val_loss: 0.1207 - val_nmse: 0.3122\n",
      "Epoch 183/300\n",
      "5/5 [==============================] - 24s 5s/step - loss: 0.0032 - nmse: 0.0079 - val_loss: 0.1215 - val_nmse: 0.3140\n",
      "Epoch 184/300\n",
      "5/5 [==============================] - 24s 5s/step - loss: 0.0031 - nmse: 0.0076 - val_loss: 0.1215 - val_nmse: 0.3136\n",
      "Epoch 185/300\n",
      "5/5 [==============================] - 24s 5s/step - loss: 0.0029 - nmse: 0.0073 - val_loss: 0.1225 - val_nmse: 0.3164\n",
      "Epoch 186/300\n",
      "5/5 [==============================] - 25s 5s/step - loss: 0.0029 - nmse: 0.0073 - val_loss: 0.1209 - val_nmse: 0.3127\n",
      "Epoch 187/300\n",
      "5/5 [==============================] - 24s 5s/step - loss: 0.0029 - nmse: 0.0071 - val_loss: 0.1224 - val_nmse: 0.3166\n",
      "Epoch 188/300\n",
      "5/5 [==============================] - 24s 5s/step - loss: 0.0028 - nmse: 0.0071 - val_loss: 0.1213 - val_nmse: 0.3137\n",
      "Epoch 189/300\n",
      "5/5 [==============================] - 25s 5s/step - loss: 0.0028 - nmse: 0.0070 - val_loss: 0.1224 - val_nmse: 0.3161\n",
      "Epoch 190/300\n",
      "5/5 [==============================] - 24s 5s/step - loss: 0.0034 - nmse: 0.0084 - val_loss: 0.1221 - val_nmse: 0.3153\n",
      "Epoch 191/300\n",
      "5/5 [==============================] - 24s 5s/step - loss: 0.0030 - nmse: 0.0074 - val_loss: 0.1213 - val_nmse: 0.3139\n",
      "Epoch 192/300\n",
      "5/5 [==============================] - 24s 5s/step - loss: 0.0032 - nmse: 0.0079 - val_loss: 0.1219 - val_nmse: 0.3156\n",
      "Epoch 193/300\n",
      "5/5 [==============================] - 24s 5s/step - loss: 0.0036 - nmse: 0.0090 - val_loss: 0.1227 - val_nmse: 0.3173\n",
      "Epoch 194/300\n",
      "5/5 [==============================] - 24s 5s/step - loss: 0.0044 - nmse: 0.0110 - val_loss: 0.1214 - val_nmse: 0.3130\n",
      "Epoch 195/300\n",
      "5/5 [==============================] - 24s 5s/step - loss: 0.0036 - nmse: 0.0090 - val_loss: 0.1227 - val_nmse: 0.3171\n",
      "Epoch 196/300\n",
      "5/5 [==============================] - 24s 5s/step - loss: 0.0032 - nmse: 0.0080 - val_loss: 0.1217 - val_nmse: 0.3144\n",
      "Epoch 197/300\n",
      "5/5 [==============================] - 24s 5s/step - loss: 0.0034 - nmse: 0.0085 - val_loss: 0.1222 - val_nmse: 0.3159\n",
      "Epoch 198/300\n",
      "5/5 [==============================] - 24s 5s/step - loss: 0.0033 - nmse: 0.0084 - val_loss: 0.1225 - val_nmse: 0.3167\n",
      "Epoch 199/300\n",
      "5/5 [==============================] - 24s 5s/step - loss: 0.0036 - nmse: 0.0090 - val_loss: 0.1239 - val_nmse: 0.3202\n",
      "Epoch 200/300\n",
      "5/5 [==============================] - 24s 5s/step - loss: 0.0041 - nmse: 0.0101 - val_loss: 0.1227 - val_nmse: 0.3172\n",
      "Epoch 201/300\n",
      "5/5 [==============================] - 24s 5s/step - loss: 0.0037 - nmse: 0.0093 - val_loss: 0.1223 - val_nmse: 0.3159\n",
      "Epoch 202/300\n",
      "5/5 [==============================] - 24s 5s/step - loss: 0.0034 - nmse: 0.0085 - val_loss: 0.1241 - val_nmse: 0.3204\n",
      "Epoch 203/300\n",
      "5/5 [==============================] - 24s 5s/step - loss: 0.0032 - nmse: 0.0080 - val_loss: 0.1218 - val_nmse: 0.3159\n",
      "Epoch 204/300\n",
      "5/5 [==============================] - 24s 5s/step - loss: 0.0036 - nmse: 0.0091 - val_loss: 0.1232 - val_nmse: 0.3185\n",
      "Epoch 205/300\n",
      "5/5 [==============================] - 24s 5s/step - loss: 0.0034 - nmse: 0.0083 - val_loss: 0.1210 - val_nmse: 0.3130\n",
      "Epoch 206/300\n",
      "5/5 [==============================] - 24s 5s/step - loss: 0.0030 - nmse: 0.0074 - val_loss: 0.1212 - val_nmse: 0.3128\n",
      "Epoch 207/300\n",
      "5/5 [==============================] - 24s 5s/step - loss: 0.0031 - nmse: 0.0078 - val_loss: 0.1218 - val_nmse: 0.3154\n",
      "Epoch 208/300\n",
      "5/5 [==============================] - 24s 5s/step - loss: 0.0030 - nmse: 0.0076 - val_loss: 0.1213 - val_nmse: 0.3136\n",
      "Epoch 209/300\n",
      "5/5 [==============================] - 24s 5s/step - loss: 0.0027 - nmse: 0.0068 - val_loss: 0.1217 - val_nmse: 0.3149\n",
      "Epoch 210/300\n",
      "5/5 [==============================] - 24s 5s/step - loss: 0.0028 - nmse: 0.0069 - val_loss: 0.1216 - val_nmse: 0.3145\n",
      "Epoch 211/300\n",
      "5/5 [==============================] - 24s 5s/step - loss: 0.0026 - nmse: 0.0066 - val_loss: 0.1224 - val_nmse: 0.3166\n",
      "Epoch 212/300\n",
      "5/5 [==============================] - 24s 5s/step - loss: 0.0037 - nmse: 0.0093 - val_loss: 0.1221 - val_nmse: 0.3159\n",
      "Epoch 213/300\n",
      "5/5 [==============================] - 24s 5s/step - loss: 0.0032 - nmse: 0.0080 - val_loss: 0.1220 - val_nmse: 0.3151\n",
      "Epoch 214/300\n",
      "5/5 [==============================] - 24s 5s/step - loss: 0.0030 - nmse: 0.0075 - val_loss: 0.1219 - val_nmse: 0.3157\n",
      "Epoch 215/300\n",
      "5/5 [==============================] - 24s 5s/step - loss: 0.0033 - nmse: 0.0085 - val_loss: 0.1233 - val_nmse: 0.3187\n",
      "Epoch 216/300\n",
      "5/5 [==============================] - 24s 5s/step - loss: 0.0032 - nmse: 0.0079 - val_loss: 0.1212 - val_nmse: 0.3136\n",
      "Epoch 217/300\n",
      "5/5 [==============================] - 24s 5s/step - loss: 0.0028 - nmse: 0.0070 - val_loss: 0.1223 - val_nmse: 0.3165\n",
      "Epoch 218/300\n",
      "5/5 [==============================] - 24s 5s/step - loss: 0.0029 - nmse: 0.0072 - val_loss: 0.1219 - val_nmse: 0.3156\n",
      "Epoch 219/300\n",
      "5/5 [==============================] - 24s 5s/step - loss: 0.0027 - nmse: 0.0067 - val_loss: 0.1217 - val_nmse: 0.3149\n",
      "Epoch 220/300\n",
      "5/5 [==============================] - 24s 5s/step - loss: 0.0027 - nmse: 0.0068 - val_loss: 0.1221 - val_nmse: 0.3157\n",
      "Epoch 221/300\n",
      "5/5 [==============================] - 24s 5s/step - loss: 0.0027 - nmse: 0.0066 - val_loss: 0.1227 - val_nmse: 0.3177\n",
      "Epoch 222/300\n",
      "5/5 [==============================] - 24s 5s/step - loss: 0.0027 - nmse: 0.0066 - val_loss: 0.1217 - val_nmse: 0.3144\n",
      "Epoch 223/300\n",
      "5/5 [==============================] - 24s 5s/step - loss: 0.0026 - nmse: 0.0064 - val_loss: 0.1218 - val_nmse: 0.3151\n",
      "Epoch 224/300\n",
      "5/5 [==============================] - 24s 5s/step - loss: 0.0024 - nmse: 0.0061 - val_loss: 0.1225 - val_nmse: 0.3168\n",
      "Epoch 225/300\n",
      "5/5 [==============================] - 24s 5s/step - loss: 0.0025 - nmse: 0.0062 - val_loss: 0.1217 - val_nmse: 0.3151\n",
      "Epoch 226/300\n",
      "5/5 [==============================] - 24s 5s/step - loss: 0.0024 - nmse: 0.0060 - val_loss: 0.1222 - val_nmse: 0.3161\n",
      "Epoch 227/300\n",
      "5/5 [==============================] - 24s 5s/step - loss: 0.0025 - nmse: 0.0063 - val_loss: 0.1223 - val_nmse: 0.3161\n",
      "Epoch 228/300\n",
      "5/5 [==============================] - 24s 5s/step - loss: 0.0024 - nmse: 0.0060 - val_loss: 0.1221 - val_nmse: 0.3158\n",
      "Epoch 229/300\n",
      "5/5 [==============================] - 26s 5s/step - loss: 0.0022 - nmse: 0.0056 - val_loss: 0.1222 - val_nmse: 0.3159\n",
      "Epoch 230/300\n",
      "5/5 [==============================] - 25s 5s/step - loss: 0.0024 - nmse: 0.0060 - val_loss: 0.1210 - val_nmse: 0.3132\n",
      "Epoch 231/300\n",
      "5/5 [==============================] - 24s 5s/step - loss: 0.0024 - nmse: 0.0060 - val_loss: 0.1224 - val_nmse: 0.3162\n",
      "Epoch 232/300\n",
      "5/5 [==============================] - 24s 5s/step - loss: 0.0024 - nmse: 0.0060 - val_loss: 0.1216 - val_nmse: 0.3149\n",
      "Epoch 233/300\n",
      "5/5 [==============================] - 24s 5s/step - loss: 0.0023 - nmse: 0.0057 - val_loss: 0.1217 - val_nmse: 0.3149\n",
      "Epoch 234/300\n",
      "5/5 [==============================] - 24s 5s/step - loss: 0.0024 - nmse: 0.0059 - val_loss: 0.1215 - val_nmse: 0.3147\n",
      "Epoch 235/300\n",
      "5/5 [==============================] - 24s 5s/step - loss: 0.0026 - nmse: 0.0065 - val_loss: 0.1215 - val_nmse: 0.3144\n",
      "Epoch 236/300\n",
      "5/5 [==============================] - 24s 5s/step - loss: 0.0027 - nmse: 0.0066 - val_loss: 0.1216 - val_nmse: 0.3159\n",
      "Epoch 237/300\n",
      "5/5 [==============================] - 24s 5s/step - loss: 0.0029 - nmse: 0.0073 - val_loss: 0.1225 - val_nmse: 0.3171\n",
      "Epoch 238/300\n",
      "5/5 [==============================] - 24s 5s/step - loss: 0.0035 - nmse: 0.0088 - val_loss: 0.1215 - val_nmse: 0.3153\n",
      "Epoch 239/300\n",
      "5/5 [==============================] - 24s 5s/step - loss: 0.0040 - nmse: 0.0100 - val_loss: 0.1229 - val_nmse: 0.3182\n",
      "Epoch 240/300\n",
      "5/5 [==============================] - 24s 5s/step - loss: 0.0034 - nmse: 0.0086 - val_loss: 0.1218 - val_nmse: 0.3154\n",
      "Epoch 241/300\n",
      "5/5 [==============================] - 24s 5s/step - loss: 0.0030 - nmse: 0.0074 - val_loss: 0.1210 - val_nmse: 0.3133\n",
      "Epoch 242/300\n",
      "5/5 [==============================] - 24s 5s/step - loss: 0.0031 - nmse: 0.0077 - val_loss: 0.1218 - val_nmse: 0.3150\n",
      "Epoch 243/300\n",
      "5/5 [==============================] - 24s 5s/step - loss: 0.0028 - nmse: 0.0069 - val_loss: 0.1222 - val_nmse: 0.3164\n",
      "Epoch 244/300\n",
      "5/5 [==============================] - 24s 5s/step - loss: 0.0031 - nmse: 0.0076 - val_loss: 0.1213 - val_nmse: 0.3144\n",
      "Epoch 245/300\n",
      "5/5 [==============================] - 24s 5s/step - loss: 0.0038 - nmse: 0.0094 - val_loss: 0.1230 - val_nmse: 0.3181\n",
      "Epoch 246/300\n",
      "5/5 [==============================] - 24s 5s/step - loss: 0.0030 - nmse: 0.0076 - val_loss: 0.1205 - val_nmse: 0.3120\n",
      "Epoch 247/300\n",
      "5/5 [==============================] - 24s 5s/step - loss: 0.0029 - nmse: 0.0073 - val_loss: 0.1210 - val_nmse: 0.3132\n",
      "Epoch 248/300\n",
      "5/5 [==============================] - 24s 5s/step - loss: 0.0026 - nmse: 0.0064 - val_loss: 0.1215 - val_nmse: 0.3146\n",
      "Epoch 249/300\n",
      "5/5 [==============================] - 24s 5s/step - loss: 0.0023 - nmse: 0.0057 - val_loss: 0.1211 - val_nmse: 0.3136\n",
      "Epoch 250/300\n",
      "5/5 [==============================] - 24s 5s/step - loss: 0.0023 - nmse: 0.0058 - val_loss: 0.1218 - val_nmse: 0.3152\n",
      "Epoch 251/300\n",
      "5/5 [==============================] - 24s 5s/step - loss: 0.0022 - nmse: 0.0056 - val_loss: 0.1211 - val_nmse: 0.3136\n",
      "Epoch 252/300\n",
      "5/5 [==============================] - 24s 5s/step - loss: 0.0022 - nmse: 0.0054 - val_loss: 0.1210 - val_nmse: 0.3135\n",
      "Epoch 253/300\n",
      "5/5 [==============================] - 24s 5s/step - loss: 0.0022 - nmse: 0.0054 - val_loss: 0.1215 - val_nmse: 0.3148\n",
      "Epoch 254/300\n",
      "5/5 [==============================] - 24s 5s/step - loss: 0.0022 - nmse: 0.0056 - val_loss: 0.1214 - val_nmse: 0.3145\n",
      "Epoch 255/300\n",
      "5/5 [==============================] - 24s 5s/step - loss: 0.0022 - nmse: 0.0056 - val_loss: 0.1218 - val_nmse: 0.3152\n",
      "Epoch 256/300\n",
      "5/5 [==============================] - 24s 5s/step - loss: 0.0026 - nmse: 0.0065 - val_loss: 0.1211 - val_nmse: 0.3135\n",
      "Epoch 257/300\n",
      "5/5 [==============================] - 24s 5s/step - loss: 0.0024 - nmse: 0.0059 - val_loss: 0.1206 - val_nmse: 0.3122\n",
      "Epoch 258/300\n",
      "5/5 [==============================] - 24s 5s/step - loss: 0.0022 - nmse: 0.0055 - val_loss: 0.1217 - val_nmse: 0.3152\n",
      "Epoch 259/300\n",
      "5/5 [==============================] - 24s 5s/step - loss: 0.0022 - nmse: 0.0056 - val_loss: 0.1210 - val_nmse: 0.3135\n",
      "Epoch 260/300\n",
      "5/5 [==============================] - 24s 5s/step - loss: 0.0022 - nmse: 0.0056 - val_loss: 0.1217 - val_nmse: 0.3151\n",
      "Epoch 261/300\n",
      "5/5 [==============================] - 24s 5s/step - loss: 0.0023 - nmse: 0.0058 - val_loss: 0.1209 - val_nmse: 0.3133\n",
      "Epoch 262/300\n",
      "5/5 [==============================] - 24s 5s/step - loss: 0.0025 - nmse: 0.0062 - val_loss: 0.1215 - val_nmse: 0.3141\n",
      "Epoch 263/300\n",
      "5/5 [==============================] - 25s 5s/step - loss: 0.0025 - nmse: 0.0063 - val_loss: 0.1228 - val_nmse: 0.3175\n",
      "Epoch 264/300\n",
      "5/5 [==============================] - 24s 5s/step - loss: 0.0028 - nmse: 0.0069 - val_loss: 0.1224 - val_nmse: 0.3165\n",
      "Epoch 265/300\n",
      "5/5 [==============================] - 24s 5s/step - loss: 0.0025 - nmse: 0.0063 - val_loss: 0.1208 - val_nmse: 0.3123\n",
      "Epoch 266/300\n",
      "5/5 [==============================] - 24s 5s/step - loss: 0.0029 - nmse: 0.0073 - val_loss: 0.1230 - val_nmse: 0.3185\n",
      "Epoch 267/300\n",
      "5/5 [==============================] - 24s 5s/step - loss: 0.0027 - nmse: 0.0067 - val_loss: 0.1213 - val_nmse: 0.3140\n",
      "Epoch 268/300\n",
      "5/5 [==============================] - 24s 5s/step - loss: 0.0026 - nmse: 0.0065 - val_loss: 0.1209 - val_nmse: 0.3130\n",
      "Epoch 269/300\n",
      "5/5 [==============================] - 24s 5s/step - loss: 0.0027 - nmse: 0.0067 - val_loss: 0.1215 - val_nmse: 0.3140\n",
      "Epoch 270/300\n",
      "5/5 [==============================] - 24s 5s/step - loss: 0.0027 - nmse: 0.0067 - val_loss: 0.1203 - val_nmse: 0.3119\n",
      "Epoch 271/300\n",
      "5/5 [==============================] - 24s 5s/step - loss: 0.0025 - nmse: 0.0063 - val_loss: 0.1218 - val_nmse: 0.3155\n",
      "Epoch 272/300\n",
      "5/5 [==============================] - 24s 5s/step - loss: 0.0028 - nmse: 0.0069 - val_loss: 0.1204 - val_nmse: 0.3118\n",
      "Epoch 273/300\n",
      "5/5 [==============================] - 24s 5s/step - loss: 0.0029 - nmse: 0.0072 - val_loss: 0.1211 - val_nmse: 0.3140\n",
      "Epoch 274/300\n",
      "5/5 [==============================] - 24s 5s/step - loss: 0.0029 - nmse: 0.0072 - val_loss: 0.1218 - val_nmse: 0.3144\n",
      "Epoch 275/300\n",
      "5/5 [==============================] - 24s 5s/step - loss: 0.0032 - nmse: 0.0079 - val_loss: 0.1206 - val_nmse: 0.3133\n",
      "Epoch 276/300\n",
      "5/5 [==============================] - 24s 5s/step - loss: 0.0035 - nmse: 0.0086 - val_loss: 0.1214 - val_nmse: 0.3147\n",
      "Epoch 277/300\n",
      "5/5 [==============================] - 24s 5s/step - loss: 0.0028 - nmse: 0.0070 - val_loss: 0.1204 - val_nmse: 0.3110\n",
      "Epoch 278/300\n",
      "5/5 [==============================] - 25s 5s/step - loss: 0.0025 - nmse: 0.0062 - val_loss: 0.1191 - val_nmse: 0.3081\n",
      "Epoch 279/300\n",
      "5/5 [==============================] - 24s 5s/step - loss: 0.0025 - nmse: 0.0061 - val_loss: 0.1203 - val_nmse: 0.3117\n",
      "Epoch 280/300\n",
      "5/5 [==============================] - 24s 5s/step - loss: 0.0024 - nmse: 0.0059 - val_loss: 0.1213 - val_nmse: 0.3137\n",
      "Epoch 281/300\n",
      "5/5 [==============================] - 24s 5s/step - loss: 0.0030 - nmse: 0.0075 - val_loss: 0.1221 - val_nmse: 0.3163\n",
      "Epoch 282/300\n",
      "5/5 [==============================] - 25s 5s/step - loss: 0.0036 - nmse: 0.0088 - val_loss: 0.1196 - val_nmse: 0.3100\n",
      "Epoch 283/300\n",
      "5/5 [==============================] - 24s 5s/step - loss: 0.0032 - nmse: 0.0079 - val_loss: 0.1190 - val_nmse: 0.3085\n",
      "Epoch 284/300\n",
      "5/5 [==============================] - 24s 5s/step - loss: 0.0032 - nmse: 0.0079 - val_loss: 0.1220 - val_nmse: 0.3157\n",
      "Epoch 285/300\n",
      "5/5 [==============================] - 24s 5s/step - loss: 0.0031 - nmse: 0.0077 - val_loss: 0.1203 - val_nmse: 0.3117\n",
      "Epoch 286/300\n",
      "5/5 [==============================] - 24s 5s/step - loss: 0.0025 - nmse: 0.0063 - val_loss: 0.1200 - val_nmse: 0.3106\n",
      "Epoch 287/300\n",
      "5/5 [==============================] - 24s 5s/step - loss: 0.0024 - nmse: 0.0060 - val_loss: 0.1202 - val_nmse: 0.3114\n",
      "Epoch 288/300\n",
      "5/5 [==============================] - 24s 5s/step - loss: 0.0023 - nmse: 0.0056 - val_loss: 0.1193 - val_nmse: 0.3093\n",
      "Epoch 289/300\n",
      "5/5 [==============================] - 24s 5s/step - loss: 0.0025 - nmse: 0.0063 - val_loss: 0.1216 - val_nmse: 0.3147\n",
      "Epoch 290/300\n",
      "5/5 [==============================] - 24s 5s/step - loss: 0.0025 - nmse: 0.0062 - val_loss: 0.1204 - val_nmse: 0.3118\n",
      "Epoch 291/300\n",
      "5/5 [==============================] - 24s 5s/step - loss: 0.0025 - nmse: 0.0061 - val_loss: 0.1201 - val_nmse: 0.3105\n",
      "Epoch 292/300\n",
      "5/5 [==============================] - 24s 5s/step - loss: 0.0023 - nmse: 0.0057 - val_loss: 0.1199 - val_nmse: 0.3107\n",
      "Epoch 293/300\n",
      "5/5 [==============================] - 24s 5s/step - loss: 0.0020 - nmse: 0.0050 - val_loss: 0.1190 - val_nmse: 0.3082\n",
      "Epoch 294/300\n",
      "5/5 [==============================] - 24s 5s/step - loss: 0.0020 - nmse: 0.0050 - val_loss: 0.1199 - val_nmse: 0.3098\n",
      "Epoch 295/300\n",
      "5/5 [==============================] - 24s 5s/step - loss: 0.0020 - nmse: 0.0050 - val_loss: 0.1200 - val_nmse: 0.3109\n",
      "Epoch 296/300\n",
      "5/5 [==============================] - 24s 5s/step - loss: 0.0020 - nmse: 0.0049 - val_loss: 0.1191 - val_nmse: 0.3083\n",
      "Epoch 297/300\n",
      "5/5 [==============================] - 24s 5s/step - loss: 0.0019 - nmse: 0.0047 - val_loss: 0.1196 - val_nmse: 0.3095\n",
      "Epoch 298/300\n",
      "5/5 [==============================] - 24s 5s/step - loss: 0.0018 - nmse: 0.0044 - val_loss: 0.1201 - val_nmse: 0.3115\n",
      "Epoch 299/300\n",
      "5/5 [==============================] - 24s 5s/step - loss: 0.0017 - nmse: 0.0043 - val_loss: 0.1189 - val_nmse: 0.3079\n",
      "Epoch 300/300\n",
      "5/5 [==============================] - 24s 5s/step - loss: 0.0019 - nmse: 0.0046 - val_loss: 0.1200 - val_nmse: 0.3106\n",
      "Tiempo total de entrenamiento: 122.23 minutos.\n"
     ]
    }
   ],
   "source": [
    "start_time = time.time()\n",
    "#history = model.fit(X, Y, epochs=max_epoch, batch_size=batchsize, callbacks=[lr_scheduler], validation_split=validation_split)\n",
    "history = model.fit(X, Y, epochs=max_epoch, batch_size=batchsize, validation_split=validation_split)\n",
    "end_time = time.time()\n",
    "total_time = end_time - start_time\n",
    "min_time = total_time / 60\n",
    "print(f'Tiempo total de entrenamiento: {min_time:.2f} minutos.')"
   ]
  },
  {
   "cell_type": "markdown",
   "metadata": {},
   "source": [
    "#########################################################################################################<br>\n",
    "#########################################################################################################<br>\n",
    "#########################################################################################################"
   ]
  },
  {
   "cell_type": "markdown",
   "metadata": {},
   "source": [
    "Visualizar el NMSE"
   ]
  },
  {
   "cell_type": "code",
   "execution_count": 30,
   "metadata": {},
   "outputs": [
    {
     "data": {
      "image/png": "[encoded data removed]",
      "text/plain": [
       "<Figure size 640x480 with 1 Axes>"
      ]
     },
     "metadata": {},
     "output_type": "display_data"
    }
   ],
   "source": [
    "plt.plot(history.history['nmse'], label='NMSE (entrenamiento)')\n",
    "plt.plot(history.history['val_nmse'], label='NMSE (validacion)')\n",
    "plt.xlabel('Epoca')\n",
    "plt.ylabel('NMSE')\n",
    "plt.legend()\n",
    "plt.show()"
   ]
  },
  {
   "cell_type": "markdown",
   "metadata": {},
   "source": [
    "**GUARDAR UN MODELO ESPECÍFICO**"
   ]
  },
  {
   "cell_type": "code",
   "execution_count": 31,
   "metadata": {},
   "outputs": [],
   "source": [
    "# Directorio en donde se almacenara el modelo\n",
    "save_dir = 'D:/TT/Memoria/MemoriaCodigoFuentev3/codigo_matlab/codigo_fuente/signals_LDS/' + persona\n",
    "os.makedirs(save_dir, exist_ok=True)  # Crear el directorio si no existe\n",
    "\n",
    "# Nombre del archivo del modelo\n",
    "model_name = 'unet_model_' + lado + 'v2_batch16_epochs250.keras'\n",
    "\n",
    "# Ruta completa del archivo\n",
    "model_path = os.path.join(save_dir, model_name)\n",
    "\n",
    "# Guardar el modelo entrenado\n",
    "model.save(model_path)"
   ]
  },
  {
   "cell_type": "markdown",
   "metadata": {},
   "source": [
    "**CARGAR UN MODELO ESPECÍFICO**"
   ]
  },
  {
   "cell_type": "markdown",
   "metadata": {},
   "source": [
    "modelo_cargado = tf.keras.models.load_model('D:/TT/Memoria/waveletycnn/codigo_python/modelos_generados/unet_model_7.keras',\n",
    "                                           custom_objects={'nmse': nmse})"
   ]
  },
  {
   "cell_type": "markdown",
   "metadata": {},
   "source": [
    "**CARGAR COEFICIENTES (MATRIZ COMPLEJA) DE LA SEÑALES PAM ORIGINALES T OBTENER CANTIDAD DE MATRICES COMPLEJAS ENCONTRADAS**"
   ]
  },
  {
   "cell_type": "markdown",
   "metadata": {},
   "source": [
    "input_matrix_complex_pam_dir = 'D:/TT/Memoria/waveletycnn/codigo_python/inputs_coeficientes' # coeficientes de senal PAM original (sin ruido) en formato .mat\n",
    "output_matrix_complex_pam_dir = 'D:/TT/Memoria/waveletycnn/codigo_python/inputs_coeficientes_npy' # coeficientes de senal PAM original (sin ruido) en formato .npy\n",
    "os.makedirs(output_matrix_complex_pam_dir, exist_ok=True) # crear directorio \"output_matrix_complex_pam_dir\" si no existe\n",
    "\n",
    "# Se leen la cantidad de coeficientes o matrices complejas de senales PAM encontradas en el directorio \"input_matrix_complex_pam_dir\"\n",
    "total_matrix_complex_pam = sum(1 for filename in os.listdir(input_matrix_complex_pam_dir) if filename.endswith('.mat')) + 1\n",
    "print(\"Total de matrices complejas PAM encontradas -> \", total_matrix_complex_pam - 1)"
   ]
  },
  {
   "cell_type": "markdown",
   "metadata": {},
   "source": [
    "**TRANSFORMAR A FORMATO .npy LAS MATRICES COMPLEJAS ASOCIADAS A LA SEÑAL ORIGINAL PAM**"
   ]
  },
  {
   "cell_type": "markdown",
   "metadata": {},
   "source": [
    "# Funcion para convertir una matriz compleja de .mat a .npy\n",
    "def convert_mat_to_npy_original_signal(input_dir, output_dir, prefix):\n",
    "    for i in range(1, total_matrix_complex_pam):\n",
    "        mat_file = os.path.join(input_dir, f'{prefix}_{i}.mat')\n",
    "        npy_file = os.path.join(output_dir, f'{prefix}_npy_{i}.npy')\n",
    "        \n",
    "        # Cargar el archivo .mat\n",
    "        mat_data = loadmat(mat_file)\n",
    "        \n",
    "        # Extraer la matriz compleja\n",
    "        matrix_key = [key for key in mat_data.keys() if not key.startswith('__')][0]\n",
    "        matrix = mat_data[matrix_key]\n",
    "        \n",
    "        # Guardar la matriz en formato .npy\n",
    "        np.save(npy_file, matrix)"
   ]
  },
  {
   "cell_type": "markdown",
   "metadata": {},
   "source": [
    "# Convertir las matrices comlejas de senales PAM originales de formato .mat a .npy\n",
    "convert_mat_to_npy_original_signal(input_matrix_complex_pam_dir, output_matrix_complex_pam_dir, 'matrix_complex_pam_to_predict')"
   ]
  },
  {
   "cell_type": "markdown",
   "metadata": {},
   "source": [
    "**PREDECIR COEFICIENTES DE UNA SEÑAL DE VSC A PARTIR DE COEFICIENTES DE UNA SEÑAL PAM**"
   ]
  },
  {
   "cell_type": "markdown",
   "metadata": {},
   "source": [
    "# Funcion para predecir con el modelo entrenado\n",
    "def predecir_coefs(modelo_cargado, input_data):\n",
    "    coefs_predicted = modelo_cargado.predict(input_data)\n",
    "    return coefs_predicted\n"
   ]
  },
  {
   "cell_type": "markdown",
   "metadata": {},
   "source": [
    "# Listar todos los archivos en el directorio\n",
    "archivos_npy_dir = os.listdir(output_matrix_complex_pam_dir)\n",
    "# Filtrar solo los archivos .npy\n",
    "archivos_npy = [f for f in archivos_npy_dir if f.endswith('.npy')]\n",
    "\n",
    "# Cargar una matriz de entrada para hacer una prediccion \n",
    "# Leer el primer archivo .npy\n",
    "nombre_archivo_pam_npy = archivos_npy[0]\n",
    "archivo_pam_npy_dir = os.path.join(output_matrix_complex_pam_dir, nombre_archivo_pam_npy) # ELEGIR ARCHIVOS NPY A LEER (0, 1, 2, 3, 4, ...)\n",
    "\n",
    "#######################\n",
    "# ENTRADA PARA LA RED:\n",
    "######################\n",
    "input_matrix_pam = np.load(archivo_pam_npy_dir)\n",
    "print(\"Archivo cargado:\", archivo_pam_npy_dir)\n",
    "print(\"formato matrix complex input: \",input_matrix_pam.shape)\n",
    "\n",
    "tensor_input_matrix_pam = np.stack((input_matrix_pam.real, input_matrix_pam.imag), axis=-1)\n",
    "print(\"formato matrix complex input como tensor: \",tensor_input_matrix_pam.shape)\n",
    "\n",
    "# Expandir dimensiones para que coincidan con la forma esperada por el modelo\n",
    "tensor_input_matrix_pam = np.expand_dims(tensor_input_matrix_pam, axis=0)\n",
    "print(\"Formato matrix complex input con dimensión adicional:\", tensor_input_matrix_pam.shape)\n"
   ]
  },
  {
   "cell_type": "markdown",
   "metadata": {},
   "source": [
    "**REALIZAR PREDICCIÓN (OBTENCIÓN DE COEFICIENTES DE SEÑAL VSC ESTIMADA)**"
   ]
  },
  {
   "cell_type": "markdown",
   "metadata": {
    "scrolled": true
   },
   "source": [
    "# Realizar la predicción\n",
    "predicted_output = predecir_coefs(modelo_cargado, tensor_input_matrix_pam)\n",
    "\n",
    "# Mostrar la predicción\n",
    "print(\"Prediccion de la primera muestra de entrada:\")\n",
    "print(predicted_output)\n",
    "print(\"Formato de los coeficientes de la senal VSC estimada: \", predicted_output.shape)"
   ]
  },
  {
   "cell_type": "markdown",
   "metadata": {},
   "source": [
    "**TRANSFORMAR LA SALIDA ESTIMADA A UN FORMATO (36, 1024) Y LUEGO DE .npy a .mat**"
   ]
  },
  {
   "cell_type": "markdown",
   "metadata": {},
   "source": [
    "# Transformar la matriz tensor VSC a una matriz compleja de formato .mat\n",
    "# El tensor tiene la forma (1, 36, 1024, 2) y necesitamos transformarlo a (36, 1024) a matriz compleja\n",
    "complex_matrix_vsc = predicted_output[0, :, :, 0] + 1j * predicted_output[0, :, :, 1]\n",
    "print(\"Formato nuevo:\",complex_matrix_vsc.shape)"
   ]
  },
  {
   "cell_type": "markdown",
   "metadata": {},
   "source": [
    "# Especificar la ruta completa del archivo, incluyendo el nombre y la extensión .mat\n",
    "ruta_archivo = \"D:\\TT\\Memoria\\waveletycnn\\codigo_matlab\\codigo_fuente\\coefs_vsc_predicted\\coefs_vsc_predicted.mat\"\n",
    "\n",
    "# Guardar la matriz compleja en el archivo especificado\n",
    "scipy.io.savemat(ruta_archivo, {'complex_matrix_vsc': complex_matrix_vsc})\n"
   ]
  },
  {
   "cell_type": "markdown",
   "metadata": {},
   "source": [
    "**TRANSFORMACIÓN DE COEFICIENTES DE LA SENAL VSC ESTIMADA DE FORMATO .mat a .npy**"
   ]
  },
  {
   "cell_type": "markdown",
   "metadata": {},
   "source": [
    "**GUARDADO DE LA MATRIZ COMPLEJA DE LA VSC ESTIMADA EN UNA CARPETA EN EL DIRECTORIO DE MATLAB EN FORMATO .mat**"
   ]
  },
  {
   "cell_type": "markdown",
   "metadata": {},
   "source": [
    "# Directorio donde se guardara la matriz compleja de la VSC estimada en formato .mat\n",
    "mat_dir = 'D:/TT/Memoria/waveletycnn/codigo_matlab/codigo_fuente/coefs_vsc_predicted'\n",
    "os.makedirs(mat_dir, exist_ok=True) # crear directorio \"mat_dir\" si no existe\n",
    "\n",
    "# Extraer el número como cadena\n",
    "numero_como_cadena = nombre_archivo_pam_npy.split('_')[-1].split('.')[0]\n",
    "\n",
    "# Nombre que tendra el archivo de la matriz compleja d la VSC estimada .mat. Se concatena el numero del archivo estimado\n",
    "mat_filename = f'matrix_complex_vsc_predicted_{numero_como_cadena}.mat'\n",
    "print(mat_filename)\n",
    "\n",
    "# Ruta completa del archivo .mat\n",
    "mat_path = os.path.join(mat_dir, mat_filename)\n",
    "\n",
    "\n",
    "try:\n",
    "    data = scipy.io.loadmat(mat_path)\n",
    "    print(\"El archivo es un archivo .mat válido.\")\n",
    "    print(data.keys())\n",
    "except Exception as e:\n",
    "    print(f\"Error al cargar el archivo .mat: {e}\")\n",
    "\n",
    "\n",
    "# Guardar la matriz compleja en un archivo .mat {nombre archivo: contenido archivo}\n",
    "scipy.io.savemat(mat_path, {mat_filename: complex_matrix_vsc})\n",
    "\n",
    "print(f\"Archivo guardado en: {mat_path}\")"
   ]
  },
  {
   "cell_type": "code",
   "execution_count": null,
   "metadata": {},
   "outputs": [],
   "source": []
  }
 ],
 "metadata": {
  "kernelspec": {
   "display_name": "Python 3 (ipykernel)",
   "language": "python",
   "name": "python3"
  },
  "language_info": {
   "codemirror_mode": {
    "name": "ipython",
    "version": 3
   },
   "file_extension": ".py",
   "mimetype": "text/x-python",
   "name": "python",
   "nbconvert_exporter": "python",
   "pygments_lexer": "ipython3",
   "version": "3.8.0"
  }
 },
 "nbformat": 4,
 "nbformat_minor": 4
}
